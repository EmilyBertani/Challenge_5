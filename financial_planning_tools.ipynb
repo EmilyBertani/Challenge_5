{
 "cells": [
  {
   "cell_type": "markdown",
   "metadata": {},
   "source": [
    "# Financial Planning with APIs and Simulations\n",
    "\n",
    "In this Challenge, you’ll create two financial analysis tools by using a single Jupyter notebook:\n",
    "\n",
    "Part 1: A financial planner for emergencies. The members will be able to use this tool to visualize their current savings. The members can then determine if they have enough reserves for an emergency fund.\n",
    "\n",
    "Part 2: A financial planner for retirement. This tool will forecast the performance of their retirement portfolio in 30 years. To do this, the tool will make an Alpaca API call via the Alpaca SDK to get historical price data for use in Monte Carlo simulations.\n",
    "\n",
    "You’ll use the information from the Monte Carlo simulation to answer questions about the portfolio in your Jupyter notebook.\n",
    "\n"
   ]
  },
  {
   "cell_type": "code",
   "execution_count": 49,
   "metadata": {},
   "outputs": [],
   "source": [
    "# Below we are importing the required libraries and dependencies\n",
    "import os\n",
    "import requests\n",
    "import json\n",
    "import pandas as pd\n",
    "from dotenv import load_dotenv\n",
    "import alpaca_trade_api as tradeapi\n",
    "from MCForecastTools import MCSimulation\n",
    "\n",
    "%matplotlib inline"
   ]
  },
  {
   "cell_type": "code",
   "execution_count": 50,
   "metadata": {},
   "outputs": [
    {
     "data": {
      "text/plain": [
       "True"
      ]
     },
     "execution_count": 50,
     "metadata": {},
     "output_type": "execute_result"
    }
   ],
   "source": [
    "# This loads the environment variables from the .env file\n",
    "load_dotenv()"
   ]
  },
  {
   "cell_type": "markdown",
   "metadata": {},
   "source": [
    "## Part 1: Create a Financial Planner for Emergencies"
   ]
  },
  {
   "cell_type": "markdown",
   "metadata": {},
   "source": [
    "### Evaluate the Cryptocurrency Wallet by Using the Requests Library\n",
    "\n",
    "In this section, you’ll determine the current value of a member’s cryptocurrency wallet. You’ll collect the current prices for the Bitcoin and Ethereum cryptocurrencies by using the Python Requests library. For the prototype, you’ll assume that the member holds the 1.2 Bitcoins (BTC) and 5.3 Ethereum coins (ETH). To do all this, complete the following steps:\n",
    "\n",
    "1. Create a variable named `monthly_income`, and set its value to `12000`.\n",
    "\n",
    "2. Use the Requests library to get the current price (in US dollars) of Bitcoin (BTC) and Ethereum (ETH) by using the API endpoints that the starter code supplies.\n",
    "\n",
    "3. Navigate the JSON response object to access the current price of each coin, and store each in a variable.\n",
    "\n",
    "    > **Hint** Note the specific identifier for each cryptocurrency in the API JSON response. The Bitcoin identifier is `1`, and the Ethereum identifier is `1027`.\n",
    "\n",
    "4. Calculate the value, in US dollars, of the current amount of each cryptocurrency and of the entire cryptocurrency wallet.\n",
    "\n"
   ]
  },
  {
   "cell_type": "code",
   "execution_count": 51,
   "metadata": {},
   "outputs": [],
   "source": [
    "# The current number of coins for each cryptocurrency asset held in the portfolio.\n",
    "btc_coins = 1.2\n",
    "eth_coins = 5.3"
   ]
  },
  {
   "cell_type": "markdown",
   "metadata": {},
   "source": [
    "#### Step 1: Create a variable named `monthly_income`, and set its value to `12000`."
   ]
  },
  {
   "cell_type": "code",
   "execution_count": 52,
   "metadata": {},
   "outputs": [],
   "source": [
    "# Below is the monthly household income for the member\n",
    "monthly_income = 12000\n"
   ]
  },
  {
   "cell_type": "markdown",
   "metadata": {},
   "source": [
    "#### Review the endpoint URLs for the API calls to Free Crypto API in order to get the current pricing information for both BTC and ETH."
   ]
  },
  {
   "cell_type": "code",
   "execution_count": 53,
   "metadata": {},
   "outputs": [],
   "source": [
    "# Setting variables for the Free Crypto API Call endpoint URLs for the cryptocurrencies\n",
    "btc_url = \"https://api.alternative.me/v2/ticker/Bitcoin/?convert=USD\"\n",
    "eth_url = \"https://api.alternative.me/v2/ticker/Ethereum/?convert=USD\""
   ]
  },
  {
   "cell_type": "markdown",
   "metadata": {},
   "source": [
    "#### Step 2. Use the Requests library to get the current price (in US dollars) of Bitcoin (BTC) and Ethereum (ETH) by using the API endpoints that the starter code supplied."
   ]
  },
  {
   "cell_type": "code",
   "execution_count": 54,
   "metadata": {},
   "outputs": [
    {
     "name": "stdout",
     "output_type": "stream",
     "text": [
      "{\n",
      "    \"data\": {\n",
      "        \"1\": {\n",
      "            \"circulating_supply\": 18920000,\n",
      "            \"id\": 1,\n",
      "            \"last_updated\": 1641333698,\n",
      "            \"max_supply\": 21000000,\n",
      "            \"name\": \"Bitcoin\",\n",
      "            \"quotes\": {\n",
      "                \"USD\": {\n",
      "                    \"market_cap\": 876242689666,\n",
      "                    \"percent_change_1h\": -0.0163428444711476,\n",
      "                    \"percent_change_24h\": 0.4099901525901,\n",
      "                    \"percent_change_7d\": -8.76423111574173,\n",
      "                    \"percentage_change_1h\": -0.0163428444711476,\n",
      "                    \"percentage_change_24h\": 0.4099901525901,\n",
      "                    \"percentage_change_7d\": -8.76423111574173,\n",
      "                    \"price\": 46324.0,\n",
      "                    \"volume_24h\": 25356693318\n",
      "                }\n",
      "            },\n",
      "            \"rank\": 1,\n",
      "            \"symbol\": \"BTC\",\n",
      "            \"total_supply\": 18920000,\n",
      "            \"website_slug\": \"bitcoin\"\n",
      "        }\n",
      "    },\n",
      "    \"metadata\": {\n",
      "        \"error\": null,\n",
      "        \"num_cryptocurrencies\": 3105,\n",
      "        \"timestamp\": 1641333698\n",
      "    }\n",
      "}\n"
     ]
    }
   ],
   "source": [
    "# This uses the Python requests library to make an API call to access the current price of BTC\n",
    "btc_response = requests.get(btc_url).json()\n",
    "\n",
    "# The json.dumps function reviews the response data from the API call\n",
    "# The indent and sort_keys parameters make the response object more readable to the user\n",
    "print(json.dumps(btc_response, indent=4, sort_keys=True))"
   ]
  },
  {
   "cell_type": "code",
   "execution_count": 55,
   "metadata": {},
   "outputs": [
    {
     "name": "stdout",
     "output_type": "stream",
     "text": [
      "{\n",
      "    \"data\": {\n",
      "        \"1027\": {\n",
      "            \"circulating_supply\": 119025301,\n",
      "            \"id\": 1027,\n",
      "            \"last_updated\": 1641333672,\n",
      "            \"max_supply\": 0,\n",
      "            \"name\": \"Ethereum\",\n",
      "            \"quotes\": {\n",
      "                \"USD\": {\n",
      "                    \"market_cap\": 454574318763,\n",
      "                    \"percent_change_1h\": 0.121601805218758,\n",
      "                    \"percent_change_24h\": 2.50370558658544,\n",
      "                    \"percent_change_7d\": -5.42529889215277,\n",
      "                    \"percentage_change_1h\": 0.121601805218758,\n",
      "                    \"percentage_change_24h\": 2.50370558658544,\n",
      "                    \"percentage_change_7d\": -5.42529889215277,\n",
      "                    \"price\": 3825.6,\n",
      "                    \"volume_24h\": 14080345176\n",
      "                }\n",
      "            },\n",
      "            \"rank\": 2,\n",
      "            \"symbol\": \"ETH\",\n",
      "            \"total_supply\": 119025301,\n",
      "            \"website_slug\": \"ethereum\"\n",
      "        }\n",
      "    },\n",
      "    \"metadata\": {\n",
      "        \"error\": null,\n",
      "        \"num_cryptocurrencies\": 3105,\n",
      "        \"timestamp\": 1641333672\n",
      "    }\n",
      "}\n"
     ]
    }
   ],
   "source": [
    "# This uses the Python requests library to make an API call to access the current price of ETH\n",
    "eth_response = requests.get(eth_url).json()\n",
    "\n",
    "# The json.dumps function reviews the response data from the API call\n",
    "# The indent and sort_keys parameters make the response object more readable to the user\n",
    "print(json.dumps(eth_response, indent=4, sort_keys=True))"
   ]
  },
  {
   "cell_type": "markdown",
   "metadata": {},
   "source": [
    "#### Step 3: Navigate the JSON response object to access the current price of each coin, and store each in a variable."
   ]
  },
  {
   "cell_type": "code",
   "execution_count": 56,
   "metadata": {},
   "outputs": [
    {
     "name": "stdout",
     "output_type": "stream",
     "text": [
      "46324.0\n"
     ]
    }
   ],
   "source": [
    "# This coding allows us to navigate the BTC response object to access the current price of BTC\n",
    "btc_price = btc_response['data']['1']['quotes']['USD']['price']\n",
    "\n",
    "# Printing the current price of BTC\n",
    "print(btc_price)"
   ]
  },
  {
   "cell_type": "code",
   "execution_count": 57,
   "metadata": {},
   "outputs": [
    {
     "name": "stdout",
     "output_type": "stream",
     "text": [
      "3825.6\n"
     ]
    }
   ],
   "source": [
    "# This coding allows us to navigate the BTC response object to access the current price of ETH\n",
    "eth_price = eth_response['data']['1027']['quotes']['USD']['price']\n",
    "\n",
    "# Printing the current price of ETH\n",
    "print(eth_price)"
   ]
  },
  {
   "cell_type": "markdown",
   "metadata": {},
   "source": [
    "### Step 4: Calculate the value, in US dollars, of the current amount of each cryptocurrency and of the entire cryptocurrency wallet."
   ]
  },
  {
   "cell_type": "code",
   "execution_count": 58,
   "metadata": {},
   "outputs": [
    {
     "name": "stdout",
     "output_type": "stream",
     "text": [
      "55588.799999999996\n"
     ]
    }
   ],
   "source": [
    "# This calculates the current value of the members BTC holding \n",
    "btc_value = btc_coins * btc_price\n",
    "\n",
    "# Printing current value of the members holding in BTC\n",
    "print(btc_value)"
   ]
  },
  {
   "cell_type": "code",
   "execution_count": 59,
   "metadata": {},
   "outputs": [
    {
     "name": "stdout",
     "output_type": "stream",
     "text": [
      "20275.68\n"
     ]
    }
   ],
   "source": [
    "# This calculates the current value of the members ETH holding \n",
    "eth_value = eth_coins * eth_price\n",
    "\n",
    "# Printing current value of the members holding in ETH\n",
    "print(eth_value)"
   ]
  },
  {
   "cell_type": "code",
   "execution_count": 60,
   "metadata": {},
   "outputs": [
    {
     "name": "stdout",
     "output_type": "stream",
     "text": [
      "75864.48\n"
     ]
    }
   ],
   "source": [
    "# This calculates the total value of the members cryptocurrency wallet\n",
    "total_crypto_wallet = btc_value + eth_value\n",
    "\n",
    "# Printing the members current cryptocurrency wallet balance\n",
    "print(total_crypto_wallet)"
   ]
  },
  {
   "cell_type": "markdown",
   "metadata": {},
   "source": [
    "### Evaluate the Stock and Bond Holdings by Using the Alpaca SDK\n",
    "\n",
    "In this section, you’ll determine the current value of a member’s stock and bond holdings. You’ll make an API call to Alpaca via the Alpaca SDK to get the current closing prices of the SPDR S&P 500 ETF Trust (ticker: SPY) and of the iShares Core US Aggregate Bond ETF (ticker: AGG). For the prototype, assume that the member holds 110 shares of SPY, which represents the stock portion of their portfolio, and 200 shares of AGG, which represents the bond portion. To do all this, complete the following steps:\n",
    "\n",
    "1. In the `Starter_Code` folder, create an environment file (`.env`) to store the values of your Alpaca API key and Alpaca secret key.\n",
    "\n",
    "2. Set the variables for the Alpaca API and secret keys. Using the Alpaca SDK, create the Alpaca `tradeapi.REST` object. In this object, include the parameters for the Alpaca API key, the secret key, and the version number.\n",
    "\n",
    "3. Set the following parameters for the Alpaca API call:\n",
    "\n",
    "    - `tickers`: Use the tickers for the member’s stock and bond holdings.\n",
    "\n",
    "    - `timeframe`: Use a time frame of one day.\n",
    "\n",
    "    - `start_date` and `end_date`: Use the same date for these parameters, and format them with the date of the previous weekday (or `2020-08-07`). This is because you want the one closing price for the most-recent trading day.\n",
    "\n",
    "4. Get the current closing prices for `SPY` and `AGG` by using the Alpaca `get_barset` function. Format the response as a Pandas DataFrame by including the `df` property at the end of the `get_barset` function.\n",
    "\n",
    "5. Navigating the Alpaca response DataFrame, select the `SPY` and `AGG` closing prices, and store them as variables.\n",
    "\n",
    "6. Calculate the value, in US dollars, of the current amount of shares in each of the stock and bond portions of the portfolio, and print the results.\n"
   ]
  },
  {
   "cell_type": "markdown",
   "metadata": {},
   "source": [
    "#### Review the total number of shares held in both (SPY) and (AGG)."
   ]
  },
  {
   "cell_type": "code",
   "execution_count": 61,
   "metadata": {},
   "outputs": [],
   "source": [
    "# This is the current amount of shares held in both the stock (SPY) and bond (AGG) portion of the members portfolio\n",
    "spy_shares = 110\n",
    "agg_shares = 200"
   ]
  },
  {
   "cell_type": "markdown",
   "metadata": {},
   "source": [
    "#### Step 1: In the `Starter_Code` folder, create an environment file (`.env`) to store the values of your Alpaca API key and Alpaca secret key."
   ]
  },
  {
   "cell_type": "markdown",
   "metadata": {},
   "source": [
    "#### Step 2: Set the variables for the Alpaca API and secret keys. Using the Alpaca SDK, create the Alpaca `tradeapi.REST` object. In this object, include the parameters for the Alpaca API key, the secret key, and the version number."
   ]
  },
  {
   "cell_type": "code",
   "execution_count": 62,
   "metadata": {},
   "outputs": [],
   "source": [
    "# Setting variables for the Alpaca API and secret keys\n",
    "alpaca_api_key = os.getenv('ALPACA_API_KEY')\n",
    "alpaca_secret_key = os.getenv('ALPACA_SECRET_KEY')\n",
    "\n",
    "# This creates the Alpaca tradeapi.REST object\n",
    "alpaca = tradeapi.REST(\n",
    "    alpaca_api_key,\n",
    "    alpaca_secret_key,\n",
    "    api_version=\"v2\")"
   ]
  },
  {
   "cell_type": "markdown",
   "metadata": {},
   "source": [
    "#### Step 3: Set the following parameters for the Alpaca API call:\n",
    "\n",
    "- `tickers`: Use the tickers for the member’s stock and bond holdings.\n",
    "\n",
    "- `timeframe`: Use a time frame of one day.\n",
    "\n",
    "- `start_date` and `end_date`: Use the same date for these parameters, and format them with the date of the previous weekday (or `2020-08-07`). This is because you want the one closing price for the most-recent trading day.\n"
   ]
  },
  {
   "cell_type": "code",
   "execution_count": 63,
   "metadata": {},
   "outputs": [],
   "source": [
    "# This sets the tickers for both the bond and stock portion of the portfolio\n",
    "tickers = ['SPY', 'AGG']\n",
    "\n",
    "# This sets timeframe to 1 day\n",
    "timeframe = '1D'\n",
    "\n",
    "# The following formats the current date as ISO format\n",
    "# Set both the start and end date at the date of your prior weekday \n",
    "start_date = pd.Timestamp(\"2021-12-29\", tz=\"America/New_York\").isoformat()\n",
    "end_date = pd.Timestamp(\"2021-12-29\", tz=\"America/New_York\").isoformat()"
   ]
  },
  {
   "cell_type": "markdown",
   "metadata": {},
   "source": [
    "#### Step 4: Get the current closing prices for `SPY` and `AGG` by using the Alpaca `get_barset` function. Format the response as a Pandas DataFrame by including the `df` property at the end of the `get_barset` function."
   ]
  },
  {
   "cell_type": "code",
   "execution_count": 64,
   "metadata": {},
   "outputs": [
    {
     "data": {
      "text/html": [
       "<div>\n",
       "<style scoped>\n",
       "    .dataframe tbody tr th:only-of-type {\n",
       "        vertical-align: middle;\n",
       "    }\n",
       "\n",
       "    .dataframe tbody tr th {\n",
       "        vertical-align: top;\n",
       "    }\n",
       "\n",
       "    .dataframe thead tr th {\n",
       "        text-align: left;\n",
       "    }\n",
       "\n",
       "    .dataframe thead tr:last-of-type th {\n",
       "        text-align: right;\n",
       "    }\n",
       "</style>\n",
       "<table border=\"1\" class=\"dataframe\">\n",
       "  <thead>\n",
       "    <tr>\n",
       "      <th></th>\n",
       "      <th colspan=\"5\" halign=\"left\">AGG</th>\n",
       "      <th colspan=\"5\" halign=\"left\">SPY</th>\n",
       "    </tr>\n",
       "    <tr>\n",
       "      <th></th>\n",
       "      <th>open</th>\n",
       "      <th>high</th>\n",
       "      <th>low</th>\n",
       "      <th>close</th>\n",
       "      <th>volume</th>\n",
       "      <th>open</th>\n",
       "      <th>high</th>\n",
       "      <th>low</th>\n",
       "      <th>close</th>\n",
       "      <th>volume</th>\n",
       "    </tr>\n",
       "    <tr>\n",
       "      <th>time</th>\n",
       "      <th></th>\n",
       "      <th></th>\n",
       "      <th></th>\n",
       "      <th></th>\n",
       "      <th></th>\n",
       "      <th></th>\n",
       "      <th></th>\n",
       "      <th></th>\n",
       "      <th></th>\n",
       "      <th></th>\n",
       "    </tr>\n",
       "  </thead>\n",
       "  <tbody>\n",
       "    <tr>\n",
       "      <th>2021-12-29 00:00:00-05:00</th>\n",
       "      <td>113.99</td>\n",
       "      <td>114.05</td>\n",
       "      <td>113.81</td>\n",
       "      <td>113.87</td>\n",
       "      <td>5712959</td>\n",
       "      <td>477</td>\n",
       "      <td>478.56</td>\n",
       "      <td>475.92</td>\n",
       "      <td>477.46</td>\n",
       "      <td>47223213</td>\n",
       "    </tr>\n",
       "  </tbody>\n",
       "</table>\n",
       "</div>"
      ],
      "text/plain": [
       "                              AGG                                   SPY  \\\n",
       "                             open    high     low   close   volume open   \n",
       "time                                                                      \n",
       "2021-12-29 00:00:00-05:00  113.99  114.05  113.81  113.87  5712959  477   \n",
       "\n",
       "                                                             \n",
       "                             high     low   close    volume  \n",
       "time                                                         \n",
       "2021-12-29 00:00:00-05:00  478.56  475.92  477.46  47223213  "
      ]
     },
     "execution_count": 64,
     "metadata": {},
     "output_type": "execute_result"
    }
   ],
   "source": [
    "# This uses the Alpaca get_barset function to get the current closing prices the members portfolio\n",
    "closing_prices = alpaca.get_barset(tickers,timeframe,start=start_date,end=end_date\n",
    ").df\n",
    "\n",
    "\n",
    "# Review the first 5 rows of the Alpaca DataFrame\n",
    "# YOUR CODE HERE\n",
    "closing_prices.head()"
   ]
  },
  {
   "cell_type": "markdown",
   "metadata": {},
   "source": [
    "#### Step 5: Navigating the Alpaca response DataFrame, select the `SPY` and `AGG` closing prices, and store them as variables."
   ]
  },
  {
   "cell_type": "code",
   "execution_count": 65,
   "metadata": {},
   "outputs": [
    {
     "name": "stdout",
     "output_type": "stream",
     "text": [
      "113.87\n"
     ]
    }
   ],
   "source": [
    "# This allows us to access the closing price for AGG from the Alpaca DataFrame\n",
    "agg_close_price = float(closing_prices['AGG']['close'])\n",
    "\n",
    "# Printing the AGG closing price\n",
    "print(agg_close_price)"
   ]
  },
  {
   "cell_type": "code",
   "execution_count": 66,
   "metadata": {},
   "outputs": [
    {
     "name": "stdout",
     "output_type": "stream",
     "text": [
      "477.46\n"
     ]
    }
   ],
   "source": [
    "# This allows us to access the closing price for SPY from the Alpaca DataFrame\n",
    "spy_close_price = float(closing_prices['SPY']['close'])\n",
    "\n",
    "# Printing the SPY closing price\n",
    "print(spy_close_price)"
   ]
  },
  {
   "cell_type": "markdown",
   "metadata": {},
   "source": [
    "#### Step 6: Calculate the value, in US dollars, of the current amount of shares in each of the stock and bond portions of the portfolio, and print the results."
   ]
  },
  {
   "cell_type": "code",
   "execution_count": 67,
   "metadata": {},
   "outputs": [
    {
     "name": "stdout",
     "output_type": "stream",
     "text": [
      "22774.0\n"
     ]
    }
   ],
   "source": [
    "# This calculates the current value of the bond portion of the members portfolio\n",
    "# by multiplying the closing price by the number of shares\n",
    "agg_value = agg_close_price * agg_shares\n",
    "\n",
    "# Printing the current value of the members bond portfolio\n",
    "print(agg_value)"
   ]
  },
  {
   "cell_type": "code",
   "execution_count": 68,
   "metadata": {},
   "outputs": [
    {
     "name": "stdout",
     "output_type": "stream",
     "text": [
      "52520.6\n"
     ]
    }
   ],
   "source": [
    "# This calculates the current value of the stock portion of the members portfolio\n",
    "# by multiplying the closing price by the number of shares\n",
    "spy_value = spy_close_price * spy_shares\n",
    "\n",
    "# Printing the current value of the members stock portfolio\n",
    "print(spy_value)"
   ]
  },
  {
   "cell_type": "code",
   "execution_count": 69,
   "metadata": {},
   "outputs": [
    {
     "name": "stdout",
     "output_type": "stream",
     "text": [
      "75294.6\n"
     ]
    }
   ],
   "source": [
    "# Here we calculate the total value of the stock and bond portion of the portfolio by adding them together\n",
    "total_stocks_bonds = agg_value + spy_value\n",
    "\n",
    "# Printing the current balance of the members stock and bond portion of the portfolio\n",
    "print(total_stocks_bonds)"
   ]
  },
  {
   "cell_type": "code",
   "execution_count": 70,
   "metadata": {},
   "outputs": [
    {
     "name": "stdout",
     "output_type": "stream",
     "text": [
      "151159.08000000002\n"
     ]
    }
   ],
   "source": [
    "# And finally, we can calculate the total value of the member's entire savings portfolio\n",
    "# By adding the value of the cryptocurrency wallet to the value of the total stocks and bonds\n",
    "total_portfolio = total_crypto_wallet + total_stocks_bonds\n",
    "\n",
    "# Printing the members total portfolio balance\n",
    "print(total_portfolio)"
   ]
  },
  {
   "cell_type": "markdown",
   "metadata": {},
   "source": [
    "### Evaluate the Emergency Fund\n",
    "\n",
    "In this section, you’ll use the valuations for the cryptocurrency wallet and for the stock and bond portions of the portfolio to determine if the credit union member has enough savings to build an emergency fund into their financial plan. To do this, complete the following steps:\n",
    "\n",
    "1. Create a Python list named `savings_data` that has two elements. The first element contains the total value of the cryptocurrency wallet. The second element contains the total value of the stock and bond portions of the portfolio.\n",
    "\n",
    "2. Use the `savings_data` list to create a Pandas DataFrame named `savings_df`, and then display this DataFrame. The function to create the DataFrame should take the following three parameters:\n",
    "\n",
    "    - `savings_data`: Use the list that you just created.\n",
    "\n",
    "    - `columns`: Set this parameter equal to a Python list with a single value called `amount`.\n",
    "\n",
    "    - `index`: Set this parameter equal to a Python list with the values of `crypto` and `stock/bond`.\n",
    "\n",
    "3. Use the `savings_df` DataFrame to plot a pie chart that visualizes the composition of the member’s portfolio. The y-axis of the pie chart uses `amount`. Be sure to add a title.\n",
    "\n",
    "4. Using Python, determine if the current portfolio has enough to create an emergency fund as part of the member’s financial plan. Ideally, an emergency fund should equal to three times the member’s monthly income. To do this, implement the following steps:\n",
    "\n",
    "    1. Create a variable named `emergency_fund_value`, and set it equal to three times the value of the member’s `monthly_income` of $12000. (You set this earlier in Part 1).\n",
    "\n",
    "    2. Create a series of three if statements to determine if the member’s total portfolio is large enough to fund the emergency portfolio:\n",
    "\n",
    "        1. If the total portfolio value is greater than the emergency fund value, display a message congratulating the member for having enough money in this fund.\n",
    "\n",
    "        2. Else if the total portfolio value is equal to the emergency fund value, display a message congratulating the member on reaching this important financial goal.\n",
    "\n",
    "        3. Else the total portfolio is less than the emergency fund value, so display a message showing how many dollars away the member is from reaching the goal. (Subtract the total portfolio value from the emergency fund value.)\n"
   ]
  },
  {
   "cell_type": "markdown",
   "metadata": {},
   "source": [
    "#### Step 1: Create a Python list named `savings_data` that has two elements. The first element contains the total value of the cryptocurrency wallet. The second element contains the total value of the stock and bond portions of the portfolio."
   ]
  },
  {
   "cell_type": "code",
   "execution_count": 71,
   "metadata": {},
   "outputs": [
    {
     "name": "stdout",
     "output_type": "stream",
     "text": [
      "[75864.48, 75294.6]\n"
     ]
    }
   ],
   "source": [
    "# Here we consolidate the members financial assets data into a list\n",
    "savings_data = [total_crypto_wallet, total_stocks_bonds]\n",
    "\n",
    "# Printing the list for confirmation\n",
    "print(savings_data)"
   ]
  },
  {
   "cell_type": "markdown",
   "metadata": {},
   "source": [
    "#### Step 2: Use the `savings_data` list to create a Pandas DataFrame named `savings_df`, and then display this DataFrame. The function to create the DataFrame should take the following three parameters:\n",
    "\n",
    "- `savings_data`: Use the list that you just created.\n",
    "\n",
    "- `columns`: Set this parameter equal to a Python list with a single value called `amount`.\n",
    "\n",
    "- `index`: Set this parameter equal to a Python list with the values of `crypto` and `stock/bond`.\n"
   ]
  },
  {
   "cell_type": "code",
   "execution_count": 72,
   "metadata": {},
   "outputs": [
    {
     "data": {
      "text/html": [
       "<div>\n",
       "<style scoped>\n",
       "    .dataframe tbody tr th:only-of-type {\n",
       "        vertical-align: middle;\n",
       "    }\n",
       "\n",
       "    .dataframe tbody tr th {\n",
       "        vertical-align: top;\n",
       "    }\n",
       "\n",
       "    .dataframe thead th {\n",
       "        text-align: right;\n",
       "    }\n",
       "</style>\n",
       "<table border=\"1\" class=\"dataframe\">\n",
       "  <thead>\n",
       "    <tr style=\"text-align: right;\">\n",
       "      <th></th>\n",
       "      <th>amount</th>\n",
       "    </tr>\n",
       "  </thead>\n",
       "  <tbody>\n",
       "    <tr>\n",
       "      <th>crypto</th>\n",
       "      <td>75864.48</td>\n",
       "    </tr>\n",
       "    <tr>\n",
       "      <th>stock/bond</th>\n",
       "      <td>75294.60</td>\n",
       "    </tr>\n",
       "  </tbody>\n",
       "</table>\n",
       "</div>"
      ],
      "text/plain": [
       "              amount\n",
       "crypto      75864.48\n",
       "stock/bond  75294.60"
      ]
     },
     "metadata": {},
     "output_type": "display_data"
    }
   ],
   "source": [
    "# Now we can create a DataFrame of the financial assets\n",
    "savings_df = pd.DataFrame(savings_data, columns = ['amount'], index = ['crypto', 'stock/bond'])\n",
    "\n",
    "# This displays the dataframe with appropriate columns and index names\n",
    "display(savings_df)"
   ]
  },
  {
   "cell_type": "markdown",
   "metadata": {},
   "source": [
    "#### Step 3: Use the `savings_df` DataFrame to plot a pie chart that visualizes the composition of the member’s portfolio. The y-axis of the pie chart uses `amount`. Be sure to add a title."
   ]
  },
  {
   "cell_type": "code",
   "execution_count": 73,
   "metadata": {},
   "outputs": [
    {
     "data": {
      "text/plain": [
       "<AxesSubplot:title={'center':'Total Value of Portfolio: Crypto and Stocks + Bonds'}, ylabel='amount'>"
      ]
     },
     "execution_count": 73,
     "metadata": {},
     "output_type": "execute_result"
    },
    {
     "data": {
      "image/png": "[encoded data removed]",
      "text/plain": [
       "<Figure size 432x288 with 1 Axes>"
      ]
     },
     "metadata": {},
     "output_type": "display_data"
    }
   ],
   "source": [
    "# Plot the total value of the member's portfolio (crypto and stock/bond) in a pie chart\n",
    "savings_df.plot.pie(y='amount', title = 'Total Value of Portfolio: Crypto and Stocks + Bonds')"
   ]
  },
  {
   "cell_type": "markdown",
   "metadata": {},
   "source": [
    "#### Step 4: Using Python, determine if the current portfolio has enough to create an emergency fund as part of the member’s financial plan. Ideally, an emergency fund should equal to three times the member’s monthly income. To do this, implement the following steps:\n",
    "\n",
    "Step 1. Create a variable named `emergency_fund_value`, and set it equal to three times the value of the member’s `monthly_income` of 12000. (You set this earlier in Part 1).\n",
    "\n",
    "Step 2. Create a series of three if statements to determine if the member’s total portfolio is large enough to fund the emergency portfolio:\n",
    "\n",
    "* If the total portfolio value is greater than the emergency fund value, display a message congratulating the member for having enough money in this fund.\n",
    "\n",
    "* Else if the total portfolio value is equal to the emergency fund value, display a message congratulating the member on reaching this important financial goal.\n",
    "\n",
    "* Else the total portfolio is less than the emergency fund value, so display a message showing how many dollars away the member is from reaching the goal. (Subtract the total portfolio value from the emergency fund value.)\n"
   ]
  },
  {
   "cell_type": "markdown",
   "metadata": {},
   "source": [
    "##### Step 4-1: Create a variable named `emergency_fund_value`, and set it equal to three times the value of the member’s `monthly_income` of 12000. (You set this earlier in Part 1)."
   ]
  },
  {
   "cell_type": "code",
   "execution_count": 74,
   "metadata": {},
   "outputs": [
    {
     "name": "stdout",
     "output_type": "stream",
     "text": [
      "36000\n"
     ]
    }
   ],
   "source": [
    "# Starting the process to determine if the member has enough asset in their portfolio to create an emergency fund\n",
    "# so we start by setting the preferred emergency fund value as three times the members monthly income\n",
    "emergency_fund_value = monthly_income * 3\n",
    "print(emergency_fund_value)"
   ]
  },
  {
   "cell_type": "markdown",
   "metadata": {},
   "source": [
    "##### Step 4-2: Create a series of three if statements to determine if the member’s total portfolio is large enough to fund the emergency portfolio:\n",
    "\n",
    "* If the total portfolio value is greater than the emergency fund value, display a message congratulating the member for having enough money in this fund.\n",
    "\n",
    "* Else if the total portfolio value is equal to the emergency fund value, display a message congratulating the member on reaching this important financial goal.\n",
    "\n",
    "* Else the total portfolio is less than the emergency fund value, so display a message showing how many dollars away the member is from reaching the goal. (Subtract the total portfolio value from the emergency fund value.)"
   ]
  },
  {
   "cell_type": "code",
   "execution_count": 75,
   "metadata": {},
   "outputs": [
    {
     "name": "stdout",
     "output_type": "stream",
     "text": [
      "Congratulations! You have enough assets in your total portfolio to have an emergency fund.\n"
     ]
    }
   ],
   "source": [
    "# Here we can determine if the member has enough assets in their portfolio to create an emergency fund\n",
    "if total_portfolio > emergency_fund_value:\n",
    "    print('Congratulations! You have enough assets in your total portfolio to have an emergency fund.')\n",
    "elif total_portfolio == emergency_fund_value:\n",
    "    print('Congratulations! You have just enough asset in your total portfolio.')\n",
    "else:\n",
    "    print(f\"You will need ({emergency_fund_value} - {total_portfolio}) to reach your goal of starting an emergency fund.\")"
   ]
  },
  {
   "cell_type": "markdown",
   "metadata": {},
   "source": [
    "## Part 2: Create a Financial Planner for Retirement"
   ]
  },
  {
   "cell_type": "markdown",
   "metadata": {},
   "source": [
    "### Create the Monte Carlo Simulation\n",
    "\n",
    "In this section, you’ll use the MCForecastTools library to create a Monte Carlo simulation for the member’s savings portfolio. To do this, complete the following steps:\n",
    "\n",
    "1. Make an API call via the Alpaca SDK to get 3 years of historical closing prices for a traditional 60/40 portfolio split: 60% stocks (SPY) and 40% bonds (AGG).\n",
    "\n",
    "2. Run a Monte Carlo simulation of 500 samples and 30 years for the 60/40 portfolio, and then plot the results.The following image shows the overlay line plot resulting from a simulation with these characteristics. However, because a random number generator is used to run each live Monte Carlo simulation, your image will differ slightly from this exact image:\n",
    "\n",
    "![A screenshot depicts the resulting plot.](Images/5-4-monte-carlo-line-plot.png)\n",
    "\n",
    "3. Plot the probability distribution of the Monte Carlo simulation. Plot the probability distribution of the Monte Carlo simulation. The following image shows the histogram plot resulting from a simulation with these characteristics. However, because a random number generator is used to run each live Monte Carlo simulation, your image will differ slightly from this exact image:\n",
    "\n",
    "![A screenshot depicts the histogram plot.](Images/5-4-monte-carlo-histogram.png)\n",
    "\n",
    "4. Generate the summary statistics for the Monte Carlo simulation.\n",
    "\n"
   ]
  },
  {
   "cell_type": "markdown",
   "metadata": {},
   "source": [
    "#### Step 1: Make an API call via the Alpaca SDK to get 3 years of historical closing prices for a traditional 60/40 portfolio split: 60% stocks (SPY) and 40% bonds (AGG)."
   ]
  },
  {
   "cell_type": "code",
   "execution_count": 78,
   "metadata": {},
   "outputs": [],
   "source": [
    "# Set start and end dates of 3 years back from your current date\n",
    "# Alternatively, you can use an end date of 2020-08-07 and work 3 years back from that date \n",
    "start_date = pd.Timestamp('2019-01-04', tz = \"America/New_York\").isoformat()\n",
    "end_date = pd.Timestamp('2022-01-03', tz = \"America/New_York\").isoformat()\n",
    "# Set number of rows to 1000 to retrieve the maximum amount of rows\n",
    "limit_rows = 1000"
   ]
  },
  {
   "cell_type": "code",
   "execution_count": 80,
   "metadata": {},
   "outputs": [
    {
     "data": {
      "text/html": [
       "<div>\n",
       "<style scoped>\n",
       "    .dataframe tbody tr th:only-of-type {\n",
       "        vertical-align: middle;\n",
       "    }\n",
       "\n",
       "    .dataframe tbody tr th {\n",
       "        vertical-align: top;\n",
       "    }\n",
       "\n",
       "    .dataframe thead tr th {\n",
       "        text-align: left;\n",
       "    }\n",
       "\n",
       "    .dataframe thead tr:last-of-type th {\n",
       "        text-align: right;\n",
       "    }\n",
       "</style>\n",
       "<table border=\"1\" class=\"dataframe\">\n",
       "  <thead>\n",
       "    <tr>\n",
       "      <th></th>\n",
       "      <th colspan=\"5\" halign=\"left\">AGG</th>\n",
       "      <th colspan=\"5\" halign=\"left\">SPY</th>\n",
       "    </tr>\n",
       "    <tr>\n",
       "      <th></th>\n",
       "      <th>open</th>\n",
       "      <th>high</th>\n",
       "      <th>low</th>\n",
       "      <th>close</th>\n",
       "      <th>volume</th>\n",
       "      <th>open</th>\n",
       "      <th>high</th>\n",
       "      <th>low</th>\n",
       "      <th>close</th>\n",
       "      <th>volume</th>\n",
       "    </tr>\n",
       "    <tr>\n",
       "      <th>time</th>\n",
       "      <th></th>\n",
       "      <th></th>\n",
       "      <th></th>\n",
       "      <th></th>\n",
       "      <th></th>\n",
       "      <th></th>\n",
       "      <th></th>\n",
       "      <th></th>\n",
       "      <th></th>\n",
       "      <th></th>\n",
       "    </tr>\n",
       "  </thead>\n",
       "  <tbody>\n",
       "    <tr>\n",
       "      <th>2019-01-04 00:00:00-05:00</th>\n",
       "      <td>106.66</td>\n",
       "      <td>106.72</td>\n",
       "      <td>106.55</td>\n",
       "      <td>106.695</td>\n",
       "      <td>7755476.0</td>\n",
       "      <td>247.59</td>\n",
       "      <td>253.11</td>\n",
       "      <td>247.17</td>\n",
       "      <td>252.41</td>\n",
       "      <td>122528832</td>\n",
       "    </tr>\n",
       "    <tr>\n",
       "      <th>2019-01-07 00:00:00-05:00</th>\n",
       "      <td>106.72</td>\n",
       "      <td>106.79</td>\n",
       "      <td>106.46</td>\n",
       "      <td>106.470</td>\n",
       "      <td>6545877.0</td>\n",
       "      <td>252.69</td>\n",
       "      <td>255.95</td>\n",
       "      <td>251.69</td>\n",
       "      <td>254.40</td>\n",
       "      <td>88317608</td>\n",
       "    </tr>\n",
       "    <tr>\n",
       "      <th>2019-01-08 00:00:00-05:00</th>\n",
       "      <td>106.40</td>\n",
       "      <td>106.53</td>\n",
       "      <td>105.53</td>\n",
       "      <td>106.420</td>\n",
       "      <td>3818241.0</td>\n",
       "      <td>256.82</td>\n",
       "      <td>257.31</td>\n",
       "      <td>254.00</td>\n",
       "      <td>256.65</td>\n",
       "      <td>88864452</td>\n",
       "    </tr>\n",
       "    <tr>\n",
       "      <th>2019-01-09 00:00:00-05:00</th>\n",
       "      <td>106.42</td>\n",
       "      <td>106.57</td>\n",
       "      <td>105.95</td>\n",
       "      <td>106.480</td>\n",
       "      <td>5163839.0</td>\n",
       "      <td>257.56</td>\n",
       "      <td>258.91</td>\n",
       "      <td>241.40</td>\n",
       "      <td>257.71</td>\n",
       "      <td>77555720</td>\n",
       "    </tr>\n",
       "    <tr>\n",
       "      <th>2019-01-10 00:00:00-05:00</th>\n",
       "      <td>106.52</td>\n",
       "      <td>106.56</td>\n",
       "      <td>106.33</td>\n",
       "      <td>106.385</td>\n",
       "      <td>3441214.0</td>\n",
       "      <td>256.26</td>\n",
       "      <td>259.16</td>\n",
       "      <td>255.50</td>\n",
       "      <td>258.94</td>\n",
       "      <td>85909797</td>\n",
       "    </tr>\n",
       "  </tbody>\n",
       "</table>\n",
       "</div>"
      ],
      "text/plain": [
       "                              AGG                                         SPY  \\\n",
       "                             open    high     low    close     volume    open   \n",
       "time                                                                            \n",
       "2019-01-04 00:00:00-05:00  106.66  106.72  106.55  106.695  7755476.0  247.59   \n",
       "2019-01-07 00:00:00-05:00  106.72  106.79  106.46  106.470  6545877.0  252.69   \n",
       "2019-01-08 00:00:00-05:00  106.40  106.53  105.53  106.420  3818241.0  256.82   \n",
       "2019-01-09 00:00:00-05:00  106.42  106.57  105.95  106.480  5163839.0  257.56   \n",
       "2019-01-10 00:00:00-05:00  106.52  106.56  106.33  106.385  3441214.0  256.26   \n",
       "\n",
       "                                                              \n",
       "                             high     low   close     volume  \n",
       "time                                                          \n",
       "2019-01-04 00:00:00-05:00  253.11  247.17  252.41  122528832  \n",
       "2019-01-07 00:00:00-05:00  255.95  251.69  254.40   88317608  \n",
       "2019-01-08 00:00:00-05:00  257.31  254.00  256.65   88864452  \n",
       "2019-01-09 00:00:00-05:00  258.91  241.40  257.71   77555720  \n",
       "2019-01-10 00:00:00-05:00  259.16  255.50  258.94   85909797  "
      ]
     },
     "metadata": {},
     "output_type": "display_data"
    },
    {
     "data": {
      "text/html": [
       "<div>\n",
       "<style scoped>\n",
       "    .dataframe tbody tr th:only-of-type {\n",
       "        vertical-align: middle;\n",
       "    }\n",
       "\n",
       "    .dataframe tbody tr th {\n",
       "        vertical-align: top;\n",
       "    }\n",
       "\n",
       "    .dataframe thead tr th {\n",
       "        text-align: left;\n",
       "    }\n",
       "\n",
       "    .dataframe thead tr:last-of-type th {\n",
       "        text-align: right;\n",
       "    }\n",
       "</style>\n",
       "<table border=\"1\" class=\"dataframe\">\n",
       "  <thead>\n",
       "    <tr>\n",
       "      <th></th>\n",
       "      <th colspan=\"5\" halign=\"left\">AGG</th>\n",
       "      <th colspan=\"5\" halign=\"left\">SPY</th>\n",
       "    </tr>\n",
       "    <tr>\n",
       "      <th></th>\n",
       "      <th>open</th>\n",
       "      <th>high</th>\n",
       "      <th>low</th>\n",
       "      <th>close</th>\n",
       "      <th>volume</th>\n",
       "      <th>open</th>\n",
       "      <th>high</th>\n",
       "      <th>low</th>\n",
       "      <th>close</th>\n",
       "      <th>volume</th>\n",
       "    </tr>\n",
       "    <tr>\n",
       "      <th>time</th>\n",
       "      <th></th>\n",
       "      <th></th>\n",
       "      <th></th>\n",
       "      <th></th>\n",
       "      <th></th>\n",
       "      <th></th>\n",
       "      <th></th>\n",
       "      <th></th>\n",
       "      <th></th>\n",
       "      <th></th>\n",
       "    </tr>\n",
       "  </thead>\n",
       "  <tbody>\n",
       "    <tr>\n",
       "      <th>2021-12-28 00:00:00-05:00</th>\n",
       "      <td>114.43</td>\n",
       "      <td>114.4500</td>\n",
       "      <td>114.17</td>\n",
       "      <td>114.22</td>\n",
       "      <td>4892072.0</td>\n",
       "      <td>477.72</td>\n",
       "      <td>478.81</td>\n",
       "      <td>476.06</td>\n",
       "      <td>476.89</td>\n",
       "      <td>37370466</td>\n",
       "    </tr>\n",
       "    <tr>\n",
       "      <th>2021-12-29 00:00:00-05:00</th>\n",
       "      <td>113.99</td>\n",
       "      <td>114.0500</td>\n",
       "      <td>113.81</td>\n",
       "      <td>113.87</td>\n",
       "      <td>5712959.0</td>\n",
       "      <td>477.00</td>\n",
       "      <td>478.56</td>\n",
       "      <td>475.92</td>\n",
       "      <td>477.46</td>\n",
       "      <td>47223213</td>\n",
       "    </tr>\n",
       "    <tr>\n",
       "      <th>2021-12-30 00:00:00-05:00</th>\n",
       "      <td>113.99</td>\n",
       "      <td>114.1300</td>\n",
       "      <td>113.83</td>\n",
       "      <td>114.12</td>\n",
       "      <td>5044053.0</td>\n",
       "      <td>477.93</td>\n",
       "      <td>479.00</td>\n",
       "      <td>475.67</td>\n",
       "      <td>476.15</td>\n",
       "      <td>44681636</td>\n",
       "    </tr>\n",
       "    <tr>\n",
       "      <th>2021-12-31 00:00:00-05:00</th>\n",
       "      <td>114.15</td>\n",
       "      <td>114.3100</td>\n",
       "      <td>114.06</td>\n",
       "      <td>114.09</td>\n",
       "      <td>6557778.0</td>\n",
       "      <td>475.64</td>\n",
       "      <td>476.86</td>\n",
       "      <td>474.67</td>\n",
       "      <td>474.89</td>\n",
       "      <td>51212452</td>\n",
       "    </tr>\n",
       "    <tr>\n",
       "      <th>2022-01-03 00:00:00-05:00</th>\n",
       "      <td>113.67</td>\n",
       "      <td>113.6753</td>\n",
       "      <td>113.31</td>\n",
       "      <td>113.31</td>\n",
       "      <td>8906643.0</td>\n",
       "      <td>476.32</td>\n",
       "      <td>477.85</td>\n",
       "      <td>473.85</td>\n",
       "      <td>477.76</td>\n",
       "      <td>56128214</td>\n",
       "    </tr>\n",
       "  </tbody>\n",
       "</table>\n",
       "</div>"
      ],
      "text/plain": [
       "                              AGG                                       \\\n",
       "                             open      high     low   close     volume   \n",
       "time                                                                     \n",
       "2021-12-28 00:00:00-05:00  114.43  114.4500  114.17  114.22  4892072.0   \n",
       "2021-12-29 00:00:00-05:00  113.99  114.0500  113.81  113.87  5712959.0   \n",
       "2021-12-30 00:00:00-05:00  113.99  114.1300  113.83  114.12  5044053.0   \n",
       "2021-12-31 00:00:00-05:00  114.15  114.3100  114.06  114.09  6557778.0   \n",
       "2022-01-03 00:00:00-05:00  113.67  113.6753  113.31  113.31  8906643.0   \n",
       "\n",
       "                              SPY                                    \n",
       "                             open    high     low   close    volume  \n",
       "time                                                                 \n",
       "2021-12-28 00:00:00-05:00  477.72  478.81  476.06  476.89  37370466  \n",
       "2021-12-29 00:00:00-05:00  477.00  478.56  475.92  477.46  47223213  \n",
       "2021-12-30 00:00:00-05:00  477.93  479.00  475.67  476.15  44681636  \n",
       "2021-12-31 00:00:00-05:00  475.64  476.86  474.67  474.89  51212452  \n",
       "2022-01-03 00:00:00-05:00  476.32  477.85  473.85  477.76  56128214  "
      ]
     },
     "metadata": {},
     "output_type": "display_data"
    }
   ],
   "source": [
    "# Use the Alpaca get_barset function to make the API call to get the 3 years worth of pricing data\n",
    "# The tickers and timeframe parameters should have been set in Part 1 of this activity \n",
    "# The start and end dates should be updated with the information set above\n",
    "# Remember to add the df property to the end of the call so the response is returned as a DataFrame\n",
    "# YOUR CODE HERE\n",
    "closing_prices_df = alpaca.get_barset(\n",
    "\ttickers,\n",
    "\ttimeframe,\n",
    "\tstart=start_date,\n",
    "\tend=end_date,\n",
    "\tlimit=limit_rows\n",
    ").df\n",
    "\n",
    "# Display both the first and last five rows of the DataFrame\n",
    "# YOUR CODE HERE\n",
    "# YOUR CODE HERE\n",
    "display(closing_prices_df.head())\n",
    "display(closing_prices_df.tail())"
   ]
  },
  {
   "cell_type": "markdown",
   "metadata": {},
   "source": [
    "#### Step 2: Run a Monte Carlo simulation of 500 samples and 30 years for the 60/40 portfolio, and then plot the results."
   ]
  },
  {
   "cell_type": "code",
   "execution_count": 81,
   "metadata": {},
   "outputs": [
    {
     "data": {
      "text/plain": [
       "\u001b[0;31mInit signature:\u001b[0m\n",
       "\u001b[0mMCSimulation\u001b[0m\u001b[0;34m(\u001b[0m\u001b[0;34m\u001b[0m\n",
       "\u001b[0;34m\u001b[0m    \u001b[0mportfolio_data\u001b[0m\u001b[0;34m,\u001b[0m\u001b[0;34m\u001b[0m\n",
       "\u001b[0;34m\u001b[0m    \u001b[0mweights\u001b[0m\u001b[0;34m=\u001b[0m\u001b[0;34m''\u001b[0m\u001b[0;34m,\u001b[0m\u001b[0;34m\u001b[0m\n",
       "\u001b[0;34m\u001b[0m    \u001b[0mnum_simulation\u001b[0m\u001b[0;34m=\u001b[0m\u001b[0;36m1000\u001b[0m\u001b[0;34m,\u001b[0m\u001b[0;34m\u001b[0m\n",
       "\u001b[0;34m\u001b[0m    \u001b[0mnum_trading_days\u001b[0m\u001b[0;34m=\u001b[0m\u001b[0;36m252\u001b[0m\u001b[0;34m,\u001b[0m\u001b[0;34m\u001b[0m\n",
       "\u001b[0;34m\u001b[0m\u001b[0;34m)\u001b[0m\u001b[0;34m\u001b[0m\u001b[0;34m\u001b[0m\u001b[0m\n",
       "\u001b[0;31mDocstring:\u001b[0m     \n",
       "A Python class for runnning Monte Carlo simulation on portfolio price data. \n",
       "\n",
       "...\n",
       "\n",
       "Attributes\n",
       "----------\n",
       "portfolio_data : pandas.DataFrame\n",
       "    portfolio dataframe\n",
       "weights: list(float)\n",
       "    portfolio investment breakdown\n",
       "nSim: int\n",
       "    number of samples in simulation\n",
       "nTrading: int\n",
       "    number of trading days to simulate\n",
       "simulated_return : pandas.DataFrame\n",
       "    Simulated data from Monte Carlo\n",
       "confidence_interval : pandas.Series\n",
       "    the 95% confidence intervals for simulated final cumulative returns\n",
       "    \n",
       "\u001b[0;31mInit docstring:\u001b[0m\n",
       "Constructs all the necessary attributes for the MCSimulation object.\n",
       "\n",
       "Parameters\n",
       "----------\n",
       "portfolio_data: pandas.DataFrame\n",
       "    DataFrame containing stock price information from Alpaca API\n",
       "weights: list(float)\n",
       "    A list fractions representing percentage of total investment per stock. DEFAULT: Equal distribution\n",
       "num_simulation: int\n",
       "    Number of simulation samples. DEFAULT: 1000 simulation samples\n",
       "num_trading_days: int\n",
       "    Number of trading days to simulate. DEFAULT: 252 days (1 year of business days)\n",
       "\u001b[0;31mFile:\u001b[0m           ~/Desktop/Chal_5_Starter_Code/MCForecastTools.py\n",
       "\u001b[0;31mType:\u001b[0m           type\n",
       "\u001b[0;31mSubclasses:\u001b[0m     \n"
      ]
     },
     "metadata": {},
     "output_type": "display_data"
    }
   ],
   "source": [
    "# This allows us to import the MCSimulation module from the MCForecastTools library file\n",
    "from MCForecastTools import MCSimulation\n",
    "\n",
    "# This prints the documentation of the MCSimulation module of the MCForecastTools library\n",
    "?MCSimulation\n"
   ]
  },
  {
   "cell_type": "code",
   "execution_count": 104,
   "metadata": {},
   "outputs": [
    {
     "name": "stdout",
     "output_type": "stream",
     "text": [
      "Running Monte Carlo simulation number 0.\n",
      "Running Monte Carlo simulation number 10.\n",
      "Running Monte Carlo simulation number 20.\n",
      "Running Monte Carlo simulation number 30.\n",
      "Running Monte Carlo simulation number 40.\n",
      "Running Monte Carlo simulation number 50.\n",
      "Running Monte Carlo simulation number 60.\n",
      "Running Monte Carlo simulation number 70.\n",
      "Running Monte Carlo simulation number 80.\n",
      "Running Monte Carlo simulation number 90.\n",
      "Running Monte Carlo simulation number 100.\n",
      "Running Monte Carlo simulation number 110.\n",
      "Running Monte Carlo simulation number 120.\n",
      "Running Monte Carlo simulation number 130.\n",
      "Running Monte Carlo simulation number 140.\n",
      "Running Monte Carlo simulation number 150.\n",
      "Running Monte Carlo simulation number 160.\n",
      "Running Monte Carlo simulation number 170.\n",
      "Running Monte Carlo simulation number 180.\n",
      "Running Monte Carlo simulation number 190.\n",
      "Running Monte Carlo simulation number 200.\n",
      "Running Monte Carlo simulation number 210.\n",
      "Running Monte Carlo simulation number 220.\n",
      "Running Monte Carlo simulation number 230.\n",
      "Running Monte Carlo simulation number 240.\n",
      "Running Monte Carlo simulation number 250.\n",
      "Running Monte Carlo simulation number 260.\n",
      "Running Monte Carlo simulation number 270.\n",
      "Running Monte Carlo simulation number 280.\n",
      "Running Monte Carlo simulation number 290.\n",
      "Running Monte Carlo simulation number 300.\n",
      "Running Monte Carlo simulation number 310.\n",
      "Running Monte Carlo simulation number 320.\n",
      "Running Monte Carlo simulation number 330.\n",
      "Running Monte Carlo simulation number 340.\n",
      "Running Monte Carlo simulation number 350.\n",
      "Running Monte Carlo simulation number 360.\n",
      "Running Monte Carlo simulation number 370.\n",
      "Running Monte Carlo simulation number 380.\n",
      "Running Monte Carlo simulation number 390.\n",
      "Running Monte Carlo simulation number 400.\n",
      "Running Monte Carlo simulation number 410.\n",
      "Running Monte Carlo simulation number 420.\n",
      "Running Monte Carlo simulation number 430.\n",
      "Running Monte Carlo simulation number 440.\n",
      "Running Monte Carlo simulation number 450.\n",
      "Running Monte Carlo simulation number 460.\n",
      "Running Monte Carlo simulation number 470.\n",
      "Running Monte Carlo simulation number 480.\n",
      "Running Monte Carlo simulation number 490.\n"
     ]
    },
    {
     "data": {
      "text/html": [
       "<div>\n",
       "<style scoped>\n",
       "    .dataframe tbody tr th:only-of-type {\n",
       "        vertical-align: middle;\n",
       "    }\n",
       "\n",
       "    .dataframe tbody tr th {\n",
       "        vertical-align: top;\n",
       "    }\n",
       "\n",
       "    .dataframe thead th {\n",
       "        text-align: right;\n",
       "    }\n",
       "</style>\n",
       "<table border=\"1\" class=\"dataframe\">\n",
       "  <thead>\n",
       "    <tr style=\"text-align: right;\">\n",
       "      <th></th>\n",
       "      <th>0</th>\n",
       "      <th>1</th>\n",
       "      <th>2</th>\n",
       "      <th>3</th>\n",
       "      <th>4</th>\n",
       "      <th>5</th>\n",
       "      <th>6</th>\n",
       "      <th>7</th>\n",
       "      <th>8</th>\n",
       "      <th>9</th>\n",
       "      <th>...</th>\n",
       "      <th>490</th>\n",
       "      <th>491</th>\n",
       "      <th>492</th>\n",
       "      <th>493</th>\n",
       "      <th>494</th>\n",
       "      <th>495</th>\n",
       "      <th>496</th>\n",
       "      <th>497</th>\n",
       "      <th>498</th>\n",
       "      <th>499</th>\n",
       "    </tr>\n",
       "  </thead>\n",
       "  <tbody>\n",
       "    <tr>\n",
       "      <th>0</th>\n",
       "      <td>1.000000</td>\n",
       "      <td>1.000000</td>\n",
       "      <td>1.000000</td>\n",
       "      <td>1.000000</td>\n",
       "      <td>1.000000</td>\n",
       "      <td>1.000000</td>\n",
       "      <td>1.000000</td>\n",
       "      <td>1.000000</td>\n",
       "      <td>1.000000</td>\n",
       "      <td>1.000000</td>\n",
       "      <td>...</td>\n",
       "      <td>1.000000</td>\n",
       "      <td>1.000000</td>\n",
       "      <td>1.000000</td>\n",
       "      <td>1.000000</td>\n",
       "      <td>1.000000</td>\n",
       "      <td>1.000000</td>\n",
       "      <td>1.000000</td>\n",
       "      <td>1.000000</td>\n",
       "      <td>1.000000</td>\n",
       "      <td>1.000000</td>\n",
       "    </tr>\n",
       "    <tr>\n",
       "      <th>1</th>\n",
       "      <td>0.998528</td>\n",
       "      <td>0.997056</td>\n",
       "      <td>0.999944</td>\n",
       "      <td>1.005234</td>\n",
       "      <td>1.007830</td>\n",
       "      <td>0.998833</td>\n",
       "      <td>0.992753</td>\n",
       "      <td>0.999537</td>\n",
       "      <td>0.995454</td>\n",
       "      <td>0.987021</td>\n",
       "      <td>...</td>\n",
       "      <td>1.004420</td>\n",
       "      <td>1.005464</td>\n",
       "      <td>1.004417</td>\n",
       "      <td>1.002666</td>\n",
       "      <td>1.028615</td>\n",
       "      <td>0.990259</td>\n",
       "      <td>1.008304</td>\n",
       "      <td>1.001126</td>\n",
       "      <td>0.999407</td>\n",
       "      <td>1.007593</td>\n",
       "    </tr>\n",
       "    <tr>\n",
       "      <th>2</th>\n",
       "      <td>0.993946</td>\n",
       "      <td>0.998089</td>\n",
       "      <td>0.999545</td>\n",
       "      <td>0.992444</td>\n",
       "      <td>0.998029</td>\n",
       "      <td>0.985276</td>\n",
       "      <td>0.984567</td>\n",
       "      <td>0.999020</td>\n",
       "      <td>0.997161</td>\n",
       "      <td>0.997140</td>\n",
       "      <td>...</td>\n",
       "      <td>0.999386</td>\n",
       "      <td>1.014021</td>\n",
       "      <td>1.003892</td>\n",
       "      <td>0.986370</td>\n",
       "      <td>1.018414</td>\n",
       "      <td>0.999768</td>\n",
       "      <td>1.005033</td>\n",
       "      <td>1.000678</td>\n",
       "      <td>1.002220</td>\n",
       "      <td>1.004764</td>\n",
       "    </tr>\n",
       "    <tr>\n",
       "      <th>3</th>\n",
       "      <td>0.999233</td>\n",
       "      <td>1.006582</td>\n",
       "      <td>0.994453</td>\n",
       "      <td>1.001195</td>\n",
       "      <td>0.986571</td>\n",
       "      <td>0.987223</td>\n",
       "      <td>0.988846</td>\n",
       "      <td>0.986389</td>\n",
       "      <td>1.007517</td>\n",
       "      <td>1.009620</td>\n",
       "      <td>...</td>\n",
       "      <td>1.005197</td>\n",
       "      <td>0.999723</td>\n",
       "      <td>0.999926</td>\n",
       "      <td>0.990849</td>\n",
       "      <td>1.016597</td>\n",
       "      <td>1.003911</td>\n",
       "      <td>1.012500</td>\n",
       "      <td>0.999054</td>\n",
       "      <td>0.989343</td>\n",
       "      <td>1.003463</td>\n",
       "    </tr>\n",
       "    <tr>\n",
       "      <th>4</th>\n",
       "      <td>1.003981</td>\n",
       "      <td>0.999066</td>\n",
       "      <td>0.999105</td>\n",
       "      <td>1.006769</td>\n",
       "      <td>0.984263</td>\n",
       "      <td>1.006621</td>\n",
       "      <td>0.995130</td>\n",
       "      <td>0.982583</td>\n",
       "      <td>1.010011</td>\n",
       "      <td>1.003826</td>\n",
       "      <td>...</td>\n",
       "      <td>1.014553</td>\n",
       "      <td>1.005045</td>\n",
       "      <td>0.998525</td>\n",
       "      <td>0.991642</td>\n",
       "      <td>1.025766</td>\n",
       "      <td>1.003816</td>\n",
       "      <td>1.013853</td>\n",
       "      <td>1.005724</td>\n",
       "      <td>0.999670</td>\n",
       "      <td>0.997012</td>\n",
       "    </tr>\n",
       "    <tr>\n",
       "      <th>...</th>\n",
       "      <td>...</td>\n",
       "      <td>...</td>\n",
       "      <td>...</td>\n",
       "      <td>...</td>\n",
       "      <td>...</td>\n",
       "      <td>...</td>\n",
       "      <td>...</td>\n",
       "      <td>...</td>\n",
       "      <td>...</td>\n",
       "      <td>...</td>\n",
       "      <td>...</td>\n",
       "      <td>...</td>\n",
       "      <td>...</td>\n",
       "      <td>...</td>\n",
       "      <td>...</td>\n",
       "      <td>...</td>\n",
       "      <td>...</td>\n",
       "      <td>...</td>\n",
       "      <td>...</td>\n",
       "      <td>...</td>\n",
       "      <td>...</td>\n",
       "    </tr>\n",
       "    <tr>\n",
       "      <th>7556</th>\n",
       "      <td>23.663817</td>\n",
       "      <td>280.249644</td>\n",
       "      <td>306.154103</td>\n",
       "      <td>62.968010</td>\n",
       "      <td>20.761994</td>\n",
       "      <td>91.041445</td>\n",
       "      <td>175.033665</td>\n",
       "      <td>142.887558</td>\n",
       "      <td>172.032783</td>\n",
       "      <td>206.756372</td>\n",
       "      <td>...</td>\n",
       "      <td>49.260755</td>\n",
       "      <td>109.059955</td>\n",
       "      <td>79.139226</td>\n",
       "      <td>97.743361</td>\n",
       "      <td>131.025868</td>\n",
       "      <td>292.844904</td>\n",
       "      <td>47.687638</td>\n",
       "      <td>138.689056</td>\n",
       "      <td>12.469993</td>\n",
       "      <td>34.301322</td>\n",
       "    </tr>\n",
       "    <tr>\n",
       "      <th>7557</th>\n",
       "      <td>24.031048</td>\n",
       "      <td>277.889386</td>\n",
       "      <td>310.414210</td>\n",
       "      <td>63.027755</td>\n",
       "      <td>20.514671</td>\n",
       "      <td>90.367691</td>\n",
       "      <td>174.443225</td>\n",
       "      <td>142.171453</td>\n",
       "      <td>172.106567</td>\n",
       "      <td>208.475578</td>\n",
       "      <td>...</td>\n",
       "      <td>49.476623</td>\n",
       "      <td>108.595630</td>\n",
       "      <td>80.043829</td>\n",
       "      <td>97.411246</td>\n",
       "      <td>129.487922</td>\n",
       "      <td>291.925801</td>\n",
       "      <td>48.206586</td>\n",
       "      <td>137.722820</td>\n",
       "      <td>12.438580</td>\n",
       "      <td>34.212885</td>\n",
       "    </tr>\n",
       "    <tr>\n",
       "      <th>7558</th>\n",
       "      <td>23.947793</td>\n",
       "      <td>281.691828</td>\n",
       "      <td>309.139433</td>\n",
       "      <td>62.532429</td>\n",
       "      <td>20.309073</td>\n",
       "      <td>89.763366</td>\n",
       "      <td>172.027551</td>\n",
       "      <td>141.998540</td>\n",
       "      <td>173.085548</td>\n",
       "      <td>210.223035</td>\n",
       "      <td>...</td>\n",
       "      <td>49.228172</td>\n",
       "      <td>107.637624</td>\n",
       "      <td>80.299037</td>\n",
       "      <td>97.413837</td>\n",
       "      <td>131.674927</td>\n",
       "      <td>294.954400</td>\n",
       "      <td>49.124715</td>\n",
       "      <td>136.314066</td>\n",
       "      <td>12.498730</td>\n",
       "      <td>33.966786</td>\n",
       "    </tr>\n",
       "    <tr>\n",
       "      <th>7559</th>\n",
       "      <td>23.781799</td>\n",
       "      <td>280.101667</td>\n",
       "      <td>315.575170</td>\n",
       "      <td>63.483020</td>\n",
       "      <td>20.363751</td>\n",
       "      <td>91.458057</td>\n",
       "      <td>171.316143</td>\n",
       "      <td>140.918100</td>\n",
       "      <td>171.156257</td>\n",
       "      <td>212.508231</td>\n",
       "      <td>...</td>\n",
       "      <td>49.142417</td>\n",
       "      <td>107.548873</td>\n",
       "      <td>80.533377</td>\n",
       "      <td>97.922706</td>\n",
       "      <td>131.923630</td>\n",
       "      <td>296.088122</td>\n",
       "      <td>49.391057</td>\n",
       "      <td>136.760710</td>\n",
       "      <td>12.363363</td>\n",
       "      <td>34.159295</td>\n",
       "    </tr>\n",
       "    <tr>\n",
       "      <th>7560</th>\n",
       "      <td>23.661742</td>\n",
       "      <td>279.288059</td>\n",
       "      <td>311.495157</td>\n",
       "      <td>62.795232</td>\n",
       "      <td>20.250908</td>\n",
       "      <td>90.724010</td>\n",
       "      <td>169.881339</td>\n",
       "      <td>139.687993</td>\n",
       "      <td>171.967782</td>\n",
       "      <td>214.646254</td>\n",
       "      <td>...</td>\n",
       "      <td>49.152524</td>\n",
       "      <td>108.524424</td>\n",
       "      <td>79.144142</td>\n",
       "      <td>98.587394</td>\n",
       "      <td>129.383088</td>\n",
       "      <td>292.459807</td>\n",
       "      <td>49.652402</td>\n",
       "      <td>134.322716</td>\n",
       "      <td>12.174416</td>\n",
       "      <td>34.462145</td>\n",
       "    </tr>\n",
       "  </tbody>\n",
       "</table>\n",
       "<p>7561 rows × 500 columns</p>\n",
       "</div>"
      ],
      "text/plain": [
       "            0           1           2          3          4          5    \\\n",
       "0      1.000000    1.000000    1.000000   1.000000   1.000000   1.000000   \n",
       "1      0.998528    0.997056    0.999944   1.005234   1.007830   0.998833   \n",
       "2      0.993946    0.998089    0.999545   0.992444   0.998029   0.985276   \n",
       "3      0.999233    1.006582    0.994453   1.001195   0.986571   0.987223   \n",
       "4      1.003981    0.999066    0.999105   1.006769   0.984263   1.006621   \n",
       "...         ...         ...         ...        ...        ...        ...   \n",
       "7556  23.663817  280.249644  306.154103  62.968010  20.761994  91.041445   \n",
       "7557  24.031048  277.889386  310.414210  63.027755  20.514671  90.367691   \n",
       "7558  23.947793  281.691828  309.139433  62.532429  20.309073  89.763366   \n",
       "7559  23.781799  280.101667  315.575170  63.483020  20.363751  91.458057   \n",
       "7560  23.661742  279.288059  311.495157  62.795232  20.250908  90.724010   \n",
       "\n",
       "             6           7           8           9    ...        490  \\\n",
       "0       1.000000    1.000000    1.000000    1.000000  ...   1.000000   \n",
       "1       0.992753    0.999537    0.995454    0.987021  ...   1.004420   \n",
       "2       0.984567    0.999020    0.997161    0.997140  ...   0.999386   \n",
       "3       0.988846    0.986389    1.007517    1.009620  ...   1.005197   \n",
       "4       0.995130    0.982583    1.010011    1.003826  ...   1.014553   \n",
       "...          ...         ...         ...         ...  ...        ...   \n",
       "7556  175.033665  142.887558  172.032783  206.756372  ...  49.260755   \n",
       "7557  174.443225  142.171453  172.106567  208.475578  ...  49.476623   \n",
       "7558  172.027551  141.998540  173.085548  210.223035  ...  49.228172   \n",
       "7559  171.316143  140.918100  171.156257  212.508231  ...  49.142417   \n",
       "7560  169.881339  139.687993  171.967782  214.646254  ...  49.152524   \n",
       "\n",
       "             491        492        493         494         495        496  \\\n",
       "0       1.000000   1.000000   1.000000    1.000000    1.000000   1.000000   \n",
       "1       1.005464   1.004417   1.002666    1.028615    0.990259   1.008304   \n",
       "2       1.014021   1.003892   0.986370    1.018414    0.999768   1.005033   \n",
       "3       0.999723   0.999926   0.990849    1.016597    1.003911   1.012500   \n",
       "4       1.005045   0.998525   0.991642    1.025766    1.003816   1.013853   \n",
       "...          ...        ...        ...         ...         ...        ...   \n",
       "7556  109.059955  79.139226  97.743361  131.025868  292.844904  47.687638   \n",
       "7557  108.595630  80.043829  97.411246  129.487922  291.925801  48.206586   \n",
       "7558  107.637624  80.299037  97.413837  131.674927  294.954400  49.124715   \n",
       "7559  107.548873  80.533377  97.922706  131.923630  296.088122  49.391057   \n",
       "7560  108.524424  79.144142  98.587394  129.383088  292.459807  49.652402   \n",
       "\n",
       "             497        498        499  \n",
       "0       1.000000   1.000000   1.000000  \n",
       "1       1.001126   0.999407   1.007593  \n",
       "2       1.000678   1.002220   1.004764  \n",
       "3       0.999054   0.989343   1.003463  \n",
       "4       1.005724   0.999670   0.997012  \n",
       "...          ...        ...        ...  \n",
       "7556  138.689056  12.469993  34.301322  \n",
       "7557  137.722820  12.438580  34.212885  \n",
       "7558  136.314066  12.498730  33.966786  \n",
       "7559  136.760710  12.363363  34.159295  \n",
       "7560  134.322716  12.174416  34.462145  \n",
       "\n",
       "[7561 rows x 500 columns]"
      ]
     },
     "execution_count": 104,
     "metadata": {},
     "output_type": "execute_result"
    }
   ],
   "source": [
    "# Configure the Monte Carlo simulation to forecast 30 years cumulative returns\n",
    "# The weights should be split 40% to AGG and 60% to SPY.\n",
    "# Run 500 samples.\n",
    "\n",
    "thirty_year_forecast = MCSimulation(\n",
    "  portfolio_data = closing_prices_df,\n",
    "  weights = [.40,.60],\n",
    "  num_simulation = 500,\n",
    "  num_trading_days = 252*30\n",
    ")\n",
    "# Review the simulation input data\n",
    "# YOUR CODE HERE\n",
    "thirty_year_forecast.calc_cumulative_return()"
   ]
  },
  {
   "cell_type": "code",
   "execution_count": 88,
   "metadata": {},
   "outputs": [],
   "source": [
    "# Run the Monte Carlo simulation to forecast 30 years cumulative returns\n",
    "# YOUR CODE HERE\n"
   ]
  },
  {
   "cell_type": "code",
   "execution_count": 92,
   "metadata": {},
   "outputs": [
    {
     "data": {
      "image/png": "[encoded data removed]",
      "text/plain": [
       "<Figure size 432x288 with 1 Axes>"
      ]
     },
     "metadata": {
      "needs_background": "light"
     },
     "output_type": "display_data"
    }
   ],
   "source": [
    "# Visualize the 30-year Monte Carlo simulation by creating an\n",
    "# overlay line plot\n",
    "# YOUR CODE HERE\n",
    "thirty_year_forecast_line = thirty_year_forecast.plot_simulation()\n",
    "thirty_year_forecast_line.get_figure().savefig('30 Year Projected Portfolio Cumulative Returns', bbox_inches=\"tight\")"
   ]
  },
  {
   "cell_type": "markdown",
   "metadata": {},
   "source": [
    "#### Step 3: Plot the probability distribution of the Monte Carlo simulation."
   ]
  },
  {
   "cell_type": "code",
   "execution_count": 93,
   "metadata": {},
   "outputs": [
    {
     "data": {
      "text/plain": [
       "<AxesSubplot:title={'center':'Distribution of Final Cumuluative Returns Across All 500 Simulations'}, ylabel='Frequency'>"
      ]
     },
     "execution_count": 93,
     "metadata": {},
     "output_type": "execute_result"
    },
    {
     "data": {
      "image/png": "[encoded data removed]",
      "text/plain": [
       "<Figure size 432x288 with 1 Axes>"
      ]
     },
     "metadata": {
      "needs_background": "light"
     },
     "output_type": "display_data"
    }
   ],
   "source": [
    "# Visualize the probability distribution of the 30-year Monte Carlo simulation \n",
    "# by plotting a histogram\n",
    "# YOUR CODE HERE\n",
    "thirty_year_plot = thirty_year_forecast.plot_distribution()\n",
    "thirty_year_plot"
   ]
  },
  {
   "cell_type": "markdown",
   "metadata": {},
   "source": [
    "#### Step 4: Generate the summary statistics for the Monte Carlo simulation."
   ]
  },
  {
   "cell_type": "code",
   "execution_count": 94,
   "metadata": {},
   "outputs": [
    {
     "data": {
      "text/plain": [
       "count           500.000000\n",
       "mean             95.372238\n",
       "std              87.738125\n",
       "min               9.233675\n",
       "25%              44.521192\n",
       "50%              71.133047\n",
       "75%             115.654537\n",
       "max             812.807202\n",
       "95% CI Lower     16.266779\n",
       "95% CI Upper    346.511241\n",
       "Name: 7560, dtype: float64"
      ]
     },
     "execution_count": 94,
     "metadata": {},
     "output_type": "execute_result"
    }
   ],
   "source": [
    "# Generate summary statistics from the 30-year Monte Carlo simulation results\n",
    "# Save the results as a variable\n",
    "thirty_year_statistics = thirty_year_forecast.summarize_cumulative_return()\n",
    "\n",
    "# Review the 30-year Monte Carlo summary statistics\n",
    "thirty_year_statistics"
   ]
  },
  {
   "cell_type": "markdown",
   "metadata": {},
   "source": [
    "### Analyze the Retirement Portfolio Forecasts\n",
    "\n",
    "Using the current value of only the stock and bond portion of the member's portfolio and the summary statistics that you generated from the Monte Carlo simulation, answer the following question in your Jupyter notebook:\n",
    "\n",
    "-  What are the lower and upper bounds for the expected value of the portfolio with a 95% confidence interval?\n"
   ]
  },
  {
   "cell_type": "code",
   "execution_count": 95,
   "metadata": {},
   "outputs": [
    {
     "name": "stdout",
     "output_type": "stream",
     "text": [
      "75294.6\n"
     ]
    }
   ],
   "source": [
    "# Print the current balance of the stock and bond portion of the members portfolio\n",
    "# YOUR CODE HERE\n",
    "print(total_stocks_bonds)"
   ]
  },
  {
   "cell_type": "code",
   "execution_count": 99,
   "metadata": {},
   "outputs": [
    {
     "name": "stdout",
     "output_type": "stream",
     "text": [
      "There is a 95% chance that an initial investment of $75294.6 in the portfolio over the next 30 years will end within in the range of $ 1224800.63 to $ 26090425.28.\n"
     ]
    }
   ],
   "source": [
    "# Use the lower and upper `95%` confidence intervals to calculate the range of the possible outcomes for the current stock/bond portfolio\n",
    "ci_lower_thirty_cumulative_return = thirty_year_statistics[8] * total_stocks_bonds\n",
    "ci_upper_thirty_cumulative_return = thirty_year_statistics[9] * total_stocks_bonds\n",
    "\n",
    "# Print the result of your calculations\n",
    "print(f\"There is a 95% chance that an initial investment of ${total_stocks_bonds} in the portfolio\"\n",
    "  f\" over the next 30 years will end within in the range of\"\n",
    "  f\" ${ci_lower_thirty_cumulative_return: .2f} to ${ci_upper_thirty_cumulative_return: .2f}.\")\n"
   ]
  },
  {
   "cell_type": "markdown",
   "metadata": {},
   "source": [
    "### Forecast Cumulative Returns in 10 Years\n",
    "\n",
    "The CTO of the credit union is impressed with your work on these planning tools but wonders if 30 years is a long time to wait until retirement. So, your next task is to adjust the retirement portfolio and run a new Monte Carlo simulation to find out if the changes will allow members to retire earlier.\n",
    "\n",
    "For this new Monte Carlo simulation, do the following: \n",
    "\n",
    "- Forecast the cumulative returns for 10 years from now. Because of the shortened investment horizon (30 years to 10 years), the portfolio needs to invest more heavily in the riskier asset&mdash;that is, stock&mdash;to help accumulate wealth for retirement. \n",
    "\n",
    "- Adjust the weights of the retirement portfolio so that the composition for the Monte Carlo simulation consists of 20% bonds and 80% stocks. \n",
    "\n",
    "- Run the simulation over 500 samples, and use the same data that the API call to Alpaca generated.\n",
    "\n",
    "- Based on the new Monte Carlo simulation, answer the following questions in your Jupyter notebook:\n",
    "\n",
    "    - Using the current value of only the stock and bond portion of the member's portfolio and the summary statistics that you generated from the new Monte Carlo simulation, what are the lower and upper bounds for the expected value of the portfolio (with the new weights) with a 95% confidence interval?\n",
    "\n",
    "    - Will weighting the portfolio more heavily toward stocks allow the credit union members to retire after only 10 years?\n"
   ]
  },
  {
   "cell_type": "code",
   "execution_count": 109,
   "metadata": {},
   "outputs": [
    {
     "name": "stdout",
     "output_type": "stream",
     "text": [
      "Running Monte Carlo simulation number 0.\n",
      "Running Monte Carlo simulation number 10.\n",
      "Running Monte Carlo simulation number 20.\n",
      "Running Monte Carlo simulation number 30.\n",
      "Running Monte Carlo simulation number 40.\n",
      "Running Monte Carlo simulation number 50.\n",
      "Running Monte Carlo simulation number 60.\n",
      "Running Monte Carlo simulation number 70.\n",
      "Running Monte Carlo simulation number 80.\n",
      "Running Monte Carlo simulation number 90.\n",
      "Running Monte Carlo simulation number 100.\n",
      "Running Monte Carlo simulation number 110.\n",
      "Running Monte Carlo simulation number 120.\n",
      "Running Monte Carlo simulation number 130.\n",
      "Running Monte Carlo simulation number 140.\n",
      "Running Monte Carlo simulation number 150.\n",
      "Running Monte Carlo simulation number 160.\n",
      "Running Monte Carlo simulation number 170.\n",
      "Running Monte Carlo simulation number 180.\n",
      "Running Monte Carlo simulation number 190.\n",
      "Running Monte Carlo simulation number 200.\n",
      "Running Monte Carlo simulation number 210.\n",
      "Running Monte Carlo simulation number 220.\n",
      "Running Monte Carlo simulation number 230.\n",
      "Running Monte Carlo simulation number 240.\n",
      "Running Monte Carlo simulation number 250.\n",
      "Running Monte Carlo simulation number 260.\n",
      "Running Monte Carlo simulation number 270.\n",
      "Running Monte Carlo simulation number 280.\n",
      "Running Monte Carlo simulation number 290.\n",
      "Running Monte Carlo simulation number 300.\n",
      "Running Monte Carlo simulation number 310.\n",
      "Running Monte Carlo simulation number 320.\n",
      "Running Monte Carlo simulation number 330.\n",
      "Running Monte Carlo simulation number 340.\n",
      "Running Monte Carlo simulation number 350.\n",
      "Running Monte Carlo simulation number 360.\n",
      "Running Monte Carlo simulation number 370.\n",
      "Running Monte Carlo simulation number 380.\n",
      "Running Monte Carlo simulation number 390.\n",
      "Running Monte Carlo simulation number 400.\n",
      "Running Monte Carlo simulation number 410.\n",
      "Running Monte Carlo simulation number 420.\n",
      "Running Monte Carlo simulation number 430.\n",
      "Running Monte Carlo simulation number 440.\n",
      "Running Monte Carlo simulation number 450.\n",
      "Running Monte Carlo simulation number 460.\n",
      "Running Monte Carlo simulation number 470.\n",
      "Running Monte Carlo simulation number 480.\n",
      "Running Monte Carlo simulation number 490.\n"
     ]
    },
    {
     "data": {
      "text/html": [
       "<div>\n",
       "<style scoped>\n",
       "    .dataframe tbody tr th:only-of-type {\n",
       "        vertical-align: middle;\n",
       "    }\n",
       "\n",
       "    .dataframe tbody tr th {\n",
       "        vertical-align: top;\n",
       "    }\n",
       "\n",
       "    .dataframe thead th {\n",
       "        text-align: right;\n",
       "    }\n",
       "</style>\n",
       "<table border=\"1\" class=\"dataframe\">\n",
       "  <thead>\n",
       "    <tr style=\"text-align: right;\">\n",
       "      <th></th>\n",
       "      <th>0</th>\n",
       "      <th>1</th>\n",
       "      <th>2</th>\n",
       "      <th>3</th>\n",
       "      <th>4</th>\n",
       "      <th>5</th>\n",
       "      <th>6</th>\n",
       "      <th>7</th>\n",
       "      <th>8</th>\n",
       "      <th>9</th>\n",
       "      <th>...</th>\n",
       "      <th>490</th>\n",
       "      <th>491</th>\n",
       "      <th>492</th>\n",
       "      <th>493</th>\n",
       "      <th>494</th>\n",
       "      <th>495</th>\n",
       "      <th>496</th>\n",
       "      <th>497</th>\n",
       "      <th>498</th>\n",
       "      <th>499</th>\n",
       "    </tr>\n",
       "  </thead>\n",
       "  <tbody>\n",
       "    <tr>\n",
       "      <th>0</th>\n",
       "      <td>1.000000</td>\n",
       "      <td>1.000000</td>\n",
       "      <td>1.000000</td>\n",
       "      <td>1.000000</td>\n",
       "      <td>1.000000</td>\n",
       "      <td>1.000000</td>\n",
       "      <td>1.000000</td>\n",
       "      <td>1.000000</td>\n",
       "      <td>1.000000</td>\n",
       "      <td>1.000000</td>\n",
       "      <td>...</td>\n",
       "      <td>1.000000</td>\n",
       "      <td>1.000000</td>\n",
       "      <td>1.000000</td>\n",
       "      <td>1.000000</td>\n",
       "      <td>1.000000</td>\n",
       "      <td>1.000000</td>\n",
       "      <td>1.000000</td>\n",
       "      <td>1.000000</td>\n",
       "      <td>1.000000</td>\n",
       "      <td>1.000000</td>\n",
       "    </tr>\n",
       "    <tr>\n",
       "      <th>1</th>\n",
       "      <td>1.003937</td>\n",
       "      <td>1.005241</td>\n",
       "      <td>1.008863</td>\n",
       "      <td>0.991660</td>\n",
       "      <td>1.000423</td>\n",
       "      <td>1.009367</td>\n",
       "      <td>1.000463</td>\n",
       "      <td>0.992315</td>\n",
       "      <td>0.995444</td>\n",
       "      <td>1.012168</td>\n",
       "      <td>...</td>\n",
       "      <td>1.000993</td>\n",
       "      <td>1.000182</td>\n",
       "      <td>1.005218</td>\n",
       "      <td>0.985140</td>\n",
       "      <td>1.028577</td>\n",
       "      <td>0.998641</td>\n",
       "      <td>0.991478</td>\n",
       "      <td>1.000922</td>\n",
       "      <td>1.003949</td>\n",
       "      <td>1.004959</td>\n",
       "    </tr>\n",
       "    <tr>\n",
       "      <th>2</th>\n",
       "      <td>1.022306</td>\n",
       "      <td>1.015342</td>\n",
       "      <td>1.015811</td>\n",
       "      <td>0.998407</td>\n",
       "      <td>0.988567</td>\n",
       "      <td>1.013571</td>\n",
       "      <td>0.986177</td>\n",
       "      <td>0.981341</td>\n",
       "      <td>1.000693</td>\n",
       "      <td>1.011647</td>\n",
       "      <td>...</td>\n",
       "      <td>0.990854</td>\n",
       "      <td>0.998993</td>\n",
       "      <td>1.011323</td>\n",
       "      <td>0.972219</td>\n",
       "      <td>1.020836</td>\n",
       "      <td>1.004575</td>\n",
       "      <td>0.992501</td>\n",
       "      <td>1.011754</td>\n",
       "      <td>0.990747</td>\n",
       "      <td>1.007282</td>\n",
       "    </tr>\n",
       "    <tr>\n",
       "      <th>3</th>\n",
       "      <td>1.034026</td>\n",
       "      <td>1.019674</td>\n",
       "      <td>1.014520</td>\n",
       "      <td>1.001607</td>\n",
       "      <td>1.011337</td>\n",
       "      <td>0.998470</td>\n",
       "      <td>0.987739</td>\n",
       "      <td>0.987453</td>\n",
       "      <td>0.977487</td>\n",
       "      <td>1.024308</td>\n",
       "      <td>...</td>\n",
       "      <td>0.998921</td>\n",
       "      <td>0.994060</td>\n",
       "      <td>1.012687</td>\n",
       "      <td>0.980912</td>\n",
       "      <td>1.025122</td>\n",
       "      <td>1.017154</td>\n",
       "      <td>0.988864</td>\n",
       "      <td>1.027553</td>\n",
       "      <td>0.993099</td>\n",
       "      <td>0.990853</td>\n",
       "    </tr>\n",
       "    <tr>\n",
       "      <th>4</th>\n",
       "      <td>1.036136</td>\n",
       "      <td>1.026696</td>\n",
       "      <td>1.014310</td>\n",
       "      <td>1.007045</td>\n",
       "      <td>1.025483</td>\n",
       "      <td>0.965746</td>\n",
       "      <td>0.984896</td>\n",
       "      <td>0.994137</td>\n",
       "      <td>0.970492</td>\n",
       "      <td>1.036336</td>\n",
       "      <td>...</td>\n",
       "      <td>1.009312</td>\n",
       "      <td>0.998117</td>\n",
       "      <td>1.019363</td>\n",
       "      <td>0.974920</td>\n",
       "      <td>1.023094</td>\n",
       "      <td>1.007388</td>\n",
       "      <td>0.986937</td>\n",
       "      <td>1.031074</td>\n",
       "      <td>1.012851</td>\n",
       "      <td>0.985973</td>\n",
       "    </tr>\n",
       "    <tr>\n",
       "      <th>...</th>\n",
       "      <td>...</td>\n",
       "      <td>...</td>\n",
       "      <td>...</td>\n",
       "      <td>...</td>\n",
       "      <td>...</td>\n",
       "      <td>...</td>\n",
       "      <td>...</td>\n",
       "      <td>...</td>\n",
       "      <td>...</td>\n",
       "      <td>...</td>\n",
       "      <td>...</td>\n",
       "      <td>...</td>\n",
       "      <td>...</td>\n",
       "      <td>...</td>\n",
       "      <td>...</td>\n",
       "      <td>...</td>\n",
       "      <td>...</td>\n",
       "      <td>...</td>\n",
       "      <td>...</td>\n",
       "      <td>...</td>\n",
       "      <td>...</td>\n",
       "    </tr>\n",
       "    <tr>\n",
       "      <th>2516</th>\n",
       "      <td>15.018905</td>\n",
       "      <td>3.568624</td>\n",
       "      <td>10.562319</td>\n",
       "      <td>5.049361</td>\n",
       "      <td>3.793438</td>\n",
       "      <td>4.437017</td>\n",
       "      <td>5.312014</td>\n",
       "      <td>7.095918</td>\n",
       "      <td>6.530252</td>\n",
       "      <td>10.107919</td>\n",
       "      <td>...</td>\n",
       "      <td>13.066976</td>\n",
       "      <td>2.350807</td>\n",
       "      <td>5.445679</td>\n",
       "      <td>8.820527</td>\n",
       "      <td>3.453860</td>\n",
       "      <td>3.697374</td>\n",
       "      <td>4.308629</td>\n",
       "      <td>4.478389</td>\n",
       "      <td>5.707275</td>\n",
       "      <td>4.726014</td>\n",
       "    </tr>\n",
       "    <tr>\n",
       "      <th>2517</th>\n",
       "      <td>15.466029</td>\n",
       "      <td>3.543550</td>\n",
       "      <td>10.729663</td>\n",
       "      <td>5.072583</td>\n",
       "      <td>3.784225</td>\n",
       "      <td>4.490056</td>\n",
       "      <td>5.283417</td>\n",
       "      <td>7.162351</td>\n",
       "      <td>6.525498</td>\n",
       "      <td>10.162849</td>\n",
       "      <td>...</td>\n",
       "      <td>13.401673</td>\n",
       "      <td>2.335048</td>\n",
       "      <td>5.609329</td>\n",
       "      <td>8.898988</td>\n",
       "      <td>3.451503</td>\n",
       "      <td>3.696617</td>\n",
       "      <td>4.393956</td>\n",
       "      <td>4.462554</td>\n",
       "      <td>5.803342</td>\n",
       "      <td>4.774173</td>\n",
       "    </tr>\n",
       "    <tr>\n",
       "      <th>2518</th>\n",
       "      <td>15.315214</td>\n",
       "      <td>3.518379</td>\n",
       "      <td>10.737760</td>\n",
       "      <td>5.115646</td>\n",
       "      <td>3.811599</td>\n",
       "      <td>4.402866</td>\n",
       "      <td>5.317577</td>\n",
       "      <td>7.163399</td>\n",
       "      <td>6.620725</td>\n",
       "      <td>10.143813</td>\n",
       "      <td>...</td>\n",
       "      <td>13.276531</td>\n",
       "      <td>2.352325</td>\n",
       "      <td>5.559946</td>\n",
       "      <td>8.903438</td>\n",
       "      <td>3.458987</td>\n",
       "      <td>3.736772</td>\n",
       "      <td>4.400904</td>\n",
       "      <td>4.368967</td>\n",
       "      <td>5.850961</td>\n",
       "      <td>4.705080</td>\n",
       "    </tr>\n",
       "    <tr>\n",
       "      <th>2519</th>\n",
       "      <td>15.298807</td>\n",
       "      <td>3.526908</td>\n",
       "      <td>10.835800</td>\n",
       "      <td>5.078968</td>\n",
       "      <td>3.843747</td>\n",
       "      <td>4.398118</td>\n",
       "      <td>5.431136</td>\n",
       "      <td>7.228520</td>\n",
       "      <td>6.656746</td>\n",
       "      <td>10.301834</td>\n",
       "      <td>...</td>\n",
       "      <td>13.314215</td>\n",
       "      <td>2.352903</td>\n",
       "      <td>5.651741</td>\n",
       "      <td>8.885353</td>\n",
       "      <td>3.424786</td>\n",
       "      <td>3.756710</td>\n",
       "      <td>4.417491</td>\n",
       "      <td>4.425015</td>\n",
       "      <td>6.019769</td>\n",
       "      <td>4.747040</td>\n",
       "    </tr>\n",
       "    <tr>\n",
       "      <th>2520</th>\n",
       "      <td>15.158342</td>\n",
       "      <td>3.514822</td>\n",
       "      <td>10.890795</td>\n",
       "      <td>5.087709</td>\n",
       "      <td>3.938774</td>\n",
       "      <td>4.549978</td>\n",
       "      <td>5.464519</td>\n",
       "      <td>7.273547</td>\n",
       "      <td>6.727639</td>\n",
       "      <td>10.284536</td>\n",
       "      <td>...</td>\n",
       "      <td>13.012002</td>\n",
       "      <td>2.332536</td>\n",
       "      <td>5.570621</td>\n",
       "      <td>8.875617</td>\n",
       "      <td>3.400272</td>\n",
       "      <td>3.737347</td>\n",
       "      <td>4.452092</td>\n",
       "      <td>4.447462</td>\n",
       "      <td>6.020371</td>\n",
       "      <td>4.810852</td>\n",
       "    </tr>\n",
       "  </tbody>\n",
       "</table>\n",
       "<p>2521 rows × 500 columns</p>\n",
       "</div>"
      ],
      "text/plain": [
       "            0         1          2         3         4         5         6    \\\n",
       "0      1.000000  1.000000   1.000000  1.000000  1.000000  1.000000  1.000000   \n",
       "1      1.003937  1.005241   1.008863  0.991660  1.000423  1.009367  1.000463   \n",
       "2      1.022306  1.015342   1.015811  0.998407  0.988567  1.013571  0.986177   \n",
       "3      1.034026  1.019674   1.014520  1.001607  1.011337  0.998470  0.987739   \n",
       "4      1.036136  1.026696   1.014310  1.007045  1.025483  0.965746  0.984896   \n",
       "...         ...       ...        ...       ...       ...       ...       ...   \n",
       "2516  15.018905  3.568624  10.562319  5.049361  3.793438  4.437017  5.312014   \n",
       "2517  15.466029  3.543550  10.729663  5.072583  3.784225  4.490056  5.283417   \n",
       "2518  15.315214  3.518379  10.737760  5.115646  3.811599  4.402866  5.317577   \n",
       "2519  15.298807  3.526908  10.835800  5.078968  3.843747  4.398118  5.431136   \n",
       "2520  15.158342  3.514822  10.890795  5.087709  3.938774  4.549978  5.464519   \n",
       "\n",
       "           7         8          9    ...        490       491       492  \\\n",
       "0     1.000000  1.000000   1.000000  ...   1.000000  1.000000  1.000000   \n",
       "1     0.992315  0.995444   1.012168  ...   1.000993  1.000182  1.005218   \n",
       "2     0.981341  1.000693   1.011647  ...   0.990854  0.998993  1.011323   \n",
       "3     0.987453  0.977487   1.024308  ...   0.998921  0.994060  1.012687   \n",
       "4     0.994137  0.970492   1.036336  ...   1.009312  0.998117  1.019363   \n",
       "...        ...       ...        ...  ...        ...       ...       ...   \n",
       "2516  7.095918  6.530252  10.107919  ...  13.066976  2.350807  5.445679   \n",
       "2517  7.162351  6.525498  10.162849  ...  13.401673  2.335048  5.609329   \n",
       "2518  7.163399  6.620725  10.143813  ...  13.276531  2.352325  5.559946   \n",
       "2519  7.228520  6.656746  10.301834  ...  13.314215  2.352903  5.651741   \n",
       "2520  7.273547  6.727639  10.284536  ...  13.012002  2.332536  5.570621   \n",
       "\n",
       "           493       494       495       496       497       498       499  \n",
       "0     1.000000  1.000000  1.000000  1.000000  1.000000  1.000000  1.000000  \n",
       "1     0.985140  1.028577  0.998641  0.991478  1.000922  1.003949  1.004959  \n",
       "2     0.972219  1.020836  1.004575  0.992501  1.011754  0.990747  1.007282  \n",
       "3     0.980912  1.025122  1.017154  0.988864  1.027553  0.993099  0.990853  \n",
       "4     0.974920  1.023094  1.007388  0.986937  1.031074  1.012851  0.985973  \n",
       "...        ...       ...       ...       ...       ...       ...       ...  \n",
       "2516  8.820527  3.453860  3.697374  4.308629  4.478389  5.707275  4.726014  \n",
       "2517  8.898988  3.451503  3.696617  4.393956  4.462554  5.803342  4.774173  \n",
       "2518  8.903438  3.458987  3.736772  4.400904  4.368967  5.850961  4.705080  \n",
       "2519  8.885353  3.424786  3.756710  4.417491  4.425015  6.019769  4.747040  \n",
       "2520  8.875617  3.400272  3.737347  4.452092  4.447462  6.020371  4.810852  \n",
       "\n",
       "[2521 rows x 500 columns]"
      ]
     },
     "execution_count": 109,
     "metadata": {},
     "output_type": "execute_result"
    }
   ],
   "source": [
    "# Configure a Monte Carlo simulation to forecast 10 years cumulative returns\n",
    "# The weights should be split 20% to AGG and 80% to SPY.\n",
    "# Run 500 samples.\n",
    "ten_year_forecast = MCSimulation(\n",
    "  portfolio_data = closing_prices_df,\n",
    "  weights = [.20,.80],\n",
    "  num_simulation = 500,\n",
    "  num_trading_days = 252*10\n",
    ")\n",
    "# Review the simulation input data\n",
    "# YOUR CODE HERE\n",
    "ten_year_forecast.calc_cumulative_return()"
   ]
  },
  {
   "cell_type": "code",
   "execution_count": null,
   "metadata": {},
   "outputs": [],
   "source": [
    "# Run the Monte Carlo simulation to forecast 10 years cumulative returns\n",
    "# YOUR CODE HERE\n",
    "ten_year_forecast_line = ten_year_forecast.plot_simulation()"
   ]
  },
  {
   "cell_type": "code",
   "execution_count": 110,
   "metadata": {},
   "outputs": [
    {
     "data": {
      "text/plain": [
       "<AxesSubplot:title={'center':'500 Simulations of Cumulative Portfolio Return Trajectories Over the Next 2520 Trading Days.'}>"
      ]
     },
     "execution_count": 110,
     "metadata": {},
     "output_type": "execute_result"
    },
    {
     "data": {
      "image/png": "[encoded data removed]",
      "text/plain": [
       "<Figure size 432x288 with 1 Axes>"
      ]
     },
     "metadata": {
      "needs_background": "light"
     },
     "output_type": "display_data"
    }
   ],
   "source": [
    "# Visualize the 10-year Monte Carlo simulation by creating an\n",
    "# overlay line plot\n",
    "# YOUR CODE HERE\n",
    "ten_year_forecast_line = ten_year_forecast.plot_simulation()\n",
    "ten_year_forecast_line"
   ]
  },
  {
   "cell_type": "code",
   "execution_count": 111,
   "metadata": {},
   "outputs": [
    {
     "data": {
      "text/plain": [
       "<AxesSubplot:title={'center':'Distribution of Final Cumuluative Returns Across All 500 Simulations'}, ylabel='Frequency'>"
      ]
     },
     "execution_count": 111,
     "metadata": {},
     "output_type": "execute_result"
    },
    {
     "data": {
      "image/png": "[encoded data removed]",
      "text/plain": [
       "<Figure size 432x288 with 1 Axes>"
      ]
     },
     "metadata": {
      "needs_background": "light"
     },
     "output_type": "display_data"
    }
   ],
   "source": [
    "# Visualize the probability distribution of the 10-year Monte Carlo simulation \n",
    "# by plotting a histogram\n",
    "# YOUR CODE HERE\n",
    "ten_year_plot = ten_year_forecast.plot_distribution()\n",
    "ten_year_plot"
   ]
  },
  {
   "cell_type": "code",
   "execution_count": 112,
   "metadata": {},
   "outputs": [
    {
     "data": {
      "text/plain": [
       "count           500.000000\n",
       "mean              7.169365\n",
       "std               4.600076\n",
       "min               1.438963\n",
       "25%               4.236499\n",
       "50%               6.114761\n",
       "75%               8.763620\n",
       "max              42.082611\n",
       "95% CI Lower      1.993861\n",
       "95% CI Upper     17.163655\n",
       "Name: 2520, dtype: float64"
      ]
     },
     "execution_count": 112,
     "metadata": {},
     "output_type": "execute_result"
    }
   ],
   "source": [
    "# Generate summary statistics from the 10-year Monte Carlo simulation results\n",
    "# Save the results as a variable\n",
    "# YOUR CODE HERE\n",
    "ten_year_statistics = ten_year_forecast.summarize_cumulative_return()\n",
    "\n",
    "# Review the 10-year Monte Carlo summary statistics\n",
    "ten_year_statistics"
   ]
  },
  {
   "cell_type": "markdown",
   "metadata": {},
   "source": [
    "### Answer the following questions:"
   ]
  },
  {
   "cell_type": "markdown",
   "metadata": {},
   "source": [
    "#### Question: Using the current value of only the stock and bond portion of the member's portfolio and the summary statistics that you generated from the new Monte Carlo simulation, what are the lower and upper bounds for the expected value of the portfolio (with the new weights) with a 95% confidence interval?"
   ]
  },
  {
   "cell_type": "code",
   "execution_count": null,
   "metadata": {},
   "outputs": [],
   "source": [
    "# Print the current balance of the stock and bond portion of the members portfolio\n",
    "# YOUR CODE HERE\n",
    "print(total_stocks_bonds)"
   ]
  },
  {
   "cell_type": "code",
   "execution_count": 113,
   "metadata": {},
   "outputs": [
    {
     "name": "stdout",
     "output_type": "stream",
     "text": [
      "There is a 95% chance that an initial investment of $75294.6 in the portfolio over the next 10 years will end within in the range of $ 1224800.63 to $ 26090425.28.\n"
     ]
    }
   ],
   "source": [
    "# Use the lower and upper `95%` confidence intervals to calculate the range of the possible outcomes for the current stock/bond portfolio\n",
    "ci_lower_ten_cumulative_return = ten_year_statistics[8] * total_stocks_bonds\n",
    "ci_upper_ten_cumulative_return = ten_year_statistics[9] * total_stocks_bonds\n",
    "\n",
    "# Print the result of your calculations\n",
    "\n",
    "print(f\"There is a 95% chance that an initial investment of ${total_stocks_bonds} in the portfolio\"\n",
    "  f\" over the next 10 years will end within in the range of\"\n",
    "  f\" ${ci_lower_thirty_cumulative_return: .2f} to ${ci_upper_thirty_cumulative_return: .2f}.\")\n"
   ]
  },
  {
   "cell_type": "markdown",
   "metadata": {},
   "source": [
    "#### Question: Will weighting the portfolio more heavily to stocks allow the credit union members to retire after only 10 years?"
   ]
  },
  {
   "cell_type": "raw",
   "metadata": {},
   "source": [
    "**Answer** # YOUR ANSWER HERE"
   ]
  },
  {
   "cell_type": "code",
   "execution_count": null,
   "metadata": {},
   "outputs": [],
   "source": []
  }
 ],
 "metadata": {
  "kernelspec": {
   "display_name": "Python (dev)",
   "language": "python",
   "name": "dev"
  },
  "language_info": {
   "codemirror_mode": {
    "name": "ipython",
    "version": 3
   },
   "file_extension": ".py",
   "mimetype": "text/x-python",
   "name": "python",
   "nbconvert_exporter": "python",
   "pygments_lexer": "ipython3",
   "version": "3.7.10"
  }
 },
 "nbformat": 4,
 "nbformat_minor": 4
}
