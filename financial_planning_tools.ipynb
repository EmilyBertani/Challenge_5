{
 "cells": [
  {
   "cell_type": "markdown",
   "metadata": {},
   "source": [
    "# Financial Planning with APIs and Simulations\n",
    "\n",
    "In this Challenge, you’ll create two financial analysis tools by using a single Jupyter notebook:\n",
    "\n",
    "Part 1: A financial planner for emergencies. The members will be able to use this tool to visualize their current savings. The members can then determine if they have enough reserves for an emergency fund.\n",
    "\n",
    "Part 2: A financial planner for retirement. This tool will forecast the performance of their retirement portfolio in 30 years. To do this, the tool will make an Alpaca API call via the Alpaca SDK to get historical price data for use in Monte Carlo simulations.\n",
    "\n",
    "You’ll use the information from the Monte Carlo simulation to answer questions about the portfolio in your Jupyter notebook.\n",
    "\n"
   ]
  },
  {
   "cell_type": "code",
   "execution_count": 150,
   "metadata": {},
   "outputs": [],
   "source": [
    "# Below we are importing the required libraries and dependencies\n",
    "import os\n",
    "import requests\n",
    "import json\n",
    "import pandas as pd\n",
    "from dotenv import load_dotenv\n",
    "import alpaca_trade_api as tradeapi\n",
    "from MCForecastTools import MCSimulation\n",
    "\n",
    "%matplotlib inline"
   ]
  },
  {
   "cell_type": "code",
   "execution_count": 151,
   "metadata": {},
   "outputs": [
    {
     "data": {
      "text/plain": [
       "True"
      ]
     },
     "execution_count": 151,
     "metadata": {},
     "output_type": "execute_result"
    }
   ],
   "source": [
    "# This loads the environment variables from the .env file\n",
    "load_dotenv()"
   ]
  },
  {
   "cell_type": "markdown",
   "metadata": {},
   "source": [
    "## Part 1: Create a Financial Planner for Emergencies"
   ]
  },
  {
   "cell_type": "markdown",
   "metadata": {},
   "source": [
    "### Evaluate the Cryptocurrency Wallet by Using the Requests Library\n",
    "\n",
    "In this section, you’ll determine the current value of a member’s cryptocurrency wallet. You’ll collect the current prices for the Bitcoin and Ethereum cryptocurrencies by using the Python Requests library. For the prototype, you’ll assume that the member holds the 1.2 Bitcoins (BTC) and 5.3 Ethereum coins (ETH). To do all this, complete the following steps:\n",
    "\n",
    "1. Create a variable named `monthly_income`, and set its value to `12000`.\n",
    "\n",
    "2. Use the Requests library to get the current price (in US dollars) of Bitcoin (BTC) and Ethereum (ETH) by using the API endpoints that the starter code supplies.\n",
    "\n",
    "3. Navigate the JSON response object to access the current price of each coin, and store each in a variable.\n",
    "\n",
    "    > **Hint** Note the specific identifier for each cryptocurrency in the API JSON response. The Bitcoin identifier is `1`, and the Ethereum identifier is `1027`.\n",
    "\n",
    "4. Calculate the value, in US dollars, of the current amount of each cryptocurrency and of the entire cryptocurrency wallet.\n",
    "\n"
   ]
  },
  {
   "cell_type": "code",
   "execution_count": 152,
   "metadata": {},
   "outputs": [],
   "source": [
    "# The current number of coins for each cryptocurrency asset held in the portfolio.\n",
    "btc_coins = 1.2\n",
    "eth_coins = 5.3"
   ]
  },
  {
   "cell_type": "markdown",
   "metadata": {},
   "source": [
    "#### Step 1: Create a variable named `monthly_income`, and set its value to `12000`."
   ]
  },
  {
   "cell_type": "code",
   "execution_count": 153,
   "metadata": {},
   "outputs": [],
   "source": [
    "# Below is the monthly household income for the member\n",
    "monthly_income = 12000\n"
   ]
  },
  {
   "cell_type": "markdown",
   "metadata": {},
   "source": [
    "#### Review the endpoint URLs for the API calls to Free Crypto API in order to get the current pricing information for both BTC and ETH."
   ]
  },
  {
   "cell_type": "code",
   "execution_count": 154,
   "metadata": {},
   "outputs": [],
   "source": [
    "# Setting variables for the Free Crypto API Call endpoint URLs for the cryptocurrencies\n",
    "btc_url = \"https://api.alternative.me/v2/ticker/Bitcoin/?convert=USD\"\n",
    "eth_url = \"https://api.alternative.me/v2/ticker/Ethereum/?convert=USD\""
   ]
  },
  {
   "cell_type": "markdown",
   "metadata": {},
   "source": [
    "#### Step 2. Use the Requests library to get the current price (in US dollars) of Bitcoin (BTC) and Ethereum (ETH) by using the API endpoints that the starter code supplied."
   ]
  },
  {
   "cell_type": "code",
   "execution_count": 155,
   "metadata": {},
   "outputs": [
    {
     "name": "stdout",
     "output_type": "stream",
     "text": [
      "{\n",
      "    \"data\": {\n",
      "        \"1\": {\n",
      "            \"circulating_supply\": 18920987,\n",
      "            \"id\": 1,\n",
      "            \"last_updated\": 1641422507,\n",
      "            \"max_supply\": 21000000,\n",
      "            \"name\": \"Bitcoin\",\n",
      "            \"quotes\": {\n",
      "                \"USD\": {\n",
      "                    \"market_cap\": 804164335101,\n",
      "                    \"percent_change_1h\": -1.92405116922927,\n",
      "                    \"percent_change_24h\": -7.75880621653896,\n",
      "                    \"percent_change_7d\": -10.5024230806707,\n",
      "                    \"percentage_change_1h\": -1.92405116922927,\n",
      "                    \"percentage_change_24h\": -7.75880621653896,\n",
      "                    \"percentage_change_7d\": -10.5024230806707,\n",
      "                    \"price\": 42713.0,\n",
      "                    \"volume_24h\": 28719638542\n",
      "                }\n",
      "            },\n",
      "            \"rank\": 1,\n",
      "            \"symbol\": \"BTC\",\n",
      "            \"total_supply\": 18920987,\n",
      "            \"website_slug\": \"bitcoin\"\n",
      "        }\n",
      "    },\n",
      "    \"metadata\": {\n",
      "        \"error\": null,\n",
      "        \"num_cryptocurrencies\": 3105,\n",
      "        \"timestamp\": 1641422507\n",
      "    }\n",
      "}\n"
     ]
    }
   ],
   "source": [
    "# This uses the Python requests library to make an API call to access the current price of BTC\n",
    "btc_response = requests.get(btc_url).json()\n",
    "\n",
    "# The json.dumps function reviews the response data from the API call\n",
    "# The indent and sort_keys parameters make the response object more readable to the user\n",
    "print(json.dumps(btc_response, indent=4, sort_keys=True))"
   ]
  },
  {
   "cell_type": "code",
   "execution_count": 156,
   "metadata": {},
   "outputs": [
    {
     "name": "stdout",
     "output_type": "stream",
     "text": [
      "{\n",
      "    \"data\": {\n",
      "        \"1027\": {\n",
      "            \"circulating_supply\": 119039735,\n",
      "            \"id\": 1027,\n",
      "            \"last_updated\": 1641422600,\n",
      "            \"max_supply\": 0,\n",
      "            \"name\": \"Ethereum\",\n",
      "            \"quotes\": {\n",
      "                \"USD\": {\n",
      "                    \"market_cap\": 409009060374,\n",
      "                    \"percent_change_1h\": -1.70613865058704,\n",
      "                    \"percent_change_24h\": -8.39560447777332,\n",
      "                    \"percent_change_7d\": -7.98140172923571,\n",
      "                    \"percentage_change_1h\": -1.70613865058704,\n",
      "                    \"percentage_change_24h\": -8.39560447777332,\n",
      "                    \"percentage_change_7d\": -7.98140172923571,\n",
      "                    \"price\": 3503.48,\n",
      "                    \"volume_24h\": 16014127506\n",
      "                }\n",
      "            },\n",
      "            \"rank\": 2,\n",
      "            \"symbol\": \"ETH\",\n",
      "            \"total_supply\": 119039735,\n",
      "            \"website_slug\": \"ethereum\"\n",
      "        }\n",
      "    },\n",
      "    \"metadata\": {\n",
      "        \"error\": null,\n",
      "        \"num_cryptocurrencies\": 3105,\n",
      "        \"timestamp\": 1641422600\n",
      "    }\n",
      "}\n"
     ]
    }
   ],
   "source": [
    "# This uses the Python requests library to make an API call to access the current price of ETH\n",
    "eth_response = requests.get(eth_url).json()\n",
    "\n",
    "# The json.dumps function reviews the response data from the API call\n",
    "# The indent and sort_keys parameters make the response object more readable to the user\n",
    "print(json.dumps(eth_response, indent=4, sort_keys=True))"
   ]
  },
  {
   "cell_type": "markdown",
   "metadata": {},
   "source": [
    "#### Step 3: Navigate the JSON response object to access the current price of each coin, and store each in a variable."
   ]
  },
  {
   "cell_type": "code",
   "execution_count": 157,
   "metadata": {},
   "outputs": [
    {
     "name": "stdout",
     "output_type": "stream",
     "text": [
      "42713.0\n"
     ]
    }
   ],
   "source": [
    "# This coding allows us to navigate the BTC response object to access the current price of BTC\n",
    "btc_price = btc_response['data']['1']['quotes']['USD']['price']\n",
    "\n",
    "# Printing the current price of BTC\n",
    "print(btc_price)"
   ]
  },
  {
   "cell_type": "code",
   "execution_count": 158,
   "metadata": {},
   "outputs": [
    {
     "name": "stdout",
     "output_type": "stream",
     "text": [
      "3503.48\n"
     ]
    }
   ],
   "source": [
    "# This coding allows us to navigate the BTC response object to access the current price of ETH\n",
    "eth_price = eth_response['data']['1027']['quotes']['USD']['price']\n",
    "\n",
    "# Printing the current price of ETH\n",
    "print(eth_price)"
   ]
  },
  {
   "cell_type": "markdown",
   "metadata": {},
   "source": [
    "### Step 4: Calculate the value, in US dollars, of the current amount of each cryptocurrency and of the entire cryptocurrency wallet."
   ]
  },
  {
   "cell_type": "code",
   "execution_count": 159,
   "metadata": {},
   "outputs": [
    {
     "name": "stdout",
     "output_type": "stream",
     "text": [
      "51255.6\n"
     ]
    }
   ],
   "source": [
    "# This calculates the current value of the members BTC holding \n",
    "btc_value = btc_coins * btc_price\n",
    "\n",
    "# Printing current value of the members holding in BTC\n",
    "print(btc_value)"
   ]
  },
  {
   "cell_type": "code",
   "execution_count": 160,
   "metadata": {},
   "outputs": [
    {
     "name": "stdout",
     "output_type": "stream",
     "text": [
      "18568.444\n"
     ]
    }
   ],
   "source": [
    "# This calculates the current value of the members ETH holding \n",
    "eth_value = eth_coins * eth_price\n",
    "\n",
    "# Printing current value of the members holding in ETH\n",
    "print(eth_value)"
   ]
  },
  {
   "cell_type": "code",
   "execution_count": 161,
   "metadata": {},
   "outputs": [
    {
     "name": "stdout",
     "output_type": "stream",
     "text": [
      "69824.044\n"
     ]
    }
   ],
   "source": [
    "# This calculates the total value of the members cryptocurrency wallet\n",
    "total_crypto_wallet = btc_value + eth_value\n",
    "\n",
    "# Printing the members current cryptocurrency wallet balance\n",
    "print(total_crypto_wallet)"
   ]
  },
  {
   "cell_type": "markdown",
   "metadata": {},
   "source": [
    "### Evaluate the Stock and Bond Holdings by Using the Alpaca SDK\n",
    "\n",
    "In this section, you’ll determine the current value of a member’s stock and bond holdings. You’ll make an API call to Alpaca via the Alpaca SDK to get the current closing prices of the SPDR S&P 500 ETF Trust (ticker: SPY) and of the iShares Core US Aggregate Bond ETF (ticker: AGG). For the prototype, assume that the member holds 110 shares of SPY, which represents the stock portion of their portfolio, and 200 shares of AGG, which represents the bond portion. To do all this, complete the following steps:\n",
    "\n",
    "1. In the `Starter_Code` folder, create an environment file (`.env`) to store the values of your Alpaca API key and Alpaca secret key.\n",
    "\n",
    "2. Set the variables for the Alpaca API and secret keys. Using the Alpaca SDK, create the Alpaca `tradeapi.REST` object. In this object, include the parameters for the Alpaca API key, the secret key, and the version number.\n",
    "\n",
    "3. Set the following parameters for the Alpaca API call:\n",
    "\n",
    "    - `tickers`: Use the tickers for the member’s stock and bond holdings.\n",
    "\n",
    "    - `timeframe`: Use a time frame of one day.\n",
    "\n",
    "    - `start_date` and `end_date`: Use the same date for these parameters, and format them with the date of the previous weekday (or `2020-08-07`). This is because you want the one closing price for the most-recent trading day.\n",
    "\n",
    "4. Get the current closing prices for `SPY` and `AGG` by using the Alpaca `get_barset` function. Format the response as a Pandas DataFrame by including the `df` property at the end of the `get_barset` function.\n",
    "\n",
    "5. Navigating the Alpaca response DataFrame, select the `SPY` and `AGG` closing prices, and store them as variables.\n",
    "\n",
    "6. Calculate the value, in US dollars, of the current amount of shares in each of the stock and bond portions of the portfolio, and print the results.\n"
   ]
  },
  {
   "cell_type": "markdown",
   "metadata": {},
   "source": [
    "#### Review the total number of shares held in both (SPY) and (AGG)."
   ]
  },
  {
   "cell_type": "code",
   "execution_count": 162,
   "metadata": {},
   "outputs": [],
   "source": [
    "# This is the current amount of shares held in both the stock (SPY) and bond (AGG) portion of the members portfolio\n",
    "spy_shares = 110\n",
    "agg_shares = 200"
   ]
  },
  {
   "cell_type": "markdown",
   "metadata": {},
   "source": [
    "#### Step 1: In the `Starter_Code` folder, create an environment file (`.env`) to store the values of your Alpaca API key and Alpaca secret key."
   ]
  },
  {
   "cell_type": "markdown",
   "metadata": {},
   "source": [
    "#### Step 2: Set the variables for the Alpaca API and secret keys. Using the Alpaca SDK, create the Alpaca `tradeapi.REST` object. In this object, include the parameters for the Alpaca API key, the secret key, and the version number."
   ]
  },
  {
   "cell_type": "code",
   "execution_count": 163,
   "metadata": {},
   "outputs": [],
   "source": [
    "# Setting variables for the Alpaca API and secret keys\n",
    "alpaca_api_key = os.getenv('ALPACA_API_KEY')\n",
    "alpaca_secret_key = os.getenv('ALPACA_SECRET_KEY')\n",
    "\n",
    "# This creates the Alpaca tradeapi.REST object\n",
    "alpaca = tradeapi.REST(\n",
    "    alpaca_api_key,\n",
    "    alpaca_secret_key,\n",
    "    api_version=\"v2\")"
   ]
  },
  {
   "cell_type": "markdown",
   "metadata": {},
   "source": [
    "#### Step 3: Set the following parameters for the Alpaca API call:\n",
    "\n",
    "- `tickers`: Use the tickers for the member’s stock and bond holdings.\n",
    "\n",
    "- `timeframe`: Use a time frame of one day.\n",
    "\n",
    "- `start_date` and `end_date`: Use the same date for these parameters, and format them with the date of the previous weekday (or `2020-08-07`). This is because you want the one closing price for the most-recent trading day.\n"
   ]
  },
  {
   "cell_type": "code",
   "execution_count": 164,
   "metadata": {},
   "outputs": [],
   "source": [
    "# This sets the tickers for both the bond and stock portion of the portfolio\n",
    "tickers = ['SPY', 'AGG']\n",
    "\n",
    "# This sets timeframe to 1 day\n",
    "timeframe = '1D'\n",
    "\n",
    "# The following formats the current date as ISO format\n",
    "# Set both the start and end date at the date of your prior weekday \n",
    "start_date = pd.Timestamp(\"2021-12-29\", tz=\"America/New_York\").isoformat()\n",
    "end_date = pd.Timestamp(\"2021-12-29\", tz=\"America/New_York\").isoformat()"
   ]
  },
  {
   "cell_type": "markdown",
   "metadata": {},
   "source": [
    "#### Step 4: Get the current closing prices for `SPY` and `AGG` by using the Alpaca `get_barset` function. Format the response as a Pandas DataFrame by including the `df` property at the end of the `get_barset` function."
   ]
  },
  {
   "cell_type": "code",
   "execution_count": 165,
   "metadata": {},
   "outputs": [
    {
     "data": {
      "text/html": [
       "<div>\n",
       "<style scoped>\n",
       "    .dataframe tbody tr th:only-of-type {\n",
       "        vertical-align: middle;\n",
       "    }\n",
       "\n",
       "    .dataframe tbody tr th {\n",
       "        vertical-align: top;\n",
       "    }\n",
       "\n",
       "    .dataframe thead tr th {\n",
       "        text-align: left;\n",
       "    }\n",
       "\n",
       "    .dataframe thead tr:last-of-type th {\n",
       "        text-align: right;\n",
       "    }\n",
       "</style>\n",
       "<table border=\"1\" class=\"dataframe\">\n",
       "  <thead>\n",
       "    <tr>\n",
       "      <th></th>\n",
       "      <th colspan=\"5\" halign=\"left\">AGG</th>\n",
       "      <th colspan=\"5\" halign=\"left\">SPY</th>\n",
       "    </tr>\n",
       "    <tr>\n",
       "      <th></th>\n",
       "      <th>open</th>\n",
       "      <th>high</th>\n",
       "      <th>low</th>\n",
       "      <th>close</th>\n",
       "      <th>volume</th>\n",
       "      <th>open</th>\n",
       "      <th>high</th>\n",
       "      <th>low</th>\n",
       "      <th>close</th>\n",
       "      <th>volume</th>\n",
       "    </tr>\n",
       "    <tr>\n",
       "      <th>time</th>\n",
       "      <th></th>\n",
       "      <th></th>\n",
       "      <th></th>\n",
       "      <th></th>\n",
       "      <th></th>\n",
       "      <th></th>\n",
       "      <th></th>\n",
       "      <th></th>\n",
       "      <th></th>\n",
       "      <th></th>\n",
       "    </tr>\n",
       "  </thead>\n",
       "  <tbody>\n",
       "    <tr>\n",
       "      <th>2021-12-29 00:00:00-05:00</th>\n",
       "      <td>113.99</td>\n",
       "      <td>114.05</td>\n",
       "      <td>113.81</td>\n",
       "      <td>113.87</td>\n",
       "      <td>5712959</td>\n",
       "      <td>477</td>\n",
       "      <td>478.56</td>\n",
       "      <td>475.92</td>\n",
       "      <td>477.46</td>\n",
       "      <td>47223213</td>\n",
       "    </tr>\n",
       "  </tbody>\n",
       "</table>\n",
       "</div>"
      ],
      "text/plain": [
       "                              AGG                                   SPY  \\\n",
       "                             open    high     low   close   volume open   \n",
       "time                                                                      \n",
       "2021-12-29 00:00:00-05:00  113.99  114.05  113.81  113.87  5712959  477   \n",
       "\n",
       "                                                             \n",
       "                             high     low   close    volume  \n",
       "time                                                         \n",
       "2021-12-29 00:00:00-05:00  478.56  475.92  477.46  47223213  "
      ]
     },
     "execution_count": 165,
     "metadata": {},
     "output_type": "execute_result"
    }
   ],
   "source": [
    "# This uses the Alpaca get_barset function to get the current closing prices the members portfolio\n",
    "closing_prices = alpaca.get_barset(tickers,timeframe,start=start_date,end=end_date\n",
    ").df\n",
    "\n",
    "\n",
    "# Review the first 5 rows of the Alpaca DataFrame\n",
    "# YOUR CODE HERE\n",
    "closing_prices.head()"
   ]
  },
  {
   "cell_type": "markdown",
   "metadata": {},
   "source": [
    "#### Step 5: Navigating the Alpaca response DataFrame, select the `SPY` and `AGG` closing prices, and store them as variables."
   ]
  },
  {
   "cell_type": "code",
   "execution_count": 166,
   "metadata": {},
   "outputs": [
    {
     "name": "stdout",
     "output_type": "stream",
     "text": [
      "113.87\n"
     ]
    }
   ],
   "source": [
    "# This allows us to access the closing price for AGG from the Alpaca DataFrame\n",
    "agg_close_price = float(closing_prices['AGG']['close'])\n",
    "\n",
    "# Printing the AGG closing price\n",
    "print(agg_close_price)"
   ]
  },
  {
   "cell_type": "code",
   "execution_count": 167,
   "metadata": {},
   "outputs": [
    {
     "name": "stdout",
     "output_type": "stream",
     "text": [
      "477.46\n"
     ]
    }
   ],
   "source": [
    "# This allows us to access the closing price for SPY from the Alpaca DataFrame\n",
    "spy_close_price = float(closing_prices['SPY']['close'])\n",
    "\n",
    "# Printing the SPY closing price\n",
    "print(spy_close_price)"
   ]
  },
  {
   "cell_type": "markdown",
   "metadata": {},
   "source": [
    "#### Step 6: Calculate the value, in US dollars, of the current amount of shares in each of the stock and bond portions of the portfolio, and print the results."
   ]
  },
  {
   "cell_type": "code",
   "execution_count": 168,
   "metadata": {},
   "outputs": [
    {
     "name": "stdout",
     "output_type": "stream",
     "text": [
      "22774.0\n"
     ]
    }
   ],
   "source": [
    "# This calculates the current value of the bond portion of the members portfolio\n",
    "# by multiplying the closing price by the number of shares\n",
    "agg_value = agg_close_price * agg_shares\n",
    "\n",
    "# Printing the current value of the members bond portfolio\n",
    "print(agg_value)"
   ]
  },
  {
   "cell_type": "code",
   "execution_count": 169,
   "metadata": {},
   "outputs": [
    {
     "name": "stdout",
     "output_type": "stream",
     "text": [
      "52520.6\n"
     ]
    }
   ],
   "source": [
    "# This calculates the current value of the stock portion of the members portfolio\n",
    "# by multiplying the closing price by the number of shares\n",
    "spy_value = spy_close_price * spy_shares\n",
    "\n",
    "# Printing the current value of the members stock portfolio\n",
    "print(spy_value)"
   ]
  },
  {
   "cell_type": "code",
   "execution_count": 170,
   "metadata": {},
   "outputs": [
    {
     "name": "stdout",
     "output_type": "stream",
     "text": [
      "75294.6\n"
     ]
    }
   ],
   "source": [
    "# Here we calculate the total value of the stock and bond portion of the portfolio by adding them together\n",
    "total_stocks_bonds = agg_value + spy_value\n",
    "\n",
    "# Printing the current balance of the members stock and bond portion of the portfolio\n",
    "print(total_stocks_bonds)"
   ]
  },
  {
   "cell_type": "code",
   "execution_count": 171,
   "metadata": {},
   "outputs": [
    {
     "name": "stdout",
     "output_type": "stream",
     "text": [
      "145118.644\n"
     ]
    }
   ],
   "source": [
    "# And finally, we can calculate the total value of the member's entire savings portfolio\n",
    "# By adding the value of the cryptocurrency wallet to the value of the total stocks and bonds\n",
    "total_portfolio = total_crypto_wallet + total_stocks_bonds\n",
    "\n",
    "# Printing the members total portfolio balance\n",
    "print(total_portfolio)"
   ]
  },
  {
   "cell_type": "markdown",
   "metadata": {},
   "source": [
    "### Evaluate the Emergency Fund\n",
    "\n",
    "In this section, you’ll use the valuations for the cryptocurrency wallet and for the stock and bond portions of the portfolio to determine if the credit union member has enough savings to build an emergency fund into their financial plan. To do this, complete the following steps:\n",
    "\n",
    "1. Create a Python list named `savings_data` that has two elements. The first element contains the total value of the cryptocurrency wallet. The second element contains the total value of the stock and bond portions of the portfolio.\n",
    "\n",
    "2. Use the `savings_data` list to create a Pandas DataFrame named `savings_df`, and then display this DataFrame. The function to create the DataFrame should take the following three parameters:\n",
    "\n",
    "    - `savings_data`: Use the list that you just created.\n",
    "\n",
    "    - `columns`: Set this parameter equal to a Python list with a single value called `amount`.\n",
    "\n",
    "    - `index`: Set this parameter equal to a Python list with the values of `crypto` and `stock/bond`.\n",
    "\n",
    "3. Use the `savings_df` DataFrame to plot a pie chart that visualizes the composition of the member’s portfolio. The y-axis of the pie chart uses `amount`. Be sure to add a title.\n",
    "\n",
    "4. Using Python, determine if the current portfolio has enough to create an emergency fund as part of the member’s financial plan. Ideally, an emergency fund should equal to three times the member’s monthly income. To do this, implement the following steps:\n",
    "\n",
    "    1. Create a variable named `emergency_fund_value`, and set it equal to three times the value of the member’s `monthly_income` of $12000. (You set this earlier in Part 1).\n",
    "\n",
    "    2. Create a series of three if statements to determine if the member’s total portfolio is large enough to fund the emergency portfolio:\n",
    "\n",
    "        1. If the total portfolio value is greater than the emergency fund value, display a message congratulating the member for having enough money in this fund.\n",
    "\n",
    "        2. Else if the total portfolio value is equal to the emergency fund value, display a message congratulating the member on reaching this important financial goal.\n",
    "\n",
    "        3. Else the total portfolio is less than the emergency fund value, so display a message showing how many dollars away the member is from reaching the goal. (Subtract the total portfolio value from the emergency fund value.)\n"
   ]
  },
  {
   "cell_type": "markdown",
   "metadata": {},
   "source": [
    "#### Step 1: Create a Python list named `savings_data` that has two elements. The first element contains the total value of the cryptocurrency wallet. The second element contains the total value of the stock and bond portions of the portfolio."
   ]
  },
  {
   "cell_type": "code",
   "execution_count": 172,
   "metadata": {},
   "outputs": [
    {
     "name": "stdout",
     "output_type": "stream",
     "text": [
      "[69824.044, 75294.6]\n"
     ]
    }
   ],
   "source": [
    "# Here we consolidate the members financial assets data into a list\n",
    "savings_data = [total_crypto_wallet, total_stocks_bonds]\n",
    "\n",
    "# Printing the list for confirmation\n",
    "print(savings_data)"
   ]
  },
  {
   "cell_type": "markdown",
   "metadata": {},
   "source": [
    "#### Step 2: Use the `savings_data` list to create a Pandas DataFrame named `savings_df`, and then display this DataFrame. The function to create the DataFrame should take the following three parameters:\n",
    "\n",
    "- `savings_data`: Use the list that you just created.\n",
    "\n",
    "- `columns`: Set this parameter equal to a Python list with a single value called `amount`.\n",
    "\n",
    "- `index`: Set this parameter equal to a Python list with the values of `crypto` and `stock/bond`.\n"
   ]
  },
  {
   "cell_type": "code",
   "execution_count": 173,
   "metadata": {},
   "outputs": [
    {
     "data": {
      "text/html": [
       "<div>\n",
       "<style scoped>\n",
       "    .dataframe tbody tr th:only-of-type {\n",
       "        vertical-align: middle;\n",
       "    }\n",
       "\n",
       "    .dataframe tbody tr th {\n",
       "        vertical-align: top;\n",
       "    }\n",
       "\n",
       "    .dataframe thead th {\n",
       "        text-align: right;\n",
       "    }\n",
       "</style>\n",
       "<table border=\"1\" class=\"dataframe\">\n",
       "  <thead>\n",
       "    <tr style=\"text-align: right;\">\n",
       "      <th></th>\n",
       "      <th>amount</th>\n",
       "    </tr>\n",
       "  </thead>\n",
       "  <tbody>\n",
       "    <tr>\n",
       "      <th>crypto</th>\n",
       "      <td>69824.044</td>\n",
       "    </tr>\n",
       "    <tr>\n",
       "      <th>stock/bond</th>\n",
       "      <td>75294.600</td>\n",
       "    </tr>\n",
       "  </tbody>\n",
       "</table>\n",
       "</div>"
      ],
      "text/plain": [
       "               amount\n",
       "crypto      69824.044\n",
       "stock/bond  75294.600"
      ]
     },
     "metadata": {},
     "output_type": "display_data"
    }
   ],
   "source": [
    "# Now we can create a DataFrame of the financial assets\n",
    "savings_df = pd.DataFrame(savings_data, columns = ['amount'], index = ['crypto', 'stock/bond'])\n",
    "\n",
    "# This displays the dataframe with appropriate columns and index names\n",
    "display(savings_df)"
   ]
  },
  {
   "cell_type": "markdown",
   "metadata": {},
   "source": [
    "#### Step 3: Use the `savings_df` DataFrame to plot a pie chart that visualizes the composition of the member’s portfolio. The y-axis of the pie chart uses `amount`. Be sure to add a title."
   ]
  },
  {
   "cell_type": "code",
   "execution_count": 174,
   "metadata": {},
   "outputs": [
    {
     "data": {
      "text/plain": [
       "<AxesSubplot:title={'center':'Total Value of Portfolio: Crypto and Stocks + Bonds'}, ylabel='amount'>"
      ]
     },
     "execution_count": 174,
     "metadata": {},
     "output_type": "execute_result"
    },
    {
     "data": {
      "image/png": "[encoded data removed]",
      "text/plain": [
       "<Figure size 432x288 with 1 Axes>"
      ]
     },
     "metadata": {},
     "output_type": "display_data"
    }
   ],
   "source": [
    "# Plot the total value of the member's portfolio (crypto and stock/bond) in a pie chart\n",
    "savings_df.plot.pie(y='amount', title = 'Total Value of Portfolio: Crypto and Stocks + Bonds')"
   ]
  },
  {
   "cell_type": "markdown",
   "metadata": {},
   "source": [
    "#### Step 4: Using Python, determine if the current portfolio has enough to create an emergency fund as part of the member’s financial plan. Ideally, an emergency fund should equal to three times the member’s monthly income. To do this, implement the following steps:\n",
    "\n",
    "Step 1. Create a variable named `emergency_fund_value`, and set it equal to three times the value of the member’s `monthly_income` of 12000. (You set this earlier in Part 1).\n",
    "\n",
    "Step 2. Create a series of three if statements to determine if the member’s total portfolio is large enough to fund the emergency portfolio:\n",
    "\n",
    "* If the total portfolio value is greater than the emergency fund value, display a message congratulating the member for having enough money in this fund.\n",
    "\n",
    "* Else if the total portfolio value is equal to the emergency fund value, display a message congratulating the member on reaching this important financial goal.\n",
    "\n",
    "* Else the total portfolio is less than the emergency fund value, so display a message showing how many dollars away the member is from reaching the goal. (Subtract the total portfolio value from the emergency fund value.)\n"
   ]
  },
  {
   "cell_type": "markdown",
   "metadata": {},
   "source": [
    "##### Step 4-1: Create a variable named `emergency_fund_value`, and set it equal to three times the value of the member’s `monthly_income` of 12000. (You set this earlier in Part 1)."
   ]
  },
  {
   "cell_type": "code",
   "execution_count": 175,
   "metadata": {},
   "outputs": [
    {
     "name": "stdout",
     "output_type": "stream",
     "text": [
      "36000\n"
     ]
    }
   ],
   "source": [
    "# Starting the process to determine if the member has enough asset in their portfolio to create an emergency fund\n",
    "# so we start by setting the preferred emergency fund value as three times the members monthly income\n",
    "emergency_fund_value = monthly_income * 3\n",
    "print(emergency_fund_value)"
   ]
  },
  {
   "cell_type": "markdown",
   "metadata": {},
   "source": [
    "##### Step 4-2: Create a series of three if statements to determine if the member’s total portfolio is large enough to fund the emergency portfolio:\n",
    "\n",
    "* If the total portfolio value is greater than the emergency fund value, display a message congratulating the member for having enough money in this fund.\n",
    "\n",
    "* Else if the total portfolio value is equal to the emergency fund value, display a message congratulating the member on reaching this important financial goal.\n",
    "\n",
    "* Else the total portfolio is less than the emergency fund value, so display a message showing how many dollars away the member is from reaching the goal. (Subtract the total portfolio value from the emergency fund value.)"
   ]
  },
  {
   "cell_type": "code",
   "execution_count": 176,
   "metadata": {},
   "outputs": [
    {
     "name": "stdout",
     "output_type": "stream",
     "text": [
      "Congratulations! You have enough assets in your total portfolio to have an emergency fund.\n"
     ]
    }
   ],
   "source": [
    "# Here we can determine if the member has enough assets in their portfolio to create an emergency fund\n",
    "if total_portfolio > emergency_fund_value:\n",
    "    print('Congratulations! You have enough assets in your total portfolio to have an emergency fund.')\n",
    "elif total_portfolio == emergency_fund_value:\n",
    "    print('Congratulations! You have just enough asset in your total portfolio.')\n",
    "else:\n",
    "    print(f\"You will need ({emergency_fund_value} - {total_portfolio}) to reach your goal of starting an emergency fund.\")"
   ]
  },
  {
   "cell_type": "markdown",
   "metadata": {},
   "source": [
    "## Part 2: Create a Financial Planner for Retirement"
   ]
  },
  {
   "cell_type": "markdown",
   "metadata": {},
   "source": [
    "### Create the Monte Carlo Simulation\n",
    "\n",
    "In this section, you’ll use the MCForecastTools library to create a Monte Carlo simulation for the member’s savings portfolio. To do this, complete the following steps:\n",
    "\n",
    "1. Make an API call via the Alpaca SDK to get 3 years of historical closing prices for a traditional 60/40 portfolio split: 60% stocks (SPY) and 40% bonds (AGG).\n",
    "\n",
    "2. Run a Monte Carlo simulation of 500 samples and 30 years for the 60/40 portfolio, and then plot the results.The following image shows the overlay line plot resulting from a simulation with these characteristics. However, because a random number generator is used to run each live Monte Carlo simulation, your image will differ slightly from this exact image:\n",
    "\n",
    "![A screenshot depicts the resulting plot.](Images/5-4-monte-carlo-line-plot.png)\n",
    "\n",
    "3. Plot the probability distribution of the Monte Carlo simulation. Plot the probability distribution of the Monte Carlo simulation. The following image shows the histogram plot resulting from a simulation with these characteristics. However, because a random number generator is used to run each live Monte Carlo simulation, your image will differ slightly from this exact image:\n",
    "\n",
    "![A screenshot depicts the histogram plot.](Images/5-4-monte-carlo-histogram.png)\n",
    "\n",
    "4. Generate the summary statistics for the Monte Carlo simulation.\n",
    "\n"
   ]
  },
  {
   "cell_type": "markdown",
   "metadata": {},
   "source": [
    "#### Step 1: Make an API call via the Alpaca SDK to get 3 years of historical closing prices for a traditional 60/40 portfolio split: 60% stocks (SPY) and 40% bonds (AGG)."
   ]
  },
  {
   "cell_type": "code",
   "execution_count": 177,
   "metadata": {},
   "outputs": [],
   "source": [
    "# Here we set a 3 years worth of historical closing prices\n",
    "start_date = pd.Timestamp('2019-01-04', tz = \"America/New_York\").isoformat()\n",
    "end_date = pd.Timestamp('2022-01-03', tz = \"America/New_York\").isoformat()\n",
    "# This sets the number of rows to 1000, in order to reach the maximum amount of data\n",
    "limit_rows = 1000"
   ]
  },
  {
   "cell_type": "code",
   "execution_count": 178,
   "metadata": {},
   "outputs": [
    {
     "data": {
      "text/html": [
       "<div>\n",
       "<style scoped>\n",
       "    .dataframe tbody tr th:only-of-type {\n",
       "        vertical-align: middle;\n",
       "    }\n",
       "\n",
       "    .dataframe tbody tr th {\n",
       "        vertical-align: top;\n",
       "    }\n",
       "\n",
       "    .dataframe thead tr th {\n",
       "        text-align: left;\n",
       "    }\n",
       "\n",
       "    .dataframe thead tr:last-of-type th {\n",
       "        text-align: right;\n",
       "    }\n",
       "</style>\n",
       "<table border=\"1\" class=\"dataframe\">\n",
       "  <thead>\n",
       "    <tr>\n",
       "      <th></th>\n",
       "      <th colspan=\"5\" halign=\"left\">AGG</th>\n",
       "      <th colspan=\"5\" halign=\"left\">SPY</th>\n",
       "    </tr>\n",
       "    <tr>\n",
       "      <th></th>\n",
       "      <th>open</th>\n",
       "      <th>high</th>\n",
       "      <th>low</th>\n",
       "      <th>close</th>\n",
       "      <th>volume</th>\n",
       "      <th>open</th>\n",
       "      <th>high</th>\n",
       "      <th>low</th>\n",
       "      <th>close</th>\n",
       "      <th>volume</th>\n",
       "    </tr>\n",
       "    <tr>\n",
       "      <th>time</th>\n",
       "      <th></th>\n",
       "      <th></th>\n",
       "      <th></th>\n",
       "      <th></th>\n",
       "      <th></th>\n",
       "      <th></th>\n",
       "      <th></th>\n",
       "      <th></th>\n",
       "      <th></th>\n",
       "      <th></th>\n",
       "    </tr>\n",
       "  </thead>\n",
       "  <tbody>\n",
       "    <tr>\n",
       "      <th>2019-01-04 00:00:00-05:00</th>\n",
       "      <td>106.66</td>\n",
       "      <td>106.72</td>\n",
       "      <td>106.55</td>\n",
       "      <td>106.695</td>\n",
       "      <td>7755476.0</td>\n",
       "      <td>247.59</td>\n",
       "      <td>253.11</td>\n",
       "      <td>247.17</td>\n",
       "      <td>252.41</td>\n",
       "      <td>122528832</td>\n",
       "    </tr>\n",
       "    <tr>\n",
       "      <th>2019-01-07 00:00:00-05:00</th>\n",
       "      <td>106.72</td>\n",
       "      <td>106.79</td>\n",
       "      <td>106.46</td>\n",
       "      <td>106.470</td>\n",
       "      <td>6545877.0</td>\n",
       "      <td>252.69</td>\n",
       "      <td>255.95</td>\n",
       "      <td>251.69</td>\n",
       "      <td>254.40</td>\n",
       "      <td>88317608</td>\n",
       "    </tr>\n",
       "    <tr>\n",
       "      <th>2019-01-08 00:00:00-05:00</th>\n",
       "      <td>106.40</td>\n",
       "      <td>106.53</td>\n",
       "      <td>105.53</td>\n",
       "      <td>106.420</td>\n",
       "      <td>3818241.0</td>\n",
       "      <td>256.82</td>\n",
       "      <td>257.31</td>\n",
       "      <td>254.00</td>\n",
       "      <td>256.65</td>\n",
       "      <td>88864452</td>\n",
       "    </tr>\n",
       "    <tr>\n",
       "      <th>2019-01-09 00:00:00-05:00</th>\n",
       "      <td>106.42</td>\n",
       "      <td>106.57</td>\n",
       "      <td>105.95</td>\n",
       "      <td>106.480</td>\n",
       "      <td>5163839.0</td>\n",
       "      <td>257.56</td>\n",
       "      <td>258.91</td>\n",
       "      <td>241.40</td>\n",
       "      <td>257.71</td>\n",
       "      <td>77555720</td>\n",
       "    </tr>\n",
       "    <tr>\n",
       "      <th>2019-01-10 00:00:00-05:00</th>\n",
       "      <td>106.52</td>\n",
       "      <td>106.56</td>\n",
       "      <td>106.33</td>\n",
       "      <td>106.385</td>\n",
       "      <td>3441214.0</td>\n",
       "      <td>256.26</td>\n",
       "      <td>259.16</td>\n",
       "      <td>255.50</td>\n",
       "      <td>258.94</td>\n",
       "      <td>85909797</td>\n",
       "    </tr>\n",
       "  </tbody>\n",
       "</table>\n",
       "</div>"
      ],
      "text/plain": [
       "                              AGG                                         SPY  \\\n",
       "                             open    high     low    close     volume    open   \n",
       "time                                                                            \n",
       "2019-01-04 00:00:00-05:00  106.66  106.72  106.55  106.695  7755476.0  247.59   \n",
       "2019-01-07 00:00:00-05:00  106.72  106.79  106.46  106.470  6545877.0  252.69   \n",
       "2019-01-08 00:00:00-05:00  106.40  106.53  105.53  106.420  3818241.0  256.82   \n",
       "2019-01-09 00:00:00-05:00  106.42  106.57  105.95  106.480  5163839.0  257.56   \n",
       "2019-01-10 00:00:00-05:00  106.52  106.56  106.33  106.385  3441214.0  256.26   \n",
       "\n",
       "                                                              \n",
       "                             high     low   close     volume  \n",
       "time                                                          \n",
       "2019-01-04 00:00:00-05:00  253.11  247.17  252.41  122528832  \n",
       "2019-01-07 00:00:00-05:00  255.95  251.69  254.40   88317608  \n",
       "2019-01-08 00:00:00-05:00  257.31  254.00  256.65   88864452  \n",
       "2019-01-09 00:00:00-05:00  258.91  241.40  257.71   77555720  \n",
       "2019-01-10 00:00:00-05:00  259.16  255.50  258.94   85909797  "
      ]
     },
     "metadata": {},
     "output_type": "display_data"
    },
    {
     "data": {
      "text/html": [
       "<div>\n",
       "<style scoped>\n",
       "    .dataframe tbody tr th:only-of-type {\n",
       "        vertical-align: middle;\n",
       "    }\n",
       "\n",
       "    .dataframe tbody tr th {\n",
       "        vertical-align: top;\n",
       "    }\n",
       "\n",
       "    .dataframe thead tr th {\n",
       "        text-align: left;\n",
       "    }\n",
       "\n",
       "    .dataframe thead tr:last-of-type th {\n",
       "        text-align: right;\n",
       "    }\n",
       "</style>\n",
       "<table border=\"1\" class=\"dataframe\">\n",
       "  <thead>\n",
       "    <tr>\n",
       "      <th></th>\n",
       "      <th colspan=\"5\" halign=\"left\">AGG</th>\n",
       "      <th colspan=\"5\" halign=\"left\">SPY</th>\n",
       "    </tr>\n",
       "    <tr>\n",
       "      <th></th>\n",
       "      <th>open</th>\n",
       "      <th>high</th>\n",
       "      <th>low</th>\n",
       "      <th>close</th>\n",
       "      <th>volume</th>\n",
       "      <th>open</th>\n",
       "      <th>high</th>\n",
       "      <th>low</th>\n",
       "      <th>close</th>\n",
       "      <th>volume</th>\n",
       "    </tr>\n",
       "    <tr>\n",
       "      <th>time</th>\n",
       "      <th></th>\n",
       "      <th></th>\n",
       "      <th></th>\n",
       "      <th></th>\n",
       "      <th></th>\n",
       "      <th></th>\n",
       "      <th></th>\n",
       "      <th></th>\n",
       "      <th></th>\n",
       "      <th></th>\n",
       "    </tr>\n",
       "  </thead>\n",
       "  <tbody>\n",
       "    <tr>\n",
       "      <th>2021-12-28 00:00:00-05:00</th>\n",
       "      <td>114.43</td>\n",
       "      <td>114.4500</td>\n",
       "      <td>114.17</td>\n",
       "      <td>114.22</td>\n",
       "      <td>4892072.0</td>\n",
       "      <td>477.72</td>\n",
       "      <td>478.81</td>\n",
       "      <td>476.06</td>\n",
       "      <td>476.89</td>\n",
       "      <td>37370466</td>\n",
       "    </tr>\n",
       "    <tr>\n",
       "      <th>2021-12-29 00:00:00-05:00</th>\n",
       "      <td>113.99</td>\n",
       "      <td>114.0500</td>\n",
       "      <td>113.81</td>\n",
       "      <td>113.87</td>\n",
       "      <td>5712959.0</td>\n",
       "      <td>477.00</td>\n",
       "      <td>478.56</td>\n",
       "      <td>475.92</td>\n",
       "      <td>477.46</td>\n",
       "      <td>47223213</td>\n",
       "    </tr>\n",
       "    <tr>\n",
       "      <th>2021-12-30 00:00:00-05:00</th>\n",
       "      <td>113.99</td>\n",
       "      <td>114.1300</td>\n",
       "      <td>113.83</td>\n",
       "      <td>114.12</td>\n",
       "      <td>5044053.0</td>\n",
       "      <td>477.93</td>\n",
       "      <td>479.00</td>\n",
       "      <td>475.67</td>\n",
       "      <td>476.15</td>\n",
       "      <td>44681636</td>\n",
       "    </tr>\n",
       "    <tr>\n",
       "      <th>2021-12-31 00:00:00-05:00</th>\n",
       "      <td>114.15</td>\n",
       "      <td>114.3100</td>\n",
       "      <td>114.06</td>\n",
       "      <td>114.09</td>\n",
       "      <td>6557778.0</td>\n",
       "      <td>475.64</td>\n",
       "      <td>476.86</td>\n",
       "      <td>474.67</td>\n",
       "      <td>474.89</td>\n",
       "      <td>51212452</td>\n",
       "    </tr>\n",
       "    <tr>\n",
       "      <th>2022-01-03 00:00:00-05:00</th>\n",
       "      <td>113.67</td>\n",
       "      <td>113.6753</td>\n",
       "      <td>113.31</td>\n",
       "      <td>113.31</td>\n",
       "      <td>8906643.0</td>\n",
       "      <td>476.32</td>\n",
       "      <td>477.85</td>\n",
       "      <td>473.85</td>\n",
       "      <td>477.76</td>\n",
       "      <td>56128214</td>\n",
       "    </tr>\n",
       "  </tbody>\n",
       "</table>\n",
       "</div>"
      ],
      "text/plain": [
       "                              AGG                                       \\\n",
       "                             open      high     low   close     volume   \n",
       "time                                                                     \n",
       "2021-12-28 00:00:00-05:00  114.43  114.4500  114.17  114.22  4892072.0   \n",
       "2021-12-29 00:00:00-05:00  113.99  114.0500  113.81  113.87  5712959.0   \n",
       "2021-12-30 00:00:00-05:00  113.99  114.1300  113.83  114.12  5044053.0   \n",
       "2021-12-31 00:00:00-05:00  114.15  114.3100  114.06  114.09  6557778.0   \n",
       "2022-01-03 00:00:00-05:00  113.67  113.6753  113.31  113.31  8906643.0   \n",
       "\n",
       "                              SPY                                    \n",
       "                             open    high     low   close    volume  \n",
       "time                                                                 \n",
       "2021-12-28 00:00:00-05:00  477.72  478.81  476.06  476.89  37370466  \n",
       "2021-12-29 00:00:00-05:00  477.00  478.56  475.92  477.46  47223213  \n",
       "2021-12-30 00:00:00-05:00  477.93  479.00  475.67  476.15  44681636  \n",
       "2021-12-31 00:00:00-05:00  475.64  476.86  474.67  474.89  51212452  \n",
       "2022-01-03 00:00:00-05:00  476.32  477.85  473.85  477.76  56128214  "
      ]
     },
     "metadata": {},
     "output_type": "display_data"
    }
   ],
   "source": [
    "# Here we are making the API call to look at 3 years worth of data, using tickers from earlier in the challenge,\n",
    "# the above dates.\n",
    "# This will present as a dataframe\n",
    "\n",
    "closing_prices_df = alpaca.get_barset(\n",
    "\ttickers,\n",
    "\ttimeframe,\n",
    "\tstart=start_date,\n",
    "\tend=end_date,\n",
    "\tlimit=limit_rows\n",
    ").df\n",
    "\n",
    "# Confirming the dataframe was created by looking at the first and last 5 rows\n",
    "display(closing_prices_df.head())\n",
    "display(closing_prices_df.tail())"
   ]
  },
  {
   "cell_type": "markdown",
   "metadata": {},
   "source": [
    "#### Step 2: Run a Monte Carlo simulation of 500 samples and 30 years for the 60/40 portfolio, and then plot the results."
   ]
  },
  {
   "cell_type": "code",
   "execution_count": 179,
   "metadata": {},
   "outputs": [],
   "source": [
    "# This allows us to import the MCSimulation module from the MCForecastTools library file\n",
    "from MCForecastTools import MCSimulation\n",
    "\n",
    "# The following step is not necessary, but it prints the documentation of the MCSimulation module of the MCForecastTools library\n",
    "# Remove this comment to see the MCSimulation specs:     ?MCSimulation\n"
   ]
  },
  {
   "cell_type": "code",
   "execution_count": 180,
   "metadata": {},
   "outputs": [
    {
     "data": {
      "text/html": [
       "<div>\n",
       "<style scoped>\n",
       "    .dataframe tbody tr th:only-of-type {\n",
       "        vertical-align: middle;\n",
       "    }\n",
       "\n",
       "    .dataframe tbody tr th {\n",
       "        vertical-align: top;\n",
       "    }\n",
       "\n",
       "    .dataframe thead tr th {\n",
       "        text-align: left;\n",
       "    }\n",
       "\n",
       "    .dataframe thead tr:last-of-type th {\n",
       "        text-align: right;\n",
       "    }\n",
       "</style>\n",
       "<table border=\"1\" class=\"dataframe\">\n",
       "  <thead>\n",
       "    <tr>\n",
       "      <th></th>\n",
       "      <th colspan=\"6\" halign=\"left\">AGG</th>\n",
       "      <th colspan=\"6\" halign=\"left\">SPY</th>\n",
       "    </tr>\n",
       "    <tr>\n",
       "      <th></th>\n",
       "      <th>open</th>\n",
       "      <th>high</th>\n",
       "      <th>low</th>\n",
       "      <th>close</th>\n",
       "      <th>volume</th>\n",
       "      <th>daily_return</th>\n",
       "      <th>open</th>\n",
       "      <th>high</th>\n",
       "      <th>low</th>\n",
       "      <th>close</th>\n",
       "      <th>volume</th>\n",
       "      <th>daily_return</th>\n",
       "    </tr>\n",
       "    <tr>\n",
       "      <th>time</th>\n",
       "      <th></th>\n",
       "      <th></th>\n",
       "      <th></th>\n",
       "      <th></th>\n",
       "      <th></th>\n",
       "      <th></th>\n",
       "      <th></th>\n",
       "      <th></th>\n",
       "      <th></th>\n",
       "      <th></th>\n",
       "      <th></th>\n",
       "      <th></th>\n",
       "    </tr>\n",
       "  </thead>\n",
       "  <tbody>\n",
       "    <tr>\n",
       "      <th>2019-01-04 00:00:00-05:00</th>\n",
       "      <td>106.66</td>\n",
       "      <td>106.72</td>\n",
       "      <td>106.55</td>\n",
       "      <td>106.695</td>\n",
       "      <td>7755476.0</td>\n",
       "      <td>NaN</td>\n",
       "      <td>247.59</td>\n",
       "      <td>253.11</td>\n",
       "      <td>247.17</td>\n",
       "      <td>252.41</td>\n",
       "      <td>122528832</td>\n",
       "      <td>NaN</td>\n",
       "    </tr>\n",
       "    <tr>\n",
       "      <th>2019-01-07 00:00:00-05:00</th>\n",
       "      <td>106.72</td>\n",
       "      <td>106.79</td>\n",
       "      <td>106.46</td>\n",
       "      <td>106.470</td>\n",
       "      <td>6545877.0</td>\n",
       "      <td>-0.002109</td>\n",
       "      <td>252.69</td>\n",
       "      <td>255.95</td>\n",
       "      <td>251.69</td>\n",
       "      <td>254.40</td>\n",
       "      <td>88317608</td>\n",
       "      <td>0.007884</td>\n",
       "    </tr>\n",
       "    <tr>\n",
       "      <th>2019-01-08 00:00:00-05:00</th>\n",
       "      <td>106.40</td>\n",
       "      <td>106.53</td>\n",
       "      <td>105.53</td>\n",
       "      <td>106.420</td>\n",
       "      <td>3818241.0</td>\n",
       "      <td>-0.000470</td>\n",
       "      <td>256.82</td>\n",
       "      <td>257.31</td>\n",
       "      <td>254.00</td>\n",
       "      <td>256.65</td>\n",
       "      <td>88864452</td>\n",
       "      <td>0.008844</td>\n",
       "    </tr>\n",
       "    <tr>\n",
       "      <th>2019-01-09 00:00:00-05:00</th>\n",
       "      <td>106.42</td>\n",
       "      <td>106.57</td>\n",
       "      <td>105.95</td>\n",
       "      <td>106.480</td>\n",
       "      <td>5163839.0</td>\n",
       "      <td>0.000564</td>\n",
       "      <td>257.56</td>\n",
       "      <td>258.91</td>\n",
       "      <td>241.40</td>\n",
       "      <td>257.71</td>\n",
       "      <td>77555720</td>\n",
       "      <td>0.004130</td>\n",
       "    </tr>\n",
       "    <tr>\n",
       "      <th>2019-01-10 00:00:00-05:00</th>\n",
       "      <td>106.52</td>\n",
       "      <td>106.56</td>\n",
       "      <td>106.33</td>\n",
       "      <td>106.385</td>\n",
       "      <td>3441214.0</td>\n",
       "      <td>-0.000892</td>\n",
       "      <td>256.26</td>\n",
       "      <td>259.16</td>\n",
       "      <td>255.50</td>\n",
       "      <td>258.94</td>\n",
       "      <td>85909797</td>\n",
       "      <td>0.004773</td>\n",
       "    </tr>\n",
       "  </tbody>\n",
       "</table>\n",
       "</div>"
      ],
      "text/plain": [
       "                              AGG                                      \\\n",
       "                             open    high     low    close     volume   \n",
       "time                                                                    \n",
       "2019-01-04 00:00:00-05:00  106.66  106.72  106.55  106.695  7755476.0   \n",
       "2019-01-07 00:00:00-05:00  106.72  106.79  106.46  106.470  6545877.0   \n",
       "2019-01-08 00:00:00-05:00  106.40  106.53  105.53  106.420  3818241.0   \n",
       "2019-01-09 00:00:00-05:00  106.42  106.57  105.95  106.480  5163839.0   \n",
       "2019-01-10 00:00:00-05:00  106.52  106.56  106.33  106.385  3441214.0   \n",
       "\n",
       "                                           SPY                          \\\n",
       "                          daily_return    open    high     low   close   \n",
       "time                                                                     \n",
       "2019-01-04 00:00:00-05:00          NaN  247.59  253.11  247.17  252.41   \n",
       "2019-01-07 00:00:00-05:00    -0.002109  252.69  255.95  251.69  254.40   \n",
       "2019-01-08 00:00:00-05:00    -0.000470  256.82  257.31  254.00  256.65   \n",
       "2019-01-09 00:00:00-05:00     0.000564  257.56  258.91  241.40  257.71   \n",
       "2019-01-10 00:00:00-05:00    -0.000892  256.26  259.16  255.50  258.94   \n",
       "\n",
       "                                                   \n",
       "                              volume daily_return  \n",
       "time                                               \n",
       "2019-01-04 00:00:00-05:00  122528832          NaN  \n",
       "2019-01-07 00:00:00-05:00   88317608     0.007884  \n",
       "2019-01-08 00:00:00-05:00   88864452     0.008844  \n",
       "2019-01-09 00:00:00-05:00   77555720     0.004130  \n",
       "2019-01-10 00:00:00-05:00   85909797     0.004773  "
      ]
     },
     "execution_count": 180,
     "metadata": {},
     "output_type": "execute_result"
    }
   ],
   "source": [
    "# Now we can run our Monte Carlo simulations\n",
    "# This simulation will be a 30 year forecast of cumulative returns\n",
    "# with weights at 40% for AGG (bonds) and 60% for SPY (stocks)\n",
    "# We will run 500 samples at these parameters\n",
    "\n",
    "thirty_year_forecast = MCSimulation(\n",
    "  portfolio_data = closing_prices_df,\n",
    "  weights = [.40,.60],\n",
    "  num_simulation = 500,\n",
    "  num_trading_days = 252*30\n",
    ")\n",
    "# This allows us to review the simulation input data as a dataframe\n",
    "thirty_year_forecast.portfolio_data.head()\n"
   ]
  },
  {
   "cell_type": "code",
   "execution_count": 181,
   "metadata": {},
   "outputs": [
    {
     "name": "stdout",
     "output_type": "stream",
     "text": [
      "Running Monte Carlo simulation number 0.\n",
      "Running Monte Carlo simulation number 10.\n",
      "Running Monte Carlo simulation number 20.\n",
      "Running Monte Carlo simulation number 30.\n",
      "Running Monte Carlo simulation number 40.\n",
      "Running Monte Carlo simulation number 50.\n",
      "Running Monte Carlo simulation number 60.\n",
      "Running Monte Carlo simulation number 70.\n",
      "Running Monte Carlo simulation number 80.\n",
      "Running Monte Carlo simulation number 90.\n",
      "Running Monte Carlo simulation number 100.\n",
      "Running Monte Carlo simulation number 110.\n",
      "Running Monte Carlo simulation number 120.\n",
      "Running Monte Carlo simulation number 130.\n",
      "Running Monte Carlo simulation number 140.\n",
      "Running Monte Carlo simulation number 150.\n",
      "Running Monte Carlo simulation number 160.\n",
      "Running Monte Carlo simulation number 170.\n",
      "Running Monte Carlo simulation number 180.\n",
      "Running Monte Carlo simulation number 190.\n",
      "Running Monte Carlo simulation number 200.\n",
      "Running Monte Carlo simulation number 210.\n",
      "Running Monte Carlo simulation number 220.\n",
      "Running Monte Carlo simulation number 230.\n",
      "Running Monte Carlo simulation number 240.\n",
      "Running Monte Carlo simulation number 250.\n",
      "Running Monte Carlo simulation number 260.\n",
      "Running Monte Carlo simulation number 270.\n",
      "Running Monte Carlo simulation number 280.\n",
      "Running Monte Carlo simulation number 290.\n",
      "Running Monte Carlo simulation number 300.\n",
      "Running Monte Carlo simulation number 310.\n",
      "Running Monte Carlo simulation number 320.\n",
      "Running Monte Carlo simulation number 330.\n",
      "Running Monte Carlo simulation number 340.\n",
      "Running Monte Carlo simulation number 350.\n",
      "Running Monte Carlo simulation number 360.\n",
      "Running Monte Carlo simulation number 370.\n",
      "Running Monte Carlo simulation number 380.\n",
      "Running Monte Carlo simulation number 390.\n",
      "Running Monte Carlo simulation number 400.\n",
      "Running Monte Carlo simulation number 410.\n",
      "Running Monte Carlo simulation number 420.\n",
      "Running Monte Carlo simulation number 430.\n",
      "Running Monte Carlo simulation number 440.\n",
      "Running Monte Carlo simulation number 450.\n",
      "Running Monte Carlo simulation number 460.\n",
      "Running Monte Carlo simulation number 470.\n",
      "Running Monte Carlo simulation number 480.\n",
      "Running Monte Carlo simulation number 490.\n"
     ]
    },
    {
     "data": {
      "text/html": [
       "<div>\n",
       "<style scoped>\n",
       "    .dataframe tbody tr th:only-of-type {\n",
       "        vertical-align: middle;\n",
       "    }\n",
       "\n",
       "    .dataframe tbody tr th {\n",
       "        vertical-align: top;\n",
       "    }\n",
       "\n",
       "    .dataframe thead th {\n",
       "        text-align: right;\n",
       "    }\n",
       "</style>\n",
       "<table border=\"1\" class=\"dataframe\">\n",
       "  <thead>\n",
       "    <tr style=\"text-align: right;\">\n",
       "      <th></th>\n",
       "      <th>0</th>\n",
       "      <th>1</th>\n",
       "      <th>2</th>\n",
       "      <th>3</th>\n",
       "      <th>4</th>\n",
       "      <th>5</th>\n",
       "      <th>6</th>\n",
       "      <th>7</th>\n",
       "      <th>8</th>\n",
       "      <th>9</th>\n",
       "      <th>...</th>\n",
       "      <th>490</th>\n",
       "      <th>491</th>\n",
       "      <th>492</th>\n",
       "      <th>493</th>\n",
       "      <th>494</th>\n",
       "      <th>495</th>\n",
       "      <th>496</th>\n",
       "      <th>497</th>\n",
       "      <th>498</th>\n",
       "      <th>499</th>\n",
       "    </tr>\n",
       "  </thead>\n",
       "  <tbody>\n",
       "    <tr>\n",
       "      <th>0</th>\n",
       "      <td>1.000000</td>\n",
       "      <td>1.000000</td>\n",
       "      <td>1.000000</td>\n",
       "      <td>1.000000</td>\n",
       "      <td>1.000000</td>\n",
       "      <td>1.000000</td>\n",
       "      <td>1.000000</td>\n",
       "      <td>1.000000</td>\n",
       "      <td>1.000000</td>\n",
       "      <td>1.000000</td>\n",
       "      <td>...</td>\n",
       "      <td>1.000000</td>\n",
       "      <td>1.000000</td>\n",
       "      <td>1.000000</td>\n",
       "      <td>1.000000</td>\n",
       "      <td>1.000000</td>\n",
       "      <td>1.000000</td>\n",
       "      <td>1.000000</td>\n",
       "      <td>1.000000</td>\n",
       "      <td>1.000000</td>\n",
       "      <td>1.000000</td>\n",
       "    </tr>\n",
       "    <tr>\n",
       "      <th>1</th>\n",
       "      <td>1.008251</td>\n",
       "      <td>1.017946</td>\n",
       "      <td>0.999164</td>\n",
       "      <td>1.009783</td>\n",
       "      <td>0.991635</td>\n",
       "      <td>1.012113</td>\n",
       "      <td>0.992891</td>\n",
       "      <td>0.995284</td>\n",
       "      <td>1.007044</td>\n",
       "      <td>0.994586</td>\n",
       "      <td>...</td>\n",
       "      <td>0.990084</td>\n",
       "      <td>1.000497</td>\n",
       "      <td>0.990829</td>\n",
       "      <td>0.993656</td>\n",
       "      <td>0.985935</td>\n",
       "      <td>1.000267</td>\n",
       "      <td>1.005754</td>\n",
       "      <td>0.999992</td>\n",
       "      <td>1.007803</td>\n",
       "      <td>0.992085</td>\n",
       "    </tr>\n",
       "    <tr>\n",
       "      <th>2</th>\n",
       "      <td>1.005657</td>\n",
       "      <td>1.019208</td>\n",
       "      <td>0.996983</td>\n",
       "      <td>1.010488</td>\n",
       "      <td>0.990623</td>\n",
       "      <td>1.008698</td>\n",
       "      <td>1.022581</td>\n",
       "      <td>0.996369</td>\n",
       "      <td>1.021732</td>\n",
       "      <td>0.994952</td>\n",
       "      <td>...</td>\n",
       "      <td>0.989995</td>\n",
       "      <td>0.998496</td>\n",
       "      <td>1.009434</td>\n",
       "      <td>0.992170</td>\n",
       "      <td>0.992475</td>\n",
       "      <td>1.002193</td>\n",
       "      <td>0.993042</td>\n",
       "      <td>1.014785</td>\n",
       "      <td>1.021896</td>\n",
       "      <td>0.997760</td>\n",
       "    </tr>\n",
       "    <tr>\n",
       "      <th>3</th>\n",
       "      <td>1.002727</td>\n",
       "      <td>1.024713</td>\n",
       "      <td>1.000133</td>\n",
       "      <td>0.995357</td>\n",
       "      <td>0.984456</td>\n",
       "      <td>1.005783</td>\n",
       "      <td>1.027260</td>\n",
       "      <td>0.993473</td>\n",
       "      <td>1.020142</td>\n",
       "      <td>0.996390</td>\n",
       "      <td>...</td>\n",
       "      <td>0.981560</td>\n",
       "      <td>1.013915</td>\n",
       "      <td>1.002845</td>\n",
       "      <td>0.993407</td>\n",
       "      <td>0.977240</td>\n",
       "      <td>0.999157</td>\n",
       "      <td>0.981525</td>\n",
       "      <td>1.022024</td>\n",
       "      <td>1.012935</td>\n",
       "      <td>1.008912</td>\n",
       "    </tr>\n",
       "    <tr>\n",
       "      <th>4</th>\n",
       "      <td>0.979789</td>\n",
       "      <td>1.020576</td>\n",
       "      <td>0.999691</td>\n",
       "      <td>0.988690</td>\n",
       "      <td>0.980155</td>\n",
       "      <td>1.001076</td>\n",
       "      <td>1.029878</td>\n",
       "      <td>0.999037</td>\n",
       "      <td>1.014187</td>\n",
       "      <td>1.004945</td>\n",
       "      <td>...</td>\n",
       "      <td>0.981084</td>\n",
       "      <td>1.019743</td>\n",
       "      <td>1.009795</td>\n",
       "      <td>0.982667</td>\n",
       "      <td>0.969227</td>\n",
       "      <td>1.014193</td>\n",
       "      <td>0.985838</td>\n",
       "      <td>1.025586</td>\n",
       "      <td>1.016711</td>\n",
       "      <td>1.001772</td>\n",
       "    </tr>\n",
       "    <tr>\n",
       "      <th>...</th>\n",
       "      <td>...</td>\n",
       "      <td>...</td>\n",
       "      <td>...</td>\n",
       "      <td>...</td>\n",
       "      <td>...</td>\n",
       "      <td>...</td>\n",
       "      <td>...</td>\n",
       "      <td>...</td>\n",
       "      <td>...</td>\n",
       "      <td>...</td>\n",
       "      <td>...</td>\n",
       "      <td>...</td>\n",
       "      <td>...</td>\n",
       "      <td>...</td>\n",
       "      <td>...</td>\n",
       "      <td>...</td>\n",
       "      <td>...</td>\n",
       "      <td>...</td>\n",
       "      <td>...</td>\n",
       "      <td>...</td>\n",
       "      <td>...</td>\n",
       "    </tr>\n",
       "    <tr>\n",
       "      <th>7556</th>\n",
       "      <td>12.545651</td>\n",
       "      <td>65.532810</td>\n",
       "      <td>16.666108</td>\n",
       "      <td>70.740574</td>\n",
       "      <td>158.567101</td>\n",
       "      <td>69.200821</td>\n",
       "      <td>89.301425</td>\n",
       "      <td>48.452587</td>\n",
       "      <td>73.841880</td>\n",
       "      <td>89.290899</td>\n",
       "      <td>...</td>\n",
       "      <td>52.429460</td>\n",
       "      <td>272.306718</td>\n",
       "      <td>135.112391</td>\n",
       "      <td>71.432342</td>\n",
       "      <td>60.893268</td>\n",
       "      <td>41.373669</td>\n",
       "      <td>123.501626</td>\n",
       "      <td>184.351974</td>\n",
       "      <td>24.067233</td>\n",
       "      <td>40.687020</td>\n",
       "    </tr>\n",
       "    <tr>\n",
       "      <th>7557</th>\n",
       "      <td>12.682475</td>\n",
       "      <td>67.061397</td>\n",
       "      <td>16.589520</td>\n",
       "      <td>71.044144</td>\n",
       "      <td>156.789086</td>\n",
       "      <td>68.834559</td>\n",
       "      <td>88.849885</td>\n",
       "      <td>48.721942</td>\n",
       "      <td>74.857307</td>\n",
       "      <td>89.599868</td>\n",
       "      <td>...</td>\n",
       "      <td>52.257627</td>\n",
       "      <td>274.982120</td>\n",
       "      <td>136.379236</td>\n",
       "      <td>70.633551</td>\n",
       "      <td>61.596249</td>\n",
       "      <td>41.824873</td>\n",
       "      <td>123.414467</td>\n",
       "      <td>185.783375</td>\n",
       "      <td>23.940887</td>\n",
       "      <td>40.824370</td>\n",
       "    </tr>\n",
       "    <tr>\n",
       "      <th>7558</th>\n",
       "      <td>12.685442</td>\n",
       "      <td>67.736239</td>\n",
       "      <td>16.520522</td>\n",
       "      <td>70.323438</td>\n",
       "      <td>156.825407</td>\n",
       "      <td>69.296911</td>\n",
       "      <td>88.914484</td>\n",
       "      <td>48.678742</td>\n",
       "      <td>74.612772</td>\n",
       "      <td>88.909823</td>\n",
       "      <td>...</td>\n",
       "      <td>52.098893</td>\n",
       "      <td>276.444125</td>\n",
       "      <td>135.921490</td>\n",
       "      <td>69.757836</td>\n",
       "      <td>61.719929</td>\n",
       "      <td>41.276401</td>\n",
       "      <td>123.162458</td>\n",
       "      <td>186.826362</td>\n",
       "      <td>23.855911</td>\n",
       "      <td>40.670921</td>\n",
       "    </tr>\n",
       "    <tr>\n",
       "      <th>7559</th>\n",
       "      <td>12.747623</td>\n",
       "      <td>67.196884</td>\n",
       "      <td>16.323484</td>\n",
       "      <td>70.199224</td>\n",
       "      <td>158.723868</td>\n",
       "      <td>69.535245</td>\n",
       "      <td>88.046565</td>\n",
       "      <td>48.985531</td>\n",
       "      <td>73.472248</td>\n",
       "      <td>89.830281</td>\n",
       "      <td>...</td>\n",
       "      <td>52.257708</td>\n",
       "      <td>276.508568</td>\n",
       "      <td>135.066940</td>\n",
       "      <td>69.222097</td>\n",
       "      <td>61.790692</td>\n",
       "      <td>41.389794</td>\n",
       "      <td>122.296757</td>\n",
       "      <td>189.425789</td>\n",
       "      <td>23.592195</td>\n",
       "      <td>40.931457</td>\n",
       "    </tr>\n",
       "    <tr>\n",
       "      <th>7560</th>\n",
       "      <td>12.748337</td>\n",
       "      <td>67.520470</td>\n",
       "      <td>16.145636</td>\n",
       "      <td>70.131113</td>\n",
       "      <td>158.276989</td>\n",
       "      <td>69.572036</td>\n",
       "      <td>87.949221</td>\n",
       "      <td>48.248966</td>\n",
       "      <td>73.095599</td>\n",
       "      <td>88.774022</td>\n",
       "      <td>...</td>\n",
       "      <td>52.260676</td>\n",
       "      <td>281.013151</td>\n",
       "      <td>136.181038</td>\n",
       "      <td>69.681899</td>\n",
       "      <td>61.219397</td>\n",
       "      <td>41.458585</td>\n",
       "      <td>122.129102</td>\n",
       "      <td>187.871077</td>\n",
       "      <td>23.645301</td>\n",
       "      <td>40.549166</td>\n",
       "    </tr>\n",
       "  </tbody>\n",
       "</table>\n",
       "<p>7561 rows × 500 columns</p>\n",
       "</div>"
      ],
      "text/plain": [
       "            0          1          2          3           4          5    \\\n",
       "0      1.000000   1.000000   1.000000   1.000000    1.000000   1.000000   \n",
       "1      1.008251   1.017946   0.999164   1.009783    0.991635   1.012113   \n",
       "2      1.005657   1.019208   0.996983   1.010488    0.990623   1.008698   \n",
       "3      1.002727   1.024713   1.000133   0.995357    0.984456   1.005783   \n",
       "4      0.979789   1.020576   0.999691   0.988690    0.980155   1.001076   \n",
       "...         ...        ...        ...        ...         ...        ...   \n",
       "7556  12.545651  65.532810  16.666108  70.740574  158.567101  69.200821   \n",
       "7557  12.682475  67.061397  16.589520  71.044144  156.789086  68.834559   \n",
       "7558  12.685442  67.736239  16.520522  70.323438  156.825407  69.296911   \n",
       "7559  12.747623  67.196884  16.323484  70.199224  158.723868  69.535245   \n",
       "7560  12.748337  67.520470  16.145636  70.131113  158.276989  69.572036   \n",
       "\n",
       "            6          7          8          9    ...        490         491  \\\n",
       "0      1.000000   1.000000   1.000000   1.000000  ...   1.000000    1.000000   \n",
       "1      0.992891   0.995284   1.007044   0.994586  ...   0.990084    1.000497   \n",
       "2      1.022581   0.996369   1.021732   0.994952  ...   0.989995    0.998496   \n",
       "3      1.027260   0.993473   1.020142   0.996390  ...   0.981560    1.013915   \n",
       "4      1.029878   0.999037   1.014187   1.004945  ...   0.981084    1.019743   \n",
       "...         ...        ...        ...        ...  ...        ...         ...   \n",
       "7556  89.301425  48.452587  73.841880  89.290899  ...  52.429460  272.306718   \n",
       "7557  88.849885  48.721942  74.857307  89.599868  ...  52.257627  274.982120   \n",
       "7558  88.914484  48.678742  74.612772  88.909823  ...  52.098893  276.444125   \n",
       "7559  88.046565  48.985531  73.472248  89.830281  ...  52.257708  276.508568   \n",
       "7560  87.949221  48.248966  73.095599  88.774022  ...  52.260676  281.013151   \n",
       "\n",
       "             492        493        494        495         496         497  \\\n",
       "0       1.000000   1.000000   1.000000   1.000000    1.000000    1.000000   \n",
       "1       0.990829   0.993656   0.985935   1.000267    1.005754    0.999992   \n",
       "2       1.009434   0.992170   0.992475   1.002193    0.993042    1.014785   \n",
       "3       1.002845   0.993407   0.977240   0.999157    0.981525    1.022024   \n",
       "4       1.009795   0.982667   0.969227   1.014193    0.985838    1.025586   \n",
       "...          ...        ...        ...        ...         ...         ...   \n",
       "7556  135.112391  71.432342  60.893268  41.373669  123.501626  184.351974   \n",
       "7557  136.379236  70.633551  61.596249  41.824873  123.414467  185.783375   \n",
       "7558  135.921490  69.757836  61.719929  41.276401  123.162458  186.826362   \n",
       "7559  135.066940  69.222097  61.790692  41.389794  122.296757  189.425789   \n",
       "7560  136.181038  69.681899  61.219397  41.458585  122.129102  187.871077   \n",
       "\n",
       "            498        499  \n",
       "0      1.000000   1.000000  \n",
       "1      1.007803   0.992085  \n",
       "2      1.021896   0.997760  \n",
       "3      1.012935   1.008912  \n",
       "4      1.016711   1.001772  \n",
       "...         ...        ...  \n",
       "7556  24.067233  40.687020  \n",
       "7557  23.940887  40.824370  \n",
       "7558  23.855911  40.670921  \n",
       "7559  23.592195  40.931457  \n",
       "7560  23.645301  40.549166  \n",
       "\n",
       "[7561 rows x 500 columns]"
      ]
     },
     "execution_count": 181,
     "metadata": {},
     "output_type": "execute_result"
    }
   ],
   "source": [
    "# This is the code to run the Monte Carlo simulation\n",
    "thirty_year_forecast.calc_cumulative_return()"
   ]
  },
  {
   "cell_type": "code",
   "execution_count": 182,
   "metadata": {},
   "outputs": [
    {
     "data": {
      "text/plain": [
       "<AxesSubplot:title={'center':'500 Simulations of Cumulative Portfolio Return Trajectories Over the Next 7560 Trading Days.'}>"
      ]
     },
     "execution_count": 182,
     "metadata": {},
     "output_type": "execute_result"
    },
    {
     "data": {
      "image/png": "[encoded data removed]",
      "text/plain": [
       "<Figure size 432x288 with 1 Axes>"
      ]
     },
     "metadata": {
      "needs_background": "light"
     },
     "output_type": "display_data"
    }
   ],
   "source": [
    "# Here we can visualize the 30 year Monte Carlo simulation by creating an\n",
    "# overlay line plot\n",
    "thirty_year_forecast_line = thirty_year_forecast.plot_simulation()\n",
    "thirty_year_forecast_line"
   ]
  },
  {
   "cell_type": "markdown",
   "metadata": {},
   "source": [
    "#### Step 3: Plot the probability distribution of the Monte Carlo simulation."
   ]
  },
  {
   "cell_type": "code",
   "execution_count": 183,
   "metadata": {},
   "outputs": [
    {
     "data": {
      "text/plain": [
       "<AxesSubplot:title={'center':'Distribution of Final Cumuluative Returns Across All 500 Simulations'}, ylabel='Frequency'>"
      ]
     },
     "execution_count": 183,
     "metadata": {},
     "output_type": "execute_result"
    },
    {
     "data": {
      "image/png": "[encoded data removed]",
      "text/plain": [
       "<Figure size 432x288 with 1 Axes>"
      ]
     },
     "metadata": {
      "needs_background": "light"
     },
     "output_type": "display_data"
    }
   ],
   "source": [
    "# This plot allows us to visualize the probability distribution of the 30 year Monte Carlo simulation \n",
    "# in histogram form\n",
    "thirty_year_plot = thirty_year_forecast.plot_distribution()\n",
    "thirty_year_plot"
   ]
  },
  {
   "cell_type": "markdown",
   "metadata": {},
   "source": [
    "#### Step 4: Generate the summary statistics for the Monte Carlo simulation."
   ]
  },
  {
   "cell_type": "code",
   "execution_count": 94,
   "metadata": {},
   "outputs": [
    {
     "data": {
      "text/plain": [
       "count           500.000000\n",
       "mean             95.372238\n",
       "std              87.738125\n",
       "min               9.233675\n",
       "25%              44.521192\n",
       "50%              71.133047\n",
       "75%             115.654537\n",
       "max             812.807202\n",
       "95% CI Lower     16.266779\n",
       "95% CI Upper    346.511241\n",
       "Name: 7560, dtype: float64"
      ]
     },
     "execution_count": 94,
     "metadata": {},
     "output_type": "execute_result"
    }
   ],
   "source": [
    "# Then we can generate summary statistics from the 30 year Monte Carlo simulation results\n",
    "thirty_year_statistics = thirty_year_forecast.summarize_cumulative_return()\n",
    "\n",
    "# Reviewing the 30 year Monte Carlo summary statistics\n",
    "thirty_year_statistics"
   ]
  },
  {
   "cell_type": "markdown",
   "metadata": {},
   "source": [
    "### Analyze the Retirement Portfolio Forecasts\n",
    "\n",
    "Using the current value of only the stock and bond portion of the member's portfolio and the summary statistics that you generated from the Monte Carlo simulation, answer the following question in your Jupyter notebook:\n",
    "\n",
    "-  What are the lower and upper bounds for the expected value of the portfolio with a 95% confidence interval?\n"
   ]
  },
  {
   "cell_type": "code",
   "execution_count": 95,
   "metadata": {},
   "outputs": [
    {
     "name": "stdout",
     "output_type": "stream",
     "text": [
      "75294.6\n"
     ]
    }
   ],
   "source": [
    "# From previous data above, we will print the current balance of the stock/bond portion of the members portfolio\n",
    "print(total_stocks_bonds)"
   ]
  },
  {
   "cell_type": "code",
   "execution_count": 195,
   "metadata": {},
   "outputs": [
    {
     "name": "stdout",
     "output_type": "stream",
     "text": [
      "There is a 95% chance that an initial investment of $75294.6 in the stocks/bonds portfolio over the next 30 years will end within in the range of $1224800.63 to $26090425.28.\n"
     ]
    }
   ],
   "source": [
    "# From the summary statistics, we can use the lower and upper `95%` confidence intervals\n",
    "# to calculate the range of potential outcomes for the members current stock/bond portfolio\n",
    "ci_lower_thirty_cumulative_return = thirty_year_statistics[8] * total_stocks_bonds\n",
    "ci_upper_thirty_cumulative_return = thirty_year_statistics[9] * total_stocks_bonds\n",
    "\n",
    "# This print statement summarizes the lower and upper ranges\n",
    "print(f\"There is a 95% chance that an initial investment of ${total_stocks_bonds} in the stocks/bonds portfolio\"\n",
    "  f\" over the next 30 years will end within in the range of\"\n",
    "  f\" ${ci_lower_thirty_cumulative_return:.2f} to ${ci_upper_thirty_cumulative_return:.2f}.\")\n"
   ]
  },
  {
   "cell_type": "markdown",
   "metadata": {},
   "source": [
    "### Forecast Cumulative Returns in 10 Years\n",
    "\n",
    "The CTO of the credit union is impressed with your work on these planning tools but wonders if 30 years is a long time to wait until retirement. So, your next task is to adjust the retirement portfolio and run a new Monte Carlo simulation to find out if the changes will allow members to retire earlier.\n",
    "\n",
    "For this new Monte Carlo simulation, do the following: \n",
    "\n",
    "- Forecast the cumulative returns for 10 years from now. Because of the shortened investment horizon (30 years to 10 years), the portfolio needs to invest more heavily in the riskier asset&mdash;that is, stock&mdash;to help accumulate wealth for retirement. \n",
    "\n",
    "- Adjust the weights of the retirement portfolio so that the composition for the Monte Carlo simulation consists of 20% bonds and 80% stocks. \n",
    "\n",
    "- Run the simulation over 500 samples, and use the same data that the API call to Alpaca generated.\n",
    "\n",
    "- Based on the new Monte Carlo simulation, answer the following questions in your Jupyter notebook:\n",
    "\n",
    "    - Using the current value of only the stock and bond portion of the member's portfolio and the summary statistics that you generated from the new Monte Carlo simulation, what are the lower and upper bounds for the expected value of the portfolio (with the new weights) with a 95% confidence interval?\n",
    "\n",
    "    - Will weighting the portfolio more heavily toward stocks allow the credit union members to retire after only 10 years?\n"
   ]
  },
  {
   "cell_type": "code",
   "execution_count": 185,
   "metadata": {},
   "outputs": [
    {
     "data": {
      "text/html": [
       "<div>\n",
       "<style scoped>\n",
       "    .dataframe tbody tr th:only-of-type {\n",
       "        vertical-align: middle;\n",
       "    }\n",
       "\n",
       "    .dataframe tbody tr th {\n",
       "        vertical-align: top;\n",
       "    }\n",
       "\n",
       "    .dataframe thead tr th {\n",
       "        text-align: left;\n",
       "    }\n",
       "\n",
       "    .dataframe thead tr:last-of-type th {\n",
       "        text-align: right;\n",
       "    }\n",
       "</style>\n",
       "<table border=\"1\" class=\"dataframe\">\n",
       "  <thead>\n",
       "    <tr>\n",
       "      <th></th>\n",
       "      <th colspan=\"6\" halign=\"left\">AGG</th>\n",
       "      <th colspan=\"6\" halign=\"left\">SPY</th>\n",
       "    </tr>\n",
       "    <tr>\n",
       "      <th></th>\n",
       "      <th>open</th>\n",
       "      <th>high</th>\n",
       "      <th>low</th>\n",
       "      <th>close</th>\n",
       "      <th>volume</th>\n",
       "      <th>daily_return</th>\n",
       "      <th>open</th>\n",
       "      <th>high</th>\n",
       "      <th>low</th>\n",
       "      <th>close</th>\n",
       "      <th>volume</th>\n",
       "      <th>daily_return</th>\n",
       "    </tr>\n",
       "    <tr>\n",
       "      <th>time</th>\n",
       "      <th></th>\n",
       "      <th></th>\n",
       "      <th></th>\n",
       "      <th></th>\n",
       "      <th></th>\n",
       "      <th></th>\n",
       "      <th></th>\n",
       "      <th></th>\n",
       "      <th></th>\n",
       "      <th></th>\n",
       "      <th></th>\n",
       "      <th></th>\n",
       "    </tr>\n",
       "  </thead>\n",
       "  <tbody>\n",
       "    <tr>\n",
       "      <th>2019-01-04 00:00:00-05:00</th>\n",
       "      <td>106.66</td>\n",
       "      <td>106.72</td>\n",
       "      <td>106.55</td>\n",
       "      <td>106.695</td>\n",
       "      <td>7755476.0</td>\n",
       "      <td>NaN</td>\n",
       "      <td>247.59</td>\n",
       "      <td>253.11</td>\n",
       "      <td>247.17</td>\n",
       "      <td>252.41</td>\n",
       "      <td>122528832</td>\n",
       "      <td>NaN</td>\n",
       "    </tr>\n",
       "    <tr>\n",
       "      <th>2019-01-07 00:00:00-05:00</th>\n",
       "      <td>106.72</td>\n",
       "      <td>106.79</td>\n",
       "      <td>106.46</td>\n",
       "      <td>106.470</td>\n",
       "      <td>6545877.0</td>\n",
       "      <td>-0.002109</td>\n",
       "      <td>252.69</td>\n",
       "      <td>255.95</td>\n",
       "      <td>251.69</td>\n",
       "      <td>254.40</td>\n",
       "      <td>88317608</td>\n",
       "      <td>0.007884</td>\n",
       "    </tr>\n",
       "    <tr>\n",
       "      <th>2019-01-08 00:00:00-05:00</th>\n",
       "      <td>106.40</td>\n",
       "      <td>106.53</td>\n",
       "      <td>105.53</td>\n",
       "      <td>106.420</td>\n",
       "      <td>3818241.0</td>\n",
       "      <td>-0.000470</td>\n",
       "      <td>256.82</td>\n",
       "      <td>257.31</td>\n",
       "      <td>254.00</td>\n",
       "      <td>256.65</td>\n",
       "      <td>88864452</td>\n",
       "      <td>0.008844</td>\n",
       "    </tr>\n",
       "    <tr>\n",
       "      <th>2019-01-09 00:00:00-05:00</th>\n",
       "      <td>106.42</td>\n",
       "      <td>106.57</td>\n",
       "      <td>105.95</td>\n",
       "      <td>106.480</td>\n",
       "      <td>5163839.0</td>\n",
       "      <td>0.000564</td>\n",
       "      <td>257.56</td>\n",
       "      <td>258.91</td>\n",
       "      <td>241.40</td>\n",
       "      <td>257.71</td>\n",
       "      <td>77555720</td>\n",
       "      <td>0.004130</td>\n",
       "    </tr>\n",
       "    <tr>\n",
       "      <th>2019-01-10 00:00:00-05:00</th>\n",
       "      <td>106.52</td>\n",
       "      <td>106.56</td>\n",
       "      <td>106.33</td>\n",
       "      <td>106.385</td>\n",
       "      <td>3441214.0</td>\n",
       "      <td>-0.000892</td>\n",
       "      <td>256.26</td>\n",
       "      <td>259.16</td>\n",
       "      <td>255.50</td>\n",
       "      <td>258.94</td>\n",
       "      <td>85909797</td>\n",
       "      <td>0.004773</td>\n",
       "    </tr>\n",
       "  </tbody>\n",
       "</table>\n",
       "</div>"
      ],
      "text/plain": [
       "                              AGG                                      \\\n",
       "                             open    high     low    close     volume   \n",
       "time                                                                    \n",
       "2019-01-04 00:00:00-05:00  106.66  106.72  106.55  106.695  7755476.0   \n",
       "2019-01-07 00:00:00-05:00  106.72  106.79  106.46  106.470  6545877.0   \n",
       "2019-01-08 00:00:00-05:00  106.40  106.53  105.53  106.420  3818241.0   \n",
       "2019-01-09 00:00:00-05:00  106.42  106.57  105.95  106.480  5163839.0   \n",
       "2019-01-10 00:00:00-05:00  106.52  106.56  106.33  106.385  3441214.0   \n",
       "\n",
       "                                           SPY                          \\\n",
       "                          daily_return    open    high     low   close   \n",
       "time                                                                     \n",
       "2019-01-04 00:00:00-05:00          NaN  247.59  253.11  247.17  252.41   \n",
       "2019-01-07 00:00:00-05:00    -0.002109  252.69  255.95  251.69  254.40   \n",
       "2019-01-08 00:00:00-05:00    -0.000470  256.82  257.31  254.00  256.65   \n",
       "2019-01-09 00:00:00-05:00     0.000564  257.56  258.91  241.40  257.71   \n",
       "2019-01-10 00:00:00-05:00    -0.000892  256.26  259.16  255.50  258.94   \n",
       "\n",
       "                                                   \n",
       "                              volume daily_return  \n",
       "time                                               \n",
       "2019-01-04 00:00:00-05:00  122528832          NaN  \n",
       "2019-01-07 00:00:00-05:00   88317608     0.007884  \n",
       "2019-01-08 00:00:00-05:00   88864452     0.008844  \n",
       "2019-01-09 00:00:00-05:00   77555720     0.004130  \n",
       "2019-01-10 00:00:00-05:00   85909797     0.004773  "
      ]
     },
     "execution_count": 185,
     "metadata": {},
     "output_type": "execute_result"
    }
   ],
   "source": [
    "# This Monte Carlo simulation will be a 10 year forecast of cumulative returns\n",
    "# with weights at 20% for AGG (bonds) and 80% for SPY (stocks)\n",
    "# We will run 500 samples at these parameters\n",
    "ten_year_forecast = MCSimulation(\n",
    "  portfolio_data = closing_prices_df,\n",
    "  weights = [.20,.80],\n",
    "  num_simulation = 500,\n",
    "  num_trading_days = 252*10\n",
    ")\n",
    "# This allows us to review the simulation input data as a dataframe\n",
    "ten_year_forecast.portfolio_data.head()\n"
   ]
  },
  {
   "cell_type": "code",
   "execution_count": 186,
   "metadata": {},
   "outputs": [
    {
     "name": "stdout",
     "output_type": "stream",
     "text": [
      "Running Monte Carlo simulation number 0.\n",
      "Running Monte Carlo simulation number 10.\n",
      "Running Monte Carlo simulation number 20.\n",
      "Running Monte Carlo simulation number 30.\n",
      "Running Monte Carlo simulation number 40.\n",
      "Running Monte Carlo simulation number 50.\n",
      "Running Monte Carlo simulation number 60.\n",
      "Running Monte Carlo simulation number 70.\n",
      "Running Monte Carlo simulation number 80.\n",
      "Running Monte Carlo simulation number 90.\n",
      "Running Monte Carlo simulation number 100.\n",
      "Running Monte Carlo simulation number 110.\n",
      "Running Monte Carlo simulation number 120.\n",
      "Running Monte Carlo simulation number 130.\n",
      "Running Monte Carlo simulation number 140.\n",
      "Running Monte Carlo simulation number 150.\n",
      "Running Monte Carlo simulation number 160.\n",
      "Running Monte Carlo simulation number 170.\n",
      "Running Monte Carlo simulation number 180.\n",
      "Running Monte Carlo simulation number 190.\n",
      "Running Monte Carlo simulation number 200.\n",
      "Running Monte Carlo simulation number 210.\n",
      "Running Monte Carlo simulation number 220.\n",
      "Running Monte Carlo simulation number 230.\n",
      "Running Monte Carlo simulation number 240.\n",
      "Running Monte Carlo simulation number 250.\n",
      "Running Monte Carlo simulation number 260.\n",
      "Running Monte Carlo simulation number 270.\n",
      "Running Monte Carlo simulation number 280.\n",
      "Running Monte Carlo simulation number 290.\n",
      "Running Monte Carlo simulation number 300.\n",
      "Running Monte Carlo simulation number 310.\n",
      "Running Monte Carlo simulation number 320.\n",
      "Running Monte Carlo simulation number 330.\n",
      "Running Monte Carlo simulation number 340.\n",
      "Running Monte Carlo simulation number 350.\n",
      "Running Monte Carlo simulation number 360.\n",
      "Running Monte Carlo simulation number 370.\n",
      "Running Monte Carlo simulation number 380.\n",
      "Running Monte Carlo simulation number 390.\n",
      "Running Monte Carlo simulation number 400.\n",
      "Running Monte Carlo simulation number 410.\n",
      "Running Monte Carlo simulation number 420.\n",
      "Running Monte Carlo simulation number 430.\n",
      "Running Monte Carlo simulation number 440.\n",
      "Running Monte Carlo simulation number 450.\n",
      "Running Monte Carlo simulation number 460.\n",
      "Running Monte Carlo simulation number 470.\n",
      "Running Monte Carlo simulation number 480.\n",
      "Running Monte Carlo simulation number 490.\n"
     ]
    },
    {
     "data": {
      "text/html": [
       "<div>\n",
       "<style scoped>\n",
       "    .dataframe tbody tr th:only-of-type {\n",
       "        vertical-align: middle;\n",
       "    }\n",
       "\n",
       "    .dataframe tbody tr th {\n",
       "        vertical-align: top;\n",
       "    }\n",
       "\n",
       "    .dataframe thead th {\n",
       "        text-align: right;\n",
       "    }\n",
       "</style>\n",
       "<table border=\"1\" class=\"dataframe\">\n",
       "  <thead>\n",
       "    <tr style=\"text-align: right;\">\n",
       "      <th></th>\n",
       "      <th>0</th>\n",
       "      <th>1</th>\n",
       "      <th>2</th>\n",
       "      <th>3</th>\n",
       "      <th>4</th>\n",
       "      <th>5</th>\n",
       "      <th>6</th>\n",
       "      <th>7</th>\n",
       "      <th>8</th>\n",
       "      <th>9</th>\n",
       "      <th>...</th>\n",
       "      <th>490</th>\n",
       "      <th>491</th>\n",
       "      <th>492</th>\n",
       "      <th>493</th>\n",
       "      <th>494</th>\n",
       "      <th>495</th>\n",
       "      <th>496</th>\n",
       "      <th>497</th>\n",
       "      <th>498</th>\n",
       "      <th>499</th>\n",
       "    </tr>\n",
       "  </thead>\n",
       "  <tbody>\n",
       "    <tr>\n",
       "      <th>0</th>\n",
       "      <td>1.000000</td>\n",
       "      <td>1.000000</td>\n",
       "      <td>1.000000</td>\n",
       "      <td>1.000000</td>\n",
       "      <td>1.000000</td>\n",
       "      <td>1.000000</td>\n",
       "      <td>1.000000</td>\n",
       "      <td>1.000000</td>\n",
       "      <td>1.000000</td>\n",
       "      <td>1.000000</td>\n",
       "      <td>...</td>\n",
       "      <td>1.000000</td>\n",
       "      <td>1.000000</td>\n",
       "      <td>1.000000</td>\n",
       "      <td>1.000000</td>\n",
       "      <td>1.000000</td>\n",
       "      <td>1.000000</td>\n",
       "      <td>1.000000</td>\n",
       "      <td>1.000000</td>\n",
       "      <td>1.000000</td>\n",
       "      <td>1.000000</td>\n",
       "    </tr>\n",
       "    <tr>\n",
       "      <th>1</th>\n",
       "      <td>0.985016</td>\n",
       "      <td>1.003399</td>\n",
       "      <td>0.999039</td>\n",
       "      <td>0.997445</td>\n",
       "      <td>1.003634</td>\n",
       "      <td>1.018389</td>\n",
       "      <td>0.997720</td>\n",
       "      <td>0.996554</td>\n",
       "      <td>1.000380</td>\n",
       "      <td>1.004059</td>\n",
       "      <td>...</td>\n",
       "      <td>1.005550</td>\n",
       "      <td>1.008608</td>\n",
       "      <td>0.996638</td>\n",
       "      <td>1.012713</td>\n",
       "      <td>0.993467</td>\n",
       "      <td>1.001799</td>\n",
       "      <td>1.023194</td>\n",
       "      <td>1.005817</td>\n",
       "      <td>0.993152</td>\n",
       "      <td>1.005682</td>\n",
       "    </tr>\n",
       "    <tr>\n",
       "      <th>2</th>\n",
       "      <td>0.976072</td>\n",
       "      <td>1.025562</td>\n",
       "      <td>1.012875</td>\n",
       "      <td>1.004454</td>\n",
       "      <td>1.013621</td>\n",
       "      <td>1.023537</td>\n",
       "      <td>0.990036</td>\n",
       "      <td>0.989386</td>\n",
       "      <td>0.995162</td>\n",
       "      <td>1.007734</td>\n",
       "      <td>...</td>\n",
       "      <td>1.003044</td>\n",
       "      <td>1.012603</td>\n",
       "      <td>1.022670</td>\n",
       "      <td>1.020944</td>\n",
       "      <td>0.988145</td>\n",
       "      <td>0.996599</td>\n",
       "      <td>1.034029</td>\n",
       "      <td>1.010386</td>\n",
       "      <td>1.000962</td>\n",
       "      <td>1.006074</td>\n",
       "    </tr>\n",
       "    <tr>\n",
       "      <th>3</th>\n",
       "      <td>0.956284</td>\n",
       "      <td>1.042456</td>\n",
       "      <td>1.004770</td>\n",
       "      <td>1.008177</td>\n",
       "      <td>1.027996</td>\n",
       "      <td>1.014853</td>\n",
       "      <td>0.971762</td>\n",
       "      <td>1.019512</td>\n",
       "      <td>0.989827</td>\n",
       "      <td>1.000056</td>\n",
       "      <td>...</td>\n",
       "      <td>0.991199</td>\n",
       "      <td>1.030716</td>\n",
       "      <td>1.018179</td>\n",
       "      <td>1.033739</td>\n",
       "      <td>0.994878</td>\n",
       "      <td>0.986720</td>\n",
       "      <td>1.038537</td>\n",
       "      <td>1.005934</td>\n",
       "      <td>0.999806</td>\n",
       "      <td>1.013130</td>\n",
       "    </tr>\n",
       "    <tr>\n",
       "      <th>4</th>\n",
       "      <td>0.971826</td>\n",
       "      <td>1.029207</td>\n",
       "      <td>1.012290</td>\n",
       "      <td>1.002895</td>\n",
       "      <td>1.019134</td>\n",
       "      <td>1.028390</td>\n",
       "      <td>0.972871</td>\n",
       "      <td>1.018750</td>\n",
       "      <td>0.980273</td>\n",
       "      <td>0.992818</td>\n",
       "      <td>...</td>\n",
       "      <td>1.011613</td>\n",
       "      <td>1.017436</td>\n",
       "      <td>1.022559</td>\n",
       "      <td>1.040233</td>\n",
       "      <td>1.004765</td>\n",
       "      <td>0.998807</td>\n",
       "      <td>1.031198</td>\n",
       "      <td>0.991333</td>\n",
       "      <td>0.993013</td>\n",
       "      <td>1.019544</td>\n",
       "    </tr>\n",
       "    <tr>\n",
       "      <th>...</th>\n",
       "      <td>...</td>\n",
       "      <td>...</td>\n",
       "      <td>...</td>\n",
       "      <td>...</td>\n",
       "      <td>...</td>\n",
       "      <td>...</td>\n",
       "      <td>...</td>\n",
       "      <td>...</td>\n",
       "      <td>...</td>\n",
       "      <td>...</td>\n",
       "      <td>...</td>\n",
       "      <td>...</td>\n",
       "      <td>...</td>\n",
       "      <td>...</td>\n",
       "      <td>...</td>\n",
       "      <td>...</td>\n",
       "      <td>...</td>\n",
       "      <td>...</td>\n",
       "      <td>...</td>\n",
       "      <td>...</td>\n",
       "      <td>...</td>\n",
       "    </tr>\n",
       "    <tr>\n",
       "      <th>2516</th>\n",
       "      <td>12.223046</td>\n",
       "      <td>6.241775</td>\n",
       "      <td>3.430916</td>\n",
       "      <td>3.666055</td>\n",
       "      <td>5.055716</td>\n",
       "      <td>5.202516</td>\n",
       "      <td>2.166933</td>\n",
       "      <td>5.449900</td>\n",
       "      <td>6.814777</td>\n",
       "      <td>6.275803</td>\n",
       "      <td>...</td>\n",
       "      <td>6.054284</td>\n",
       "      <td>6.008172</td>\n",
       "      <td>5.296537</td>\n",
       "      <td>9.386568</td>\n",
       "      <td>3.082425</td>\n",
       "      <td>2.312883</td>\n",
       "      <td>4.306192</td>\n",
       "      <td>11.103032</td>\n",
       "      <td>9.180709</td>\n",
       "      <td>5.665356</td>\n",
       "    </tr>\n",
       "    <tr>\n",
       "      <th>2517</th>\n",
       "      <td>12.292073</td>\n",
       "      <td>6.277563</td>\n",
       "      <td>3.437693</td>\n",
       "      <td>3.687540</td>\n",
       "      <td>5.083292</td>\n",
       "      <td>5.206450</td>\n",
       "      <td>2.147033</td>\n",
       "      <td>5.386537</td>\n",
       "      <td>6.887973</td>\n",
       "      <td>6.314969</td>\n",
       "      <td>...</td>\n",
       "      <td>6.088442</td>\n",
       "      <td>6.040889</td>\n",
       "      <td>5.272127</td>\n",
       "      <td>9.384899</td>\n",
       "      <td>3.049493</td>\n",
       "      <td>2.296041</td>\n",
       "      <td>4.327440</td>\n",
       "      <td>11.097071</td>\n",
       "      <td>9.190938</td>\n",
       "      <td>5.649247</td>\n",
       "    </tr>\n",
       "    <tr>\n",
       "      <th>2518</th>\n",
       "      <td>12.171864</td>\n",
       "      <td>6.353060</td>\n",
       "      <td>3.405175</td>\n",
       "      <td>3.713739</td>\n",
       "      <td>5.107116</td>\n",
       "      <td>5.244292</td>\n",
       "      <td>2.164336</td>\n",
       "      <td>5.451186</td>\n",
       "      <td>6.814559</td>\n",
       "      <td>6.323948</td>\n",
       "      <td>...</td>\n",
       "      <td>6.142519</td>\n",
       "      <td>6.145384</td>\n",
       "      <td>5.318392</td>\n",
       "      <td>9.410127</td>\n",
       "      <td>3.063849</td>\n",
       "      <td>2.322490</td>\n",
       "      <td>4.318970</td>\n",
       "      <td>11.210347</td>\n",
       "      <td>9.178697</td>\n",
       "      <td>5.648088</td>\n",
       "    </tr>\n",
       "    <tr>\n",
       "      <th>2519</th>\n",
       "      <td>12.085937</td>\n",
       "      <td>6.426044</td>\n",
       "      <td>3.411955</td>\n",
       "      <td>3.687310</td>\n",
       "      <td>5.139705</td>\n",
       "      <td>5.202365</td>\n",
       "      <td>2.153730</td>\n",
       "      <td>5.520281</td>\n",
       "      <td>6.726399</td>\n",
       "      <td>6.390034</td>\n",
       "      <td>...</td>\n",
       "      <td>6.094601</td>\n",
       "      <td>6.142752</td>\n",
       "      <td>5.291370</td>\n",
       "      <td>9.715190</td>\n",
       "      <td>3.032059</td>\n",
       "      <td>2.260282</td>\n",
       "      <td>4.198701</td>\n",
       "      <td>11.128975</td>\n",
       "      <td>9.305114</td>\n",
       "      <td>5.703916</td>\n",
       "    </tr>\n",
       "    <tr>\n",
       "      <th>2520</th>\n",
       "      <td>12.116551</td>\n",
       "      <td>6.339802</td>\n",
       "      <td>3.430229</td>\n",
       "      <td>3.672618</td>\n",
       "      <td>5.180279</td>\n",
       "      <td>5.246554</td>\n",
       "      <td>2.168649</td>\n",
       "      <td>5.500707</td>\n",
       "      <td>6.857823</td>\n",
       "      <td>6.367678</td>\n",
       "      <td>...</td>\n",
       "      <td>6.049339</td>\n",
       "      <td>6.058558</td>\n",
       "      <td>5.247059</td>\n",
       "      <td>9.784107</td>\n",
       "      <td>3.040080</td>\n",
       "      <td>2.227745</td>\n",
       "      <td>4.220757</td>\n",
       "      <td>11.462679</td>\n",
       "      <td>9.371041</td>\n",
       "      <td>5.774277</td>\n",
       "    </tr>\n",
       "  </tbody>\n",
       "</table>\n",
       "<p>2521 rows × 500 columns</p>\n",
       "</div>"
      ],
      "text/plain": [
       "            0         1         2         3         4         5         6    \\\n",
       "0      1.000000  1.000000  1.000000  1.000000  1.000000  1.000000  1.000000   \n",
       "1      0.985016  1.003399  0.999039  0.997445  1.003634  1.018389  0.997720   \n",
       "2      0.976072  1.025562  1.012875  1.004454  1.013621  1.023537  0.990036   \n",
       "3      0.956284  1.042456  1.004770  1.008177  1.027996  1.014853  0.971762   \n",
       "4      0.971826  1.029207  1.012290  1.002895  1.019134  1.028390  0.972871   \n",
       "...         ...       ...       ...       ...       ...       ...       ...   \n",
       "2516  12.223046  6.241775  3.430916  3.666055  5.055716  5.202516  2.166933   \n",
       "2517  12.292073  6.277563  3.437693  3.687540  5.083292  5.206450  2.147033   \n",
       "2518  12.171864  6.353060  3.405175  3.713739  5.107116  5.244292  2.164336   \n",
       "2519  12.085937  6.426044  3.411955  3.687310  5.139705  5.202365  2.153730   \n",
       "2520  12.116551  6.339802  3.430229  3.672618  5.180279  5.246554  2.168649   \n",
       "\n",
       "           7         8         9    ...       490       491       492  \\\n",
       "0     1.000000  1.000000  1.000000  ...  1.000000  1.000000  1.000000   \n",
       "1     0.996554  1.000380  1.004059  ...  1.005550  1.008608  0.996638   \n",
       "2     0.989386  0.995162  1.007734  ...  1.003044  1.012603  1.022670   \n",
       "3     1.019512  0.989827  1.000056  ...  0.991199  1.030716  1.018179   \n",
       "4     1.018750  0.980273  0.992818  ...  1.011613  1.017436  1.022559   \n",
       "...        ...       ...       ...  ...       ...       ...       ...   \n",
       "2516  5.449900  6.814777  6.275803  ...  6.054284  6.008172  5.296537   \n",
       "2517  5.386537  6.887973  6.314969  ...  6.088442  6.040889  5.272127   \n",
       "2518  5.451186  6.814559  6.323948  ...  6.142519  6.145384  5.318392   \n",
       "2519  5.520281  6.726399  6.390034  ...  6.094601  6.142752  5.291370   \n",
       "2520  5.500707  6.857823  6.367678  ...  6.049339  6.058558  5.247059   \n",
       "\n",
       "           493       494       495       496        497       498       499  \n",
       "0     1.000000  1.000000  1.000000  1.000000   1.000000  1.000000  1.000000  \n",
       "1     1.012713  0.993467  1.001799  1.023194   1.005817  0.993152  1.005682  \n",
       "2     1.020944  0.988145  0.996599  1.034029   1.010386  1.000962  1.006074  \n",
       "3     1.033739  0.994878  0.986720  1.038537   1.005934  0.999806  1.013130  \n",
       "4     1.040233  1.004765  0.998807  1.031198   0.991333  0.993013  1.019544  \n",
       "...        ...       ...       ...       ...        ...       ...       ...  \n",
       "2516  9.386568  3.082425  2.312883  4.306192  11.103032  9.180709  5.665356  \n",
       "2517  9.384899  3.049493  2.296041  4.327440  11.097071  9.190938  5.649247  \n",
       "2518  9.410127  3.063849  2.322490  4.318970  11.210347  9.178697  5.648088  \n",
       "2519  9.715190  3.032059  2.260282  4.198701  11.128975  9.305114  5.703916  \n",
       "2520  9.784107  3.040080  2.227745  4.220757  11.462679  9.371041  5.774277  \n",
       "\n",
       "[2521 rows x 500 columns]"
      ]
     },
     "execution_count": 186,
     "metadata": {},
     "output_type": "execute_result"
    }
   ],
   "source": [
    "# This is the code to run the Monte Carlo simulation\n",
    "ten_year_forecast.calc_cumulative_return()"
   ]
  },
  {
   "cell_type": "code",
   "execution_count": 187,
   "metadata": {},
   "outputs": [
    {
     "data": {
      "text/plain": [
       "<AxesSubplot:title={'center':'500 Simulations of Cumulative Portfolio Return Trajectories Over the Next 2520 Trading Days.'}>"
      ]
     },
     "execution_count": 187,
     "metadata": {},
     "output_type": "execute_result"
    },
    {
     "data": {
      "image/png": "[encoded data removed]",
      "text/plain": [
       "<Figure size 432x288 with 1 Axes>"
      ]
     },
     "metadata": {
      "needs_background": "light"
     },
     "output_type": "display_data"
    }
   ],
   "source": [
    "# Here we can visualize the 10 year Monte Carlo simulation by creating an\n",
    "# overlay line plot\n",
    "ten_year_forecast_line = ten_year_forecast.plot_simulation()\n",
    "ten_year_forecast_line"
   ]
  },
  {
   "cell_type": "code",
   "execution_count": 188,
   "metadata": {},
   "outputs": [
    {
     "data": {
      "text/plain": [
       "<AxesSubplot:title={'center':'Distribution of Final Cumuluative Returns Across All 500 Simulations'}, ylabel='Frequency'>"
      ]
     },
     "execution_count": 188,
     "metadata": {},
     "output_type": "execute_result"
    },
    {
     "data": {
      "image/png": "[encoded data removed]",
      "text/plain": [
       "<Figure size 432x288 with 1 Axes>"
      ]
     },
     "metadata": {
      "needs_background": "light"
     },
     "output_type": "display_data"
    }
   ],
   "source": [
    "# This plot allows us to visualize the probability distribution of the 10 year Monte Carlo simulation \n",
    "# in histogram form\n",
    "ten_year_plot = ten_year_forecast.plot_distribution()\n",
    "ten_year_plot"
   ]
  },
  {
   "cell_type": "code",
   "execution_count": 190,
   "metadata": {},
   "outputs": [
    {
     "data": {
      "text/plain": [
       "count           500.000000\n",
       "mean              7.272947\n",
       "std               4.700850\n",
       "min               1.205218\n",
       "25%               4.128273\n",
       "50%               6.303788\n",
       "75%               8.868527\n",
       "max              34.113938\n",
       "95% CI Lower      1.978763\n",
       "95% CI Upper     18.913465\n",
       "Name: 2520, dtype: float64"
      ]
     },
     "execution_count": 190,
     "metadata": {},
     "output_type": "execute_result"
    }
   ],
   "source": [
    "# Then we can generate summary statistics from the 10 year Monte Carlo simulation results\n",
    "ten_year_statistics = ten_year_forecast.summarize_cumulative_return()\n",
    "\n",
    "# Reviewing the 10 year Monte Carlo summary statistics\n",
    "ten_year_statistics"
   ]
  },
  {
   "cell_type": "markdown",
   "metadata": {},
   "source": [
    "### Answer the following questions:"
   ]
  },
  {
   "cell_type": "markdown",
   "metadata": {},
   "source": [
    "#### Question: Using the current value of only the stock and bond portion of the member's portfolio and the summary statistics that you generated from the new Monte Carlo simulation, what are the lower and upper bounds for the expected value of the portfolio (with the new weights) with a 95% confidence interval?"
   ]
  },
  {
   "cell_type": "code",
   "execution_count": 191,
   "metadata": {},
   "outputs": [
    {
     "name": "stdout",
     "output_type": "stream",
     "text": [
      "75294.6\n"
     ]
    }
   ],
   "source": [
    "# As above, from previous data we will print the current balance of the stock/bond portion of the members portfolio\n",
    "print(total_stocks_bonds)"
   ]
  },
  {
   "cell_type": "code",
   "execution_count": 198,
   "metadata": {},
   "outputs": [
    {
     "name": "stdout",
     "output_type": "stream",
     "text": [
      "There is a 95% chance that an initial investment of $75294.6 in the stocks/bonds portfolio over the next 10 years will end within in the range of $148990.21 to $1424081.75.\n"
     ]
    }
   ],
   "source": [
    "# From the summary statistics, again we can use the lower and upper `95%` confidence intervals\n",
    "# to calculate the range of potential outcomes for the members current stock/bond portfolio\n",
    "ci_lower_ten_cumulative_return = ten_year_statistics[8] * total_stocks_bonds\n",
    "ci_upper_ten_cumulative_return = ten_year_statistics[9] * total_stocks_bonds\n",
    "\n",
    "# This print statement summarizes the lower and upper ranges\n",
    "print(f\"There is a 95% chance that an initial investment of ${total_stocks_bonds} in the stocks/bonds portfolio\"\n",
    "  f\" over the next 10 years will end within in the range of\"\n",
    "  f\" ${ci_lower_ten_cumulative_return:.2f} to ${ci_upper_ten_cumulative_return:.2f}.\")\n"
   ]
  },
  {
   "cell_type": "markdown",
   "metadata": {},
   "source": [
    "#### Question: Will weighting the portfolio more heavily to stocks allow the credit union members to retire after only 10 years?"
   ]
  },
  {
   "cell_type": "markdown",
   "metadata": {},
   "source": [
    "**Answer** Many factors should be considered when deciding an appropriate age to retire. Historically, the recommended withdrawal distribution has been 4% of ones retirement savings per year. Therefore one should consider not only what age to retire, but also the estimated life expectancy, which itself has multiple factors. Another consideration would be to determine if one wants to spend down the retirement principle savings or preserve the principal savings, for reasons such as health expenses may increase with age (unexpected injury, long-term illness, need for assisted living or in home nursing care to name a few), or to be able to leave an inheritance to family members. One must also consider other investments and savings outside of the above mentioned retirement plan. Choosing to retire after 10 years will involve significantly more risk than retiring at 30 years. One can also see that there is not much difference between the lower range for the 30 year plan vs the high range of the 10 year plan. My advice to these clients would be to stick with the 30 year plan as this will allow less risk, and very likely will have higher returns."
   ]
  },
  {
   "cell_type": "code",
   "execution_count": null,
   "metadata": {},
   "outputs": [],
   "source": []
  }
 ],
 "metadata": {
  "kernelspec": {
   "display_name": "Python (dev)",
   "language": "python",
   "name": "dev"
  },
  "language_info": {
   "codemirror_mode": {
    "name": "ipython",
    "version": 3
   },
   "file_extension": ".py",
   "mimetype": "text/x-python",
   "name": "python",
   "nbconvert_exporter": "python",
   "pygments_lexer": "ipython3",
   "version": "3.7.10"
  }
 },
 "nbformat": 4,
 "nbformat_minor": 4
}
